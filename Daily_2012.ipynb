{
 "cells": [
  {
   "cell_type": "code",
   "execution_count": 1,
   "metadata": {},
   "outputs": [
    {
     "name": "stdout",
     "output_type": "stream",
     "text": [
      "Hello World!\n"
     ]
    }
   ],
   "source": [
    "print(\"Hello World!\")"
   ]
  },
  {
   "cell_type": "code",
   "execution_count": 2,
   "metadata": {},
   "outputs": [],
   "source": [
    "# importing relevant modules\n",
    "import numpy as np\n",
    "import pandas as pd \n",
    "import matplotlib.pyplot as plt\n",
    "import seaborn as sns\n",
    "import scipy.stats as stats\n",
    "from scipy.stats import uniform\n",
    "from datetime import datetime"
   ]
  },
  {
   "cell_type": "markdown",
   "metadata": {},
   "source": [
    "## Capital Bike Share"
   ]
  },
  {
   "cell_type": "markdown",
   "metadata": {},
   "source": [
    "## Loading Daily Dataset"
   ]
  },
  {
   "cell_type": "code",
   "execution_count": 3,
   "metadata": {},
   "outputs": [
    {
     "name": "stderr",
     "output_type": "stream",
     "text": [
      "C:\\Users\\godwi\\AppData\\Local\\Temp\\ipykernel_26616\\530290872.py:2: ParserWarning: Falling back to the 'python' engine because the 'c' engine does not support sep=None with delim_whitespace=False; you can avoid this warning by specifying engine='python'.\n",
      "  day=pd.read_csv(r\"C:\\Users\\godwi\\OneDrive\\Desktop\\Bike Sharing Analysis\\CBS_2011-2012_daily.csv\", sep=None)\n"
     ]
    }
   ],
   "source": [
    "# loading csv file\n",
    "day=pd.read_csv(r\"C:\\Users\\godwi\\OneDrive\\Desktop\\Bike Sharing Analysis\\CBS_2011-2012_daily.csv\", sep=None)"
   ]
  },
  {
   "cell_type": "code",
   "execution_count": 4,
   "metadata": {},
   "outputs": [
    {
     "name": "stdout",
     "output_type": "stream",
     "text": [
      "<class 'pandas.core.frame.DataFrame'>\n",
      "RangeIndex: 731 entries, 0 to 730\n",
      "Data columns (total 16 columns):\n",
      " #   Column      Non-Null Count  Dtype  \n",
      "---  ------      --------------  -----  \n",
      " 0   instant     731 non-null    int64  \n",
      " 1   dteday      731 non-null    object \n",
      " 2   season      731 non-null    int64  \n",
      " 3   yr          731 non-null    int64  \n",
      " 4   mnth        731 non-null    int64  \n",
      " 5   holiday     731 non-null    int64  \n",
      " 6   weekday     731 non-null    int64  \n",
      " 7   workingday  731 non-null    int64  \n",
      " 8   weathersit  731 non-null    int64  \n",
      " 9   temp        731 non-null    float64\n",
      " 10  atemp       731 non-null    float64\n",
      " 11  hum         731 non-null    float64\n",
      " 12  windspeed   731 non-null    float64\n",
      " 13  casual      731 non-null    int64  \n",
      " 14  registered  731 non-null    int64  \n",
      " 15  cnt         731 non-null    int64  \n",
      "dtypes: float64(4), int64(11), object(1)\n",
      "memory usage: 91.5+ KB\n"
     ]
    }
   ],
   "source": [
    "# getting summary of Data set\n",
    "day.info()"
   ]
  },
  {
   "cell_type": "markdown",
   "metadata": {},
   "source": [
    "## Data Wrangling"
   ]
  },
  {
   "cell_type": "markdown",
   "metadata": {},
   "source": [
    "Checking for missing values"
   ]
  },
  {
   "cell_type": "code",
   "execution_count": 5,
   "metadata": {},
   "outputs": [
    {
     "data": {
      "text/plain": [
       "instant       0\n",
       "dteday        0\n",
       "season        0\n",
       "yr            0\n",
       "mnth          0\n",
       "holiday       0\n",
       "weekday       0\n",
       "workingday    0\n",
       "weathersit    0\n",
       "temp          0\n",
       "atemp         0\n",
       "hum           0\n",
       "windspeed     0\n",
       "casual        0\n",
       "registered    0\n",
       "cnt           0\n",
       "dtype: int64"
      ]
     },
     "execution_count": 5,
     "metadata": {},
     "output_type": "execute_result"
    }
   ],
   "source": [
    "day.isnull().sum()\n",
    "\n",
    "#There are no missing values"
   ]
  },
  {
   "cell_type": "markdown",
   "metadata": {},
   "source": [
    "Renaming some features"
   ]
  },
  {
   "cell_type": "code",
   "execution_count": 6,
   "metadata": {},
   "outputs": [],
   "source": [
    "## renaming some features\n",
    "day.rename(columns={'cnt':\"Total_rides\",\"hr\":\"Hour\",\"windspeed\":\"Windspeed\",\"is_holiday\":\"Is_holiday\",\"holiday\":\"Holiday\",\"workingday\":\"Workingday\", \"hum\":\"Relative humidty (%)\",\"dteday\":\"Date\",\"season\":\"Season\",\"casual\":\"Casual\",\"registered\":\"Registered\",\"atemp\":\"Apparent Temperature(°C)\" ,\"temp\":\"Temperature(°C)\"}, inplace=True)"
   ]
  },
  {
   "cell_type": "code",
   "execution_count": 7,
   "metadata": {},
   "outputs": [],
   "source": [
    "day.drop([\"yr\",\"mnth\",\"weathersit\", \"weekday\"], inplace=True, axis=1)"
   ]
  },
  {
   "cell_type": "code",
   "execution_count": 8,
   "metadata": {},
   "outputs": [
    {
     "data": {
      "text/html": [
       "<div>\n",
       "<style scoped>\n",
       "    .dataframe tbody tr th:only-of-type {\n",
       "        vertical-align: middle;\n",
       "    }\n",
       "\n",
       "    .dataframe tbody tr th {\n",
       "        vertical-align: top;\n",
       "    }\n",
       "\n",
       "    .dataframe thead th {\n",
       "        text-align: right;\n",
       "    }\n",
       "</style>\n",
       "<table border=\"1\" class=\"dataframe\">\n",
       "  <thead>\n",
       "    <tr style=\"text-align: right;\">\n",
       "      <th></th>\n",
       "      <th>instant</th>\n",
       "      <th>Date</th>\n",
       "      <th>Season</th>\n",
       "      <th>Holiday</th>\n",
       "      <th>Workingday</th>\n",
       "      <th>Temperature(°C)</th>\n",
       "      <th>Apparent Temperature(°C)</th>\n",
       "      <th>Relative humidty (%)</th>\n",
       "      <th>Windspeed</th>\n",
       "      <th>Casual</th>\n",
       "      <th>Registered</th>\n",
       "      <th>Total_rides</th>\n",
       "    </tr>\n",
       "  </thead>\n",
       "  <tbody>\n",
       "    <tr>\n",
       "      <th>0</th>\n",
       "      <td>1</td>\n",
       "      <td>2011-01-01</td>\n",
       "      <td>1</td>\n",
       "      <td>0</td>\n",
       "      <td>0</td>\n",
       "      <td>0.344167</td>\n",
       "      <td>0.363625</td>\n",
       "      <td>0.805833</td>\n",
       "      <td>0.160446</td>\n",
       "      <td>331</td>\n",
       "      <td>654</td>\n",
       "      <td>985</td>\n",
       "    </tr>\n",
       "    <tr>\n",
       "      <th>1</th>\n",
       "      <td>2</td>\n",
       "      <td>2011-01-02</td>\n",
       "      <td>1</td>\n",
       "      <td>0</td>\n",
       "      <td>0</td>\n",
       "      <td>0.363478</td>\n",
       "      <td>0.353739</td>\n",
       "      <td>0.696087</td>\n",
       "      <td>0.248539</td>\n",
       "      <td>131</td>\n",
       "      <td>670</td>\n",
       "      <td>801</td>\n",
       "    </tr>\n",
       "    <tr>\n",
       "      <th>2</th>\n",
       "      <td>3</td>\n",
       "      <td>2011-01-03</td>\n",
       "      <td>1</td>\n",
       "      <td>0</td>\n",
       "      <td>1</td>\n",
       "      <td>0.196364</td>\n",
       "      <td>0.189405</td>\n",
       "      <td>0.437273</td>\n",
       "      <td>0.248309</td>\n",
       "      <td>120</td>\n",
       "      <td>1229</td>\n",
       "      <td>1349</td>\n",
       "    </tr>\n",
       "    <tr>\n",
       "      <th>3</th>\n",
       "      <td>4</td>\n",
       "      <td>2011-01-04</td>\n",
       "      <td>1</td>\n",
       "      <td>0</td>\n",
       "      <td>1</td>\n",
       "      <td>0.200000</td>\n",
       "      <td>0.212122</td>\n",
       "      <td>0.590435</td>\n",
       "      <td>0.160296</td>\n",
       "      <td>108</td>\n",
       "      <td>1454</td>\n",
       "      <td>1562</td>\n",
       "    </tr>\n",
       "    <tr>\n",
       "      <th>4</th>\n",
       "      <td>5</td>\n",
       "      <td>2011-01-05</td>\n",
       "      <td>1</td>\n",
       "      <td>0</td>\n",
       "      <td>1</td>\n",
       "      <td>0.226957</td>\n",
       "      <td>0.229270</td>\n",
       "      <td>0.436957</td>\n",
       "      <td>0.186900</td>\n",
       "      <td>82</td>\n",
       "      <td>1518</td>\n",
       "      <td>1600</td>\n",
       "    </tr>\n",
       "  </tbody>\n",
       "</table>\n",
       "</div>"
      ],
      "text/plain": [
       "   instant        Date  Season  Holiday  Workingday  Temperature(°C)  \\\n",
       "0        1  2011-01-01       1        0           0         0.344167   \n",
       "1        2  2011-01-02       1        0           0         0.363478   \n",
       "2        3  2011-01-03       1        0           1         0.196364   \n",
       "3        4  2011-01-04       1        0           1         0.200000   \n",
       "4        5  2011-01-05       1        0           1         0.226957   \n",
       "\n",
       "   Apparent Temperature(°C)  Relative humidty (%)  Windspeed  Casual  \\\n",
       "0                  0.363625              0.805833   0.160446     331   \n",
       "1                  0.353739              0.696087   0.248539     131   \n",
       "2                  0.189405              0.437273   0.248309     120   \n",
       "3                  0.212122              0.590435   0.160296     108   \n",
       "4                  0.229270              0.436957   0.186900      82   \n",
       "\n",
       "   Registered  Total_rides  \n",
       "0         654          985  \n",
       "1         670          801  \n",
       "2        1229         1349  \n",
       "3        1454         1562  \n",
       "4        1518         1600  "
      ]
     },
     "execution_count": 8,
     "metadata": {},
     "output_type": "execute_result"
    }
   ],
   "source": [
    "day.head()"
   ]
  },
  {
   "cell_type": "markdown",
   "metadata": {},
   "source": [
    "Creating of new columns"
   ]
  },
  {
   "cell_type": "code",
   "execution_count": 9,
   "metadata": {},
   "outputs": [],
   "source": [
    "#Year\n",
    "# Extract year from the 'Date' column\n",
    "day['Year'] = pd.to_datetime(day['Date']).dt.year"
   ]
  },
  {
   "cell_type": "code",
   "execution_count": 10,
   "metadata": {},
   "outputs": [],
   "source": [
    "day.loc[day['Holiday'] == 0, 'Is_holiday'] = 'No'\n",
    "day.loc[day['Holiday'] == 1, 'Is_holiday'] = 'Yes'"
   ]
  },
  {
   "cell_type": "code",
   "execution_count": 11,
   "metadata": {},
   "outputs": [],
   "source": [
    "#Season\n",
    "# Function to get season\n",
    "def get_season(month):\n",
    "    if month in [12, 1, 2]:\n",
    "        return \"Winter\"\n",
    "    elif month in [3, 4, 5]:\n",
    "        return \"Spring\"\n",
    "    elif month in [6, 7, 8]:\n",
    "        return \"Summer\"\n",
    "    elif month in [9, 10, 11]:\n",
    "        return \"Fall\"\n",
    "\n",
    "# Function to categorize season based on date\n",
    "def categorize_season(date):\n",
    "    dt = datetime.strptime(date, \"%Y-%m-%d\")\n",
    "    month = dt.month\n",
    "    return get_season(month)\n",
    "\n",
    "# Apply function to create a new column\n",
    "day['Season'] = day['Date'].apply(categorize_season)\n"
   ]
  },
  {
   "cell_type": "code",
   "execution_count": 12,
   "metadata": {},
   "outputs": [],
   "source": [
    "##WEEKDAY\n",
    "# Function to get weekday\n",
    "def get_weekday(day):\n",
    "    weekdays = [\"Mon.\", \"Tue.\", \"Wed.\", \"Thur.\", \"Fri.\", \"Sat.\", \"Sun.\"]\n",
    "    return weekdays[day]\n",
    "\n",
    "# Function to categorize weekday based on date\n",
    "def categorize_week(date):\n",
    "    dt = datetime.strptime(date, \"%Y-%m-%d\")\n",
    "    weekday = dt.weekday()  # 0 for Monday, 1 for Tuesday, ..., 6 for Sunday\n",
    "    return get_weekday(weekday)\n",
    "\n",
    "# Apply function to create a new column\n",
    "day['Weekday'] = day['Date'].apply(categorize_week)"
   ]
  },
  {
   "cell_type": "code",
   "execution_count": 13,
   "metadata": {},
   "outputs": [],
   "source": [
    "def categorize_day(Weekday):\n",
    "    if Weekday in ['Mon.', 'Tue.', 'Wed.', 'Thur.', 'Fri.']:\n",
    "        return 'Workingday'\n",
    "    else:\n",
    "        return 'Weekend'\n",
    "\n",
    "# Apply this function to create a new column 'Day_cat'\n",
    "day['Workingday'] = day['Weekday'].apply(categorize_day)\n"
   ]
  },
  {
   "cell_type": "code",
   "execution_count": 14,
   "metadata": {},
   "outputs": [],
   "source": [
    "day.loc[day['Workingday'] == \"Weekend\", 'Workingday'] = 'No'\n",
    "day.loc[day['Workingday'] == \"Workingday\", 'Workingday'] = 'Yes'"
   ]
  },
  {
   "cell_type": "code",
   "execution_count": 15,
   "metadata": {},
   "outputs": [],
   "source": [
    "#Month\n",
    "# Function to get month\n",
    "def get_month(month):\n",
    "    months = [\"Jan.\", \"Feb.\", \"Mar.\", \"Apr.\", \"May\", \"Jun.\", \"Jul.\", \"Aug.\", \"Sep.\", \"Oct.\", \"Nov.\", \"Dec.\"]\n",
    "    return months[month - 1]\n",
    "\n",
    "# Function to categorize month based on date\n",
    "def categorize_month(date):\n",
    "    dt = datetime.strptime(date, \"%Y-%m-%d\")\n",
    "    month = dt.month\n",
    "    return get_month(month)\n",
    "\n",
    "# Apply function to create a new column\n",
    "day['Month'] = day['Date'].apply(categorize_month)"
   ]
  },
  {
   "cell_type": "code",
   "execution_count": 16,
   "metadata": {},
   "outputs": [
    {
     "data": {
      "text/html": [
       "<div>\n",
       "<style scoped>\n",
       "    .dataframe tbody tr th:only-of-type {\n",
       "        vertical-align: middle;\n",
       "    }\n",
       "\n",
       "    .dataframe tbody tr th {\n",
       "        vertical-align: top;\n",
       "    }\n",
       "\n",
       "    .dataframe thead th {\n",
       "        text-align: right;\n",
       "    }\n",
       "</style>\n",
       "<table border=\"1\" class=\"dataframe\">\n",
       "  <thead>\n",
       "    <tr style=\"text-align: right;\">\n",
       "      <th></th>\n",
       "      <th>instant</th>\n",
       "      <th>Date</th>\n",
       "      <th>Season</th>\n",
       "      <th>Holiday</th>\n",
       "      <th>Workingday</th>\n",
       "      <th>Temperature(°C)</th>\n",
       "      <th>Apparent Temperature(°C)</th>\n",
       "      <th>Relative humidty (%)</th>\n",
       "      <th>Windspeed</th>\n",
       "      <th>Casual</th>\n",
       "      <th>Registered</th>\n",
       "      <th>Total_rides</th>\n",
       "      <th>Year</th>\n",
       "      <th>Is_holiday</th>\n",
       "      <th>Weekday</th>\n",
       "      <th>Month</th>\n",
       "    </tr>\n",
       "  </thead>\n",
       "  <tbody>\n",
       "    <tr>\n",
       "      <th>0</th>\n",
       "      <td>1</td>\n",
       "      <td>2011-01-01</td>\n",
       "      <td>Winter</td>\n",
       "      <td>0</td>\n",
       "      <td>No</td>\n",
       "      <td>0.344167</td>\n",
       "      <td>0.363625</td>\n",
       "      <td>0.805833</td>\n",
       "      <td>0.160446</td>\n",
       "      <td>331</td>\n",
       "      <td>654</td>\n",
       "      <td>985</td>\n",
       "      <td>2011</td>\n",
       "      <td>No</td>\n",
       "      <td>Sat.</td>\n",
       "      <td>Jan.</td>\n",
       "    </tr>\n",
       "    <tr>\n",
       "      <th>1</th>\n",
       "      <td>2</td>\n",
       "      <td>2011-01-02</td>\n",
       "      <td>Winter</td>\n",
       "      <td>0</td>\n",
       "      <td>No</td>\n",
       "      <td>0.363478</td>\n",
       "      <td>0.353739</td>\n",
       "      <td>0.696087</td>\n",
       "      <td>0.248539</td>\n",
       "      <td>131</td>\n",
       "      <td>670</td>\n",
       "      <td>801</td>\n",
       "      <td>2011</td>\n",
       "      <td>No</td>\n",
       "      <td>Sun.</td>\n",
       "      <td>Jan.</td>\n",
       "    </tr>\n",
       "    <tr>\n",
       "      <th>2</th>\n",
       "      <td>3</td>\n",
       "      <td>2011-01-03</td>\n",
       "      <td>Winter</td>\n",
       "      <td>0</td>\n",
       "      <td>Yes</td>\n",
       "      <td>0.196364</td>\n",
       "      <td>0.189405</td>\n",
       "      <td>0.437273</td>\n",
       "      <td>0.248309</td>\n",
       "      <td>120</td>\n",
       "      <td>1229</td>\n",
       "      <td>1349</td>\n",
       "      <td>2011</td>\n",
       "      <td>No</td>\n",
       "      <td>Mon.</td>\n",
       "      <td>Jan.</td>\n",
       "    </tr>\n",
       "    <tr>\n",
       "      <th>3</th>\n",
       "      <td>4</td>\n",
       "      <td>2011-01-04</td>\n",
       "      <td>Winter</td>\n",
       "      <td>0</td>\n",
       "      <td>Yes</td>\n",
       "      <td>0.200000</td>\n",
       "      <td>0.212122</td>\n",
       "      <td>0.590435</td>\n",
       "      <td>0.160296</td>\n",
       "      <td>108</td>\n",
       "      <td>1454</td>\n",
       "      <td>1562</td>\n",
       "      <td>2011</td>\n",
       "      <td>No</td>\n",
       "      <td>Tue.</td>\n",
       "      <td>Jan.</td>\n",
       "    </tr>\n",
       "    <tr>\n",
       "      <th>4</th>\n",
       "      <td>5</td>\n",
       "      <td>2011-01-05</td>\n",
       "      <td>Winter</td>\n",
       "      <td>0</td>\n",
       "      <td>Yes</td>\n",
       "      <td>0.226957</td>\n",
       "      <td>0.229270</td>\n",
       "      <td>0.436957</td>\n",
       "      <td>0.186900</td>\n",
       "      <td>82</td>\n",
       "      <td>1518</td>\n",
       "      <td>1600</td>\n",
       "      <td>2011</td>\n",
       "      <td>No</td>\n",
       "      <td>Wed.</td>\n",
       "      <td>Jan.</td>\n",
       "    </tr>\n",
       "  </tbody>\n",
       "</table>\n",
       "</div>"
      ],
      "text/plain": [
       "   instant        Date  Season  Holiday Workingday  Temperature(°C)  \\\n",
       "0        1  2011-01-01  Winter        0         No         0.344167   \n",
       "1        2  2011-01-02  Winter        0         No         0.363478   \n",
       "2        3  2011-01-03  Winter        0        Yes         0.196364   \n",
       "3        4  2011-01-04  Winter        0        Yes         0.200000   \n",
       "4        5  2011-01-05  Winter        0        Yes         0.226957   \n",
       "\n",
       "   Apparent Temperature(°C)  Relative humidty (%)  Windspeed  Casual  \\\n",
       "0                  0.363625              0.805833   0.160446     331   \n",
       "1                  0.353739              0.696087   0.248539     131   \n",
       "2                  0.189405              0.437273   0.248309     120   \n",
       "3                  0.212122              0.590435   0.160296     108   \n",
       "4                  0.229270              0.436957   0.186900      82   \n",
       "\n",
       "   Registered  Total_rides  Year Is_holiday Weekday Month  \n",
       "0         654          985  2011         No    Sat.  Jan.  \n",
       "1         670          801  2011         No    Sun.  Jan.  \n",
       "2        1229         1349  2011         No    Mon.  Jan.  \n",
       "3        1454         1562  2011         No    Tue.  Jan.  \n",
       "4        1518         1600  2011         No    Wed.  Jan.  "
      ]
     },
     "execution_count": 16,
     "metadata": {},
     "output_type": "execute_result"
    }
   ],
   "source": [
    "day.head()"
   ]
  },
  {
   "cell_type": "code",
   "execution_count": 17,
   "metadata": {},
   "outputs": [
    {
     "name": "stdout",
     "output_type": "stream",
     "text": [
      "<class 'pandas.core.frame.DataFrame'>\n",
      "RangeIndex: 731 entries, 0 to 730\n",
      "Data columns (total 16 columns):\n",
      " #   Column                    Non-Null Count  Dtype  \n",
      "---  ------                    --------------  -----  \n",
      " 0   instant                   731 non-null    int64  \n",
      " 1   Date                      731 non-null    object \n",
      " 2   Season                    731 non-null    object \n",
      " 3   Holiday                   731 non-null    int64  \n",
      " 4   Workingday                731 non-null    object \n",
      " 5   Temperature(°C)           731 non-null    float64\n",
      " 6   Apparent Temperature(°C)  731 non-null    float64\n",
      " 7   Relative humidty (%)      731 non-null    float64\n",
      " 8   Windspeed                 731 non-null    float64\n",
      " 9   Casual                    731 non-null    int64  \n",
      " 10  Registered                731 non-null    int64  \n",
      " 11  Total_rides               731 non-null    int64  \n",
      " 12  Year                      731 non-null    int32  \n",
      " 13  Is_holiday                731 non-null    object \n",
      " 14  Weekday                   731 non-null    object \n",
      " 15  Month                     731 non-null    object \n",
      "dtypes: float64(4), int32(1), int64(5), object(6)\n",
      "memory usage: 88.6+ KB\n"
     ]
    }
   ],
   "source": [
    "day.info()"
   ]
  },
  {
   "cell_type": "markdown",
   "metadata": {},
   "source": [
    "2011 Data Frame"
   ]
  },
  {
   "cell_type": "code",
   "execution_count": 18,
   "metadata": {},
   "outputs": [],
   "source": [
    "# Convert 'Date' column to datetime type\n",
    "day['Date'] = pd.to_datetime(day['Date'])\n",
    "\n",
    "# Filter the DataFrame for rows where the year is 2011\n",
    "day_2011 = day[day[\"Date\"].dt.year == 2011]\n"
   ]
  },
  {
   "cell_type": "code",
   "execution_count": 19,
   "metadata": {},
   "outputs": [
    {
     "name": "stderr",
     "output_type": "stream",
     "text": [
      "C:\\Users\\godwi\\AppData\\Local\\Temp\\ipykernel_26616\\2001717278.py:4: SettingWithCopyWarning: \n",
      "A value is trying to be set on a copy of a slice from a DataFrame\n",
      "\n",
      "See the caveats in the documentation: https://pandas.pydata.org/pandas-docs/stable/user_guide/indexing.html#returning-a-view-versus-a-copy\n",
      "  day_2011.drop([\"index\"],axis=1, inplace=True)\n"
     ]
    }
   ],
   "source": [
    "# resetting index\n",
    "day_2011.reset_index(inplace=True)\n",
    "#dropping the index column\n",
    "day_2011.drop([\"index\"],axis=1, inplace=True)"
   ]
  },
  {
   "cell_type": "code",
   "execution_count": 20,
   "metadata": {},
   "outputs": [
    {
     "data": {
      "text/plain": [
       "(365, 16)"
      ]
     },
     "execution_count": 20,
     "metadata": {},
     "output_type": "execute_result"
    }
   ],
   "source": [
    "day_2011.shape"
   ]
  },
  {
   "cell_type": "markdown",
   "metadata": {},
   "source": [
    "2012 Data Frame"
   ]
  },
  {
   "cell_type": "code",
   "execution_count": 21,
   "metadata": {},
   "outputs": [],
   "source": [
    "# Convert 'Date' column to datetime type\n",
    "day['Date'] = pd.to_datetime(day['Date'])\n",
    "\n",
    "# Filter the DataFrame for rows where the year is 2011\n",
    "day_2012 = day[day[\"Date\"].dt.year == 2012]\n"
   ]
  },
  {
   "cell_type": "code",
   "execution_count": 22,
   "metadata": {},
   "outputs": [
    {
     "name": "stderr",
     "output_type": "stream",
     "text": [
      "C:\\Users\\godwi\\AppData\\Local\\Temp\\ipykernel_26616\\3435614798.py:4: SettingWithCopyWarning: \n",
      "A value is trying to be set on a copy of a slice from a DataFrame\n",
      "\n",
      "See the caveats in the documentation: https://pandas.pydata.org/pandas-docs/stable/user_guide/indexing.html#returning-a-view-versus-a-copy\n",
      "  day_2012.drop([\"index\"],axis=1, inplace=True)\n"
     ]
    }
   ],
   "source": [
    "# resetting index\n",
    "day_2012.reset_index(inplace=True)\n",
    "#dropping the index column\n",
    "day_2012.drop([\"index\"],axis=1, inplace=True)"
   ]
  },
  {
   "cell_type": "code",
   "execution_count": 23,
   "metadata": {},
   "outputs": [
    {
     "data": {
      "text/plain": [
       "(366, 16)"
      ]
     },
     "execution_count": 23,
     "metadata": {},
     "output_type": "execute_result"
    }
   ],
   "source": [
    "day_2012.shape"
   ]
  },
  {
   "cell_type": "markdown",
   "metadata": {},
   "source": [
    "## Exploratory Data Analysis"
   ]
  },
  {
   "cell_type": "code",
   "execution_count": 24,
   "metadata": {},
   "outputs": [
    {
     "name": "stdout",
     "output_type": "stream",
     "text": [
      "<class 'pandas.core.frame.DataFrame'>\n",
      "RangeIndex: 366 entries, 0 to 365\n",
      "Data columns (total 16 columns):\n",
      " #   Column                    Non-Null Count  Dtype         \n",
      "---  ------                    --------------  -----         \n",
      " 0   instant                   366 non-null    int64         \n",
      " 1   Date                      366 non-null    datetime64[ns]\n",
      " 2   Season                    366 non-null    object        \n",
      " 3   Holiday                   366 non-null    int64         \n",
      " 4   Workingday                366 non-null    object        \n",
      " 5   Temperature(°C)           366 non-null    float64       \n",
      " 6   Apparent Temperature(°C)  366 non-null    float64       \n",
      " 7   Relative humidty (%)      366 non-null    float64       \n",
      " 8   Windspeed                 366 non-null    float64       \n",
      " 9   Casual                    366 non-null    int64         \n",
      " 10  Registered                366 non-null    int64         \n",
      " 11  Total_rides               366 non-null    int64         \n",
      " 12  Year                      366 non-null    int32         \n",
      " 13  Is_holiday                366 non-null    object        \n",
      " 14  Weekday                   366 non-null    object        \n",
      " 15  Month                     366 non-null    object        \n",
      "dtypes: datetime64[ns](1), float64(4), int32(1), int64(5), object(5)\n",
      "memory usage: 44.4+ KB\n"
     ]
    }
   ],
   "source": [
    "day_2012.info()"
   ]
  },
  {
   "cell_type": "markdown",
   "metadata": {},
   "source": [
    "Season Analysis"
   ]
  },
  {
   "cell_type": "code",
   "execution_count": 25,
   "metadata": {},
   "outputs": [
    {
     "data": {
      "text/plain": [
       "Text(0.5, 1.0, 'Season wise Distribution of Bike Total Rides 2012')"
      ]
     },
     "execution_count": 25,
     "metadata": {},
     "output_type": "execute_result"
    },
    {
     "data": {
      "image/png": "[encoded data removed]",
      "text/plain": [
       "<Figure size 640x480 with 1 Axes>"
      ]
     },
     "metadata": {},
     "output_type": "display_data"
    }
   ],
   "source": [
    "sns.barplot(x=\"Season\", y=\"Total_rides\",\n",
    "             #hue=\"Season\",\n",
    "             data=day_2012,)\n",
    "plt.title(\"Season wise Distribution of Bike Total Rides 2012\")"
   ]
  },
  {
   "cell_type": "code",
   "execution_count": 26,
   "metadata": {},
   "outputs": [],
   "source": [
    "season_analysis_2012=day_2012.iloc[:,[2,9,10,11]]"
   ]
  },
  {
   "cell_type": "code",
   "execution_count": 27,
   "metadata": {},
   "outputs": [
    {
     "data": {
      "text/html": [
       "<div>\n",
       "<style scoped>\n",
       "    .dataframe tbody tr th:only-of-type {\n",
       "        vertical-align: middle;\n",
       "    }\n",
       "\n",
       "    .dataframe tbody tr th {\n",
       "        vertical-align: top;\n",
       "    }\n",
       "\n",
       "    .dataframe thead th {\n",
       "        text-align: right;\n",
       "    }\n",
       "</style>\n",
       "<table border=\"1\" class=\"dataframe\">\n",
       "  <thead>\n",
       "    <tr style=\"text-align: right;\">\n",
       "      <th></th>\n",
       "      <th>Season</th>\n",
       "      <th>Casual</th>\n",
       "      <th>Registered</th>\n",
       "      <th>Total_rides</th>\n",
       "    </tr>\n",
       "  </thead>\n",
       "  <tbody>\n",
       "    <tr>\n",
       "      <th>0</th>\n",
       "      <td>Winter</td>\n",
       "      <td>686</td>\n",
       "      <td>1608</td>\n",
       "      <td>2294</td>\n",
       "    </tr>\n",
       "    <tr>\n",
       "      <th>1</th>\n",
       "      <td>Winter</td>\n",
       "      <td>244</td>\n",
       "      <td>1707</td>\n",
       "      <td>1951</td>\n",
       "    </tr>\n",
       "    <tr>\n",
       "      <th>2</th>\n",
       "      <td>Winter</td>\n",
       "      <td>89</td>\n",
       "      <td>2147</td>\n",
       "      <td>2236</td>\n",
       "    </tr>\n",
       "    <tr>\n",
       "      <th>3</th>\n",
       "      <td>Winter</td>\n",
       "      <td>95</td>\n",
       "      <td>2273</td>\n",
       "      <td>2368</td>\n",
       "    </tr>\n",
       "    <tr>\n",
       "      <th>4</th>\n",
       "      <td>Winter</td>\n",
       "      <td>140</td>\n",
       "      <td>3132</td>\n",
       "      <td>3272</td>\n",
       "    </tr>\n",
       "    <tr>\n",
       "      <th>...</th>\n",
       "      <td>...</td>\n",
       "      <td>...</td>\n",
       "      <td>...</td>\n",
       "      <td>...</td>\n",
       "    </tr>\n",
       "    <tr>\n",
       "      <th>361</th>\n",
       "      <td>Winter</td>\n",
       "      <td>247</td>\n",
       "      <td>1867</td>\n",
       "      <td>2114</td>\n",
       "    </tr>\n",
       "    <tr>\n",
       "      <th>362</th>\n",
       "      <td>Winter</td>\n",
       "      <td>644</td>\n",
       "      <td>2451</td>\n",
       "      <td>3095</td>\n",
       "    </tr>\n",
       "    <tr>\n",
       "      <th>363</th>\n",
       "      <td>Winter</td>\n",
       "      <td>159</td>\n",
       "      <td>1182</td>\n",
       "      <td>1341</td>\n",
       "    </tr>\n",
       "    <tr>\n",
       "      <th>364</th>\n",
       "      <td>Winter</td>\n",
       "      <td>364</td>\n",
       "      <td>1432</td>\n",
       "      <td>1796</td>\n",
       "    </tr>\n",
       "    <tr>\n",
       "      <th>365</th>\n",
       "      <td>Winter</td>\n",
       "      <td>439</td>\n",
       "      <td>2290</td>\n",
       "      <td>2729</td>\n",
       "    </tr>\n",
       "  </tbody>\n",
       "</table>\n",
       "<p>366 rows × 4 columns</p>\n",
       "</div>"
      ],
      "text/plain": [
       "     Season  Casual  Registered  Total_rides\n",
       "0    Winter     686        1608         2294\n",
       "1    Winter     244        1707         1951\n",
       "2    Winter      89        2147         2236\n",
       "3    Winter      95        2273         2368\n",
       "4    Winter     140        3132         3272\n",
       "..      ...     ...         ...          ...\n",
       "361  Winter     247        1867         2114\n",
       "362  Winter     644        2451         3095\n",
       "363  Winter     159        1182         1341\n",
       "364  Winter     364        1432         1796\n",
       "365  Winter     439        2290         2729\n",
       "\n",
       "[366 rows x 4 columns]"
      ]
     },
     "execution_count": 27,
     "metadata": {},
     "output_type": "execute_result"
    }
   ],
   "source": [
    "season_analysis_2012_copy= season_analysis_2012.copy()\n",
    "season_analysis_2012"
   ]
  },
  {
   "cell_type": "code",
   "execution_count": 28,
   "metadata": {},
   "outputs": [],
   "source": [
    "season_analysis_result=season_analysis_2012.groupby(\"Season\").sum()"
   ]
  },
  {
   "cell_type": "code",
   "execution_count": 29,
   "metadata": {},
   "outputs": [
    {
     "data": {
      "text/plain": [
       "Text(0, 0.5, 'Total_rides')"
      ]
     },
     "execution_count": 29,
     "metadata": {},
     "output_type": "execute_result"
    },
    {
     "data": {
      "image/png": "[encoded data removed]",
      "text/plain": [
       "<Figure size 640x480 with 1 Axes>"
      ]
     },
     "metadata": {},
     "output_type": "display_data"
    }
   ],
   "source": [
    "#sns.barplot(data=season_analysis_result)\n",
    "season_analysis_result.plot.bar()\n",
    "plt.title(\"Season Analysis 2012\")\n",
    "plt.ylabel(\"Total_rides\")"
   ]
  },
  {
   "cell_type": "code",
   "execution_count": 30,
   "metadata": {},
   "outputs": [],
   "source": [
    "season_analysis_2012_copy.drop([\"Total_rides\"], axis=1, inplace=True)"
   ]
  },
  {
   "cell_type": "code",
   "execution_count": 31,
   "metadata": {},
   "outputs": [
    {
     "data": {
      "text/html": [
       "<div>\n",
       "<style scoped>\n",
       "    .dataframe tbody tr th:only-of-type {\n",
       "        vertical-align: middle;\n",
       "    }\n",
       "\n",
       "    .dataframe tbody tr th {\n",
       "        vertical-align: top;\n",
       "    }\n",
       "\n",
       "    .dataframe thead th {\n",
       "        text-align: right;\n",
       "    }\n",
       "</style>\n",
       "<table border=\"1\" class=\"dataframe\">\n",
       "  <thead>\n",
       "    <tr style=\"text-align: right;\">\n",
       "      <th></th>\n",
       "      <th>Season</th>\n",
       "      <th>Casual</th>\n",
       "      <th>Registered</th>\n",
       "    </tr>\n",
       "  </thead>\n",
       "  <tbody>\n",
       "    <tr>\n",
       "      <th>0</th>\n",
       "      <td>Winter</td>\n",
       "      <td>686</td>\n",
       "      <td>1608</td>\n",
       "    </tr>\n",
       "    <tr>\n",
       "      <th>1</th>\n",
       "      <td>Winter</td>\n",
       "      <td>244</td>\n",
       "      <td>1707</td>\n",
       "    </tr>\n",
       "    <tr>\n",
       "      <th>2</th>\n",
       "      <td>Winter</td>\n",
       "      <td>89</td>\n",
       "      <td>2147</td>\n",
       "    </tr>\n",
       "    <tr>\n",
       "      <th>3</th>\n",
       "      <td>Winter</td>\n",
       "      <td>95</td>\n",
       "      <td>2273</td>\n",
       "    </tr>\n",
       "    <tr>\n",
       "      <th>4</th>\n",
       "      <td>Winter</td>\n",
       "      <td>140</td>\n",
       "      <td>3132</td>\n",
       "    </tr>\n",
       "    <tr>\n",
       "      <th>...</th>\n",
       "      <td>...</td>\n",
       "      <td>...</td>\n",
       "      <td>...</td>\n",
       "    </tr>\n",
       "    <tr>\n",
       "      <th>361</th>\n",
       "      <td>Winter</td>\n",
       "      <td>247</td>\n",
       "      <td>1867</td>\n",
       "    </tr>\n",
       "    <tr>\n",
       "      <th>362</th>\n",
       "      <td>Winter</td>\n",
       "      <td>644</td>\n",
       "      <td>2451</td>\n",
       "    </tr>\n",
       "    <tr>\n",
       "      <th>363</th>\n",
       "      <td>Winter</td>\n",
       "      <td>159</td>\n",
       "      <td>1182</td>\n",
       "    </tr>\n",
       "    <tr>\n",
       "      <th>364</th>\n",
       "      <td>Winter</td>\n",
       "      <td>364</td>\n",
       "      <td>1432</td>\n",
       "    </tr>\n",
       "    <tr>\n",
       "      <th>365</th>\n",
       "      <td>Winter</td>\n",
       "      <td>439</td>\n",
       "      <td>2290</td>\n",
       "    </tr>\n",
       "  </tbody>\n",
       "</table>\n",
       "<p>366 rows × 3 columns</p>\n",
       "</div>"
      ],
      "text/plain": [
       "     Season  Casual  Registered\n",
       "0    Winter     686        1608\n",
       "1    Winter     244        1707\n",
       "2    Winter      89        2147\n",
       "3    Winter      95        2273\n",
       "4    Winter     140        3132\n",
       "..      ...     ...         ...\n",
       "361  Winter     247        1867\n",
       "362  Winter     644        2451\n",
       "363  Winter     159        1182\n",
       "364  Winter     364        1432\n",
       "365  Winter     439        2290\n",
       "\n",
       "[366 rows x 3 columns]"
      ]
     },
     "execution_count": 31,
     "metadata": {},
     "output_type": "execute_result"
    }
   ],
   "source": [
    "season_analysis_2012_copy"
   ]
  },
  {
   "cell_type": "code",
   "execution_count": 50,
   "metadata": {},
   "outputs": [
    {
     "data": {
      "image/png": "[encoded data removed]",
      "text/plain": [
       "<Figure size 1000x500 with 2 Axes>"
      ]
     },
     "metadata": {},
     "output_type": "display_data"
    }
   ],
   "source": [
    "import matplotlib.pyplot as plt\n",
    "\n",
    "# Assuming daily_2021 is a DataFrame containing the daily user data for 2023\n",
    "sizes = day_2011[['Casual', 'Registered']].sum()  # Calculate the total number of casual and registered users\n",
    "sizes0 = day_2012[['Casual', 'Registered']].sum()\n",
    "labels = ['Casual', 'Registered']\n",
    "\n",
    "# Create a figure with 3 subplots\n",
    "fig, axes = plt.subplots(1, 2, figsize=(10, 5))\n",
    "\n",
    "# Define colors\n",
    "colors = ['#b87333', '#964b00']  # Copper and brown colors\n",
    "\n",
    "# Plot the pie chart for the first subplot\n",
    "axes[0].pie(sizes, labels=labels, autopct='%1.1f%%', startangle=140, colors=colors)\n",
    "axes[0].set_title('Distribution of Casual vs Registered Users in 2011')\n",
    "\n",
    "axes[1].pie(sizes0, labels=labels, autopct='%1.1f%%', startangle=140, colors=colors)\n",
    "axes[1].set_title('Distribution of Casual vs Registered Users in 2012')\n",
    "\n",
    "# Adjusting layout\n",
    "plt.tight_layout()\n",
    "plt.subplots_adjust(top=0.85)  # Increase the top margin\n",
    "\n",
    "# Defining super title\n",
    "plt.suptitle(\"Bike Users Analysis over the Years\")\n",
    "\n",
    "# Show the plot\n",
    "plt.show()\n"
   ]
  },
  {
   "cell_type": "markdown",
   "metadata": {},
   "source": [
    "Apperent Temperature"
   ]
  },
  {
   "cell_type": "code",
   "execution_count": 34,
   "metadata": {},
   "outputs": [
    {
     "data": {
      "text/html": [
       "<div>\n",
       "<style scoped>\n",
       "    .dataframe tbody tr th:only-of-type {\n",
       "        vertical-align: middle;\n",
       "    }\n",
       "\n",
       "    .dataframe tbody tr th {\n",
       "        vertical-align: top;\n",
       "    }\n",
       "\n",
       "    .dataframe thead th {\n",
       "        text-align: right;\n",
       "    }\n",
       "</style>\n",
       "<table border=\"1\" class=\"dataframe\">\n",
       "  <thead>\n",
       "    <tr style=\"text-align: right;\">\n",
       "      <th></th>\n",
       "      <th>instant</th>\n",
       "      <th>Date</th>\n",
       "      <th>Season</th>\n",
       "      <th>Holiday</th>\n",
       "      <th>Workingday</th>\n",
       "      <th>Temperature(°C)</th>\n",
       "      <th>Apparent Temperature(°C)</th>\n",
       "      <th>Relative humidty (%)</th>\n",
       "      <th>Windspeed</th>\n",
       "      <th>Casual</th>\n",
       "      <th>Registered</th>\n",
       "      <th>Total_rides</th>\n",
       "      <th>Year</th>\n",
       "      <th>Is_holiday</th>\n",
       "      <th>Weekday</th>\n",
       "      <th>Month</th>\n",
       "    </tr>\n",
       "  </thead>\n",
       "  <tbody>\n",
       "    <tr>\n",
       "      <th>0</th>\n",
       "      <td>366</td>\n",
       "      <td>2012-01-01</td>\n",
       "      <td>Winter</td>\n",
       "      <td>0</td>\n",
       "      <td>No</td>\n",
       "      <td>0.370000</td>\n",
       "      <td>0.375621</td>\n",
       "      <td>0.692500</td>\n",
       "      <td>0.192167</td>\n",
       "      <td>686</td>\n",
       "      <td>1608</td>\n",
       "      <td>2294</td>\n",
       "      <td>2012</td>\n",
       "      <td>No</td>\n",
       "      <td>Sun.</td>\n",
       "      <td>Jan.</td>\n",
       "    </tr>\n",
       "    <tr>\n",
       "      <th>1</th>\n",
       "      <td>367</td>\n",
       "      <td>2012-01-02</td>\n",
       "      <td>Winter</td>\n",
       "      <td>1</td>\n",
       "      <td>Yes</td>\n",
       "      <td>0.273043</td>\n",
       "      <td>0.252304</td>\n",
       "      <td>0.381304</td>\n",
       "      <td>0.329665</td>\n",
       "      <td>244</td>\n",
       "      <td>1707</td>\n",
       "      <td>1951</td>\n",
       "      <td>2012</td>\n",
       "      <td>Yes</td>\n",
       "      <td>Mon.</td>\n",
       "      <td>Jan.</td>\n",
       "    </tr>\n",
       "    <tr>\n",
       "      <th>2</th>\n",
       "      <td>368</td>\n",
       "      <td>2012-01-03</td>\n",
       "      <td>Winter</td>\n",
       "      <td>0</td>\n",
       "      <td>Yes</td>\n",
       "      <td>0.150000</td>\n",
       "      <td>0.126275</td>\n",
       "      <td>0.441250</td>\n",
       "      <td>0.365671</td>\n",
       "      <td>89</td>\n",
       "      <td>2147</td>\n",
       "      <td>2236</td>\n",
       "      <td>2012</td>\n",
       "      <td>No</td>\n",
       "      <td>Tue.</td>\n",
       "      <td>Jan.</td>\n",
       "    </tr>\n",
       "    <tr>\n",
       "      <th>3</th>\n",
       "      <td>369</td>\n",
       "      <td>2012-01-04</td>\n",
       "      <td>Winter</td>\n",
       "      <td>0</td>\n",
       "      <td>Yes</td>\n",
       "      <td>0.107500</td>\n",
       "      <td>0.119337</td>\n",
       "      <td>0.414583</td>\n",
       "      <td>0.184700</td>\n",
       "      <td>95</td>\n",
       "      <td>2273</td>\n",
       "      <td>2368</td>\n",
       "      <td>2012</td>\n",
       "      <td>No</td>\n",
       "      <td>Wed.</td>\n",
       "      <td>Jan.</td>\n",
       "    </tr>\n",
       "    <tr>\n",
       "      <th>4</th>\n",
       "      <td>370</td>\n",
       "      <td>2012-01-05</td>\n",
       "      <td>Winter</td>\n",
       "      <td>0</td>\n",
       "      <td>Yes</td>\n",
       "      <td>0.265833</td>\n",
       "      <td>0.278412</td>\n",
       "      <td>0.524167</td>\n",
       "      <td>0.129987</td>\n",
       "      <td>140</td>\n",
       "      <td>3132</td>\n",
       "      <td>3272</td>\n",
       "      <td>2012</td>\n",
       "      <td>No</td>\n",
       "      <td>Thur.</td>\n",
       "      <td>Jan.</td>\n",
       "    </tr>\n",
       "  </tbody>\n",
       "</table>\n",
       "</div>"
      ],
      "text/plain": [
       "   instant       Date  Season  Holiday Workingday  Temperature(°C)  \\\n",
       "0      366 2012-01-01  Winter        0         No         0.370000   \n",
       "1      367 2012-01-02  Winter        1        Yes         0.273043   \n",
       "2      368 2012-01-03  Winter        0        Yes         0.150000   \n",
       "3      369 2012-01-04  Winter        0        Yes         0.107500   \n",
       "4      370 2012-01-05  Winter        0        Yes         0.265833   \n",
       "\n",
       "   Apparent Temperature(°C)  Relative humidty (%)  Windspeed  Casual  \\\n",
       "0                  0.375621              0.692500   0.192167     686   \n",
       "1                  0.252304              0.381304   0.329665     244   \n",
       "2                  0.126275              0.441250   0.365671      89   \n",
       "3                  0.119337              0.414583   0.184700      95   \n",
       "4                  0.278412              0.524167   0.129987     140   \n",
       "\n",
       "   Registered  Total_rides  Year Is_holiday Weekday Month  \n",
       "0        1608         2294  2012         No    Sun.  Jan.  \n",
       "1        1707         1951  2012        Yes    Mon.  Jan.  \n",
       "2        2147         2236  2012         No    Tue.  Jan.  \n",
       "3        2273         2368  2012         No    Wed.  Jan.  \n",
       "4        3132         3272  2012         No   Thur.  Jan.  "
      ]
     },
     "execution_count": 34,
     "metadata": {},
     "output_type": "execute_result"
    }
   ],
   "source": [
    "day_2012.head()"
   ]
  },
  {
   "cell_type": "markdown",
   "metadata": {},
   "source": []
  },
  {
   "cell_type": "code",
   "execution_count": 35,
   "metadata": {},
   "outputs": [
    {
     "data": {
      "text/plain": [
       "Text(0.5, 1.0, 'Ride Count based on Daily Apperent Temperature in 2012')"
      ]
     },
     "execution_count": 35,
     "metadata": {},
     "output_type": "execute_result"
    },
    {
     "data": {
      "image/png": "[encoded data removed]",
      "text/plain": [
       "<Figure size 600x500 with 1 Axes>"
      ]
     },
     "metadata": {},
     "output_type": "display_data"
    }
   ],
   "source": [
    "plt.figure(figsize=(6, 5))\n",
    "sns.scatterplot(x=\"Apparent Temperature(°C)\", y=\"Total_rides\",\n",
    "      \n",
    "             data=day_2012)\n",
    "plt.title(\"Ride Count based on Daily Apperent Temperature in 2012\")"
   ]
  },
  {
   "cell_type": "code",
   "execution_count": 36,
   "metadata": {},
   "outputs": [
    {
     "data": {
      "image/png": "[encoded data removed]",
      "text/plain": [
       "<Figure size 1100x800 with 1 Axes>"
      ]
     },
     "metadata": {},
     "output_type": "display_data"
    }
   ],
   "source": [
    "sns.set(rc={'figure.figsize':(11,8)})\n",
    "\n",
    "sns.set_context(\"paper\", font_scale=1, rc={\"lines.linewidth\": 2.5})\n",
    "#sns.set(style=\"ticks\", context=\"talk\")\n",
    "#plt.style.use(\"dark_background\")\n",
    "sns.set_style(\"darkgrid\")\n",
    "\n",
    "#fig, ax = plt.subplots()\n",
    "ax = sns.scatterplot(data = day_2012, x = 'Apparent Temperature(°C)', y = 'Total_rides',\n",
    "               hue = 'Weekday');\n",
    "\n",
    "plt.setp(ax.get_legend().get_texts(), fontsize='15') # for legend text\n",
    "plt.setp(ax.get_legend().get_title(), fontsize='16') # for legend title\n",
    "\n",
    "ax.set(title = 'Temperature-wise daily distribution of bike rentals',ylabel= 'Total Ride', xlabel='Temperature in Celsius')\n",
    "plt.savefig(\"Temperature-wise daily distribution of bike rentals\", dpi = 80)"
   ]
  },
  {
   "cell_type": "markdown",
   "metadata": {},
   "source": [
    "Windspeed Analysis"
   ]
  },
  {
   "cell_type": "code",
   "execution_count": 37,
   "metadata": {},
   "outputs": [
    {
     "data": {
      "text/plain": [
       "Text(0.5, 1.0, 'Windspeed Distribution of Bike Total Rides 2012')"
      ]
     },
     "execution_count": 37,
     "metadata": {},
     "output_type": "execute_result"
    },
    {
     "data": {
      "image/png": "[encoded data removed]",
      "text/plain": [
       "<Figure size 800x600 with 1 Axes>"
      ]
     },
     "metadata": {},
     "output_type": "display_data"
    }
   ],
   "source": [
    "plt.figure(figsize=(8, 6))\n",
    "sns.scatterplot(x=\"Windspeed\", y=\"Total_rides\",\n",
    "             #hue=\"Season\",\n",
    "             data=day_2012)\n",
    "plt.title(\"Windspeed Distribution of Bike Total Rides 2012\")"
   ]
  },
  {
   "cell_type": "markdown",
   "metadata": {},
   "source": [
    "Bike sharing growth Analysis based on Total rides over the Years"
   ]
  },
  {
   "cell_type": "code",
   "execution_count": 38,
   "metadata": {},
   "outputs": [
    {
     "data": {
      "text/plain": [
       "Text(0.5, 1.0, 'Bike Share Growth Based On Total Rides')"
      ]
     },
     "execution_count": 38,
     "metadata": {},
     "output_type": "execute_result"
    },
    {
     "data": {
      "image/png": "[encoded data removed]",
      "text/plain": [
       "<Figure size 800x600 with 1 Axes>"
      ]
     },
     "metadata": {},
     "output_type": "display_data"
    }
   ],
   "source": [
    "plt.figure(figsize=(8,6))\n",
    "sns.boxplot(day, x=\"Year\",y=\"Total_rides\")\n",
    "plt.title(\"Bike Share Growth Based On Total Rides\")"
   ]
  },
  {
   "cell_type": "code",
   "execution_count": 40,
   "metadata": {},
   "outputs": [
    {
     "data": {
      "text/plain": [
       "3405.76"
      ]
     },
     "execution_count": 40,
     "metadata": {},
     "output_type": "execute_result"
    }
   ],
   "source": [
    "day_2011[\"Total_rides\"].mean().round(2)"
   ]
  },
  {
   "cell_type": "code",
   "execution_count": 41,
   "metadata": {},
   "outputs": [
    {
     "data": {
      "text/plain": [
       "5599.93"
      ]
     },
     "execution_count": 41,
     "metadata": {},
     "output_type": "execute_result"
    }
   ],
   "source": [
    "day_2012[\"Total_rides\"].mean().round(2)"
   ]
  },
  {
   "cell_type": "code",
   "execution_count": 42,
   "metadata": {},
   "outputs": [
    {
     "name": "stdout",
     "output_type": "stream",
     "text": [
      "Growth rate: 64.42526778164051\n"
     ]
    }
   ],
   "source": [
    "def calculate_growth_rate(original_value, new_value):\n",
    "    growth_rate = ((new_value - original_value) / original_value) * 100\n",
    "    return growth_rate\n",
    "\n",
    "# Example usage:\n",
    "original_value = 3405.76\n",
    "new_value = 5599.93\n",
    "growth_rate = calculate_growth_rate(original_value, new_value)\n",
    "print(\"Growth rate:\", growth_rate)\n"
   ]
  },
  {
   "cell_type": "code",
   "execution_count": 43,
   "metadata": {},
   "outputs": [
    {
     "data": {
      "text/html": [
       "<div style=\"width:100%;\"><div style=\"position:relative;width:100%;height:0;padding-bottom:60%;\"><span style=\"color:#565656\">Make this Notebook Trusted to load map: File -> Trust Notebook</span><iframe srcdoc=\"&lt;!DOCTYPE html&gt;\n",
       "&lt;html&gt;\n",
       "&lt;head&gt;\n",
       "    \n",
       "    &lt;meta http-equiv=&quot;content-type&quot; content=&quot;text/html; charset=UTF-8&quot; /&gt;\n",
       "    \n",
       "        &lt;script&gt;\n",
       "            L_NO_TOUCH = false;\n",
       "            L_DISABLE_3D = false;\n",
       "        &lt;/script&gt;\n",
       "    \n",
       "    &lt;style&gt;html, body {width: 100%;height: 100%;margin: 0;padding: 0;}&lt;/style&gt;\n",
       "    &lt;style&gt;#map {position:absolute;top:0;bottom:0;right:0;left:0;}&lt;/style&gt;\n",
       "    &lt;script src=&quot;https://cdn.jsdelivr.net/npm/leaflet@1.9.3/dist/leaflet.js&quot;&gt;&lt;/script&gt;\n",
       "    &lt;script src=&quot;https://code.jquery.com/jquery-1.12.4.min.js&quot;&gt;&lt;/script&gt;\n",
       "    &lt;script src=&quot;https://cdn.jsdelivr.net/npm/bootstrap@5.2.2/dist/js/bootstrap.bundle.min.js&quot;&gt;&lt;/script&gt;\n",
       "    &lt;script src=&quot;https://cdnjs.cloudflare.com/ajax/libs/Leaflet.awesome-markers/2.0.2/leaflet.awesome-markers.js&quot;&gt;&lt;/script&gt;\n",
       "    &lt;link rel=&quot;stylesheet&quot; href=&quot;https://cdn.jsdelivr.net/npm/leaflet@1.9.3/dist/leaflet.css&quot;/&gt;\n",
       "    &lt;link rel=&quot;stylesheet&quot; href=&quot;https://cdn.jsdelivr.net/npm/bootstrap@5.2.2/dist/css/bootstrap.min.css&quot;/&gt;\n",
       "    &lt;link rel=&quot;stylesheet&quot; href=&quot;https://netdna.bootstrapcdn.com/bootstrap/3.0.0/css/bootstrap.min.css&quot;/&gt;\n",
       "    &lt;link rel=&quot;stylesheet&quot; href=&quot;https://cdn.jsdelivr.net/npm/@fortawesome/fontawesome-free@6.2.0/css/all.min.css&quot;/&gt;\n",
       "    &lt;link rel=&quot;stylesheet&quot; href=&quot;https://cdnjs.cloudflare.com/ajax/libs/Leaflet.awesome-markers/2.0.2/leaflet.awesome-markers.css&quot;/&gt;\n",
       "    &lt;link rel=&quot;stylesheet&quot; href=&quot;https://cdn.jsdelivr.net/gh/python-visualization/folium/folium/templates/leaflet.awesome.rotate.min.css&quot;/&gt;\n",
       "    \n",
       "            &lt;meta name=&quot;viewport&quot; content=&quot;width=device-width,\n",
       "                initial-scale=1.0, maximum-scale=1.0, user-scalable=no&quot; /&gt;\n",
       "            &lt;style&gt;\n",
       "                #map_09abb47dcb025adaddbfbd8e271ae95d {\n",
       "                    position: relative;\n",
       "                    width: 100.0%;\n",
       "                    height: 100.0%;\n",
       "                    left: 0.0%;\n",
       "                    top: 0.0%;\n",
       "                }\n",
       "                .leaflet-container { font-size: 1rem; }\n",
       "            &lt;/style&gt;\n",
       "        \n",
       "&lt;/head&gt;\n",
       "&lt;body&gt;\n",
       "    \n",
       "    \n",
       "            &lt;div class=&quot;folium-map&quot; id=&quot;map_09abb47dcb025adaddbfbd8e271ae95d&quot; &gt;&lt;/div&gt;\n",
       "        \n",
       "&lt;/body&gt;\n",
       "&lt;script&gt;\n",
       "    \n",
       "    \n",
       "            var map_09abb47dcb025adaddbfbd8e271ae95d = L.map(\n",
       "                &quot;map_09abb47dcb025adaddbfbd8e271ae95d&quot;,\n",
       "                {\n",
       "                    center: [38.9072, -77.0369],\n",
       "                    crs: L.CRS.EPSG3857,\n",
       "                    zoom: 12,\n",
       "                    zoomControl: true,\n",
       "                    preferCanvas: false,\n",
       "                }\n",
       "            );\n",
       "\n",
       "            \n",
       "\n",
       "        \n",
       "    \n",
       "            var tile_layer_7a76e0657a24deee85e9d2b84348da8a = L.tileLayer(\n",
       "                &quot;https://{s}.tile.openstreetmap.org/{z}/{x}/{y}.png&quot;,\n",
       "                {&quot;attribution&quot;: &quot;Data by \\u0026copy; \\u003ca target=\\&quot;_blank\\&quot; href=\\&quot;http://openstreetmap.org\\&quot;\\u003eOpenStreetMap\\u003c/a\\u003e, under \\u003ca target=\\&quot;_blank\\&quot; href=\\&quot;http://www.openstreetmap.org/copyright\\&quot;\\u003eODbL\\u003c/a\\u003e.&quot;, &quot;detectRetina&quot;: false, &quot;maxNativeZoom&quot;: 18, &quot;maxZoom&quot;: 18, &quot;minZoom&quot;: 0, &quot;noWrap&quot;: false, &quot;opacity&quot;: 1, &quot;subdomains&quot;: &quot;abc&quot;, &quot;tms&quot;: false}\n",
       "            ).addTo(map_09abb47dcb025adaddbfbd8e271ae95d);\n",
       "        \n",
       "    \n",
       "            var marker_3fded86f72879efde462c54b9544ca87 = L.marker(\n",
       "                [38.915544, -77.038252],\n",
       "                {}\n",
       "            ).addTo(map_09abb47dcb025adaddbfbd8e271ae95d);\n",
       "        \n",
       "    \n",
       "        var popup_3db55e69b216dfa61158cf1bf99f5890 = L.popup({&quot;maxWidth&quot;: &quot;100%&quot;});\n",
       "\n",
       "        \n",
       "            \n",
       "                var html_b31757dede5d70a19839cbf81cc12d2b = $(`&lt;div id=&quot;html_b31757dede5d70a19839cbf81cc12d2b&quot; style=&quot;width: 100.0%; height: 100.0%;&quot;&gt;New Hampshire Ave &amp; T St NW&lt;/div&gt;`)[0];\n",
       "                popup_3db55e69b216dfa61158cf1bf99f5890.setContent(html_b31757dede5d70a19839cbf81cc12d2b);\n",
       "            \n",
       "        \n",
       "\n",
       "        marker_3fded86f72879efde462c54b9544ca87.bindPopup(popup_3db55e69b216dfa61158cf1bf99f5890)\n",
       "        ;\n",
       "\n",
       "        \n",
       "    \n",
       "    \n",
       "            var marker_85c6bc63790ff7caf188031542d9a124 = L.marker(\n",
       "                [38.89696, -77.00493],\n",
       "                {}\n",
       "            ).addTo(map_09abb47dcb025adaddbfbd8e271ae95d);\n",
       "        \n",
       "    \n",
       "        var popup_553026e2db32795afa4fcffd6009a7cb = L.popup({&quot;maxWidth&quot;: &quot;100%&quot;});\n",
       "\n",
       "        \n",
       "            \n",
       "                var html_75b0226960cb2f9474cf3d94a6508f38 = $(`&lt;div id=&quot;html_75b0226960cb2f9474cf3d94a6508f38&quot; style=&quot;width: 100.0%; height: 100.0%;&quot;&gt;Columbus Circle / Union Station&lt;/div&gt;`)[0];\n",
       "                popup_553026e2db32795afa4fcffd6009a7cb.setContent(html_75b0226960cb2f9474cf3d94a6508f38);\n",
       "            \n",
       "        \n",
       "\n",
       "        marker_85c6bc63790ff7caf188031542d9a124.bindPopup(popup_553026e2db32795afa4fcffd6009a7cb)\n",
       "        ;\n",
       "\n",
       "        \n",
       "    \n",
       "    \n",
       "            var marker_6b12d115501ca1fd2a1108de3f292ecc = L.marker(\n",
       "                [38.90980062655191, -77.03442692756653],\n",
       "                {}\n",
       "            ).addTo(map_09abb47dcb025adaddbfbd8e271ae95d);\n",
       "        \n",
       "    \n",
       "        var popup_c1d9288dfaf85f6a562d57aab74c770c = L.popup({&quot;maxWidth&quot;: &quot;100%&quot;});\n",
       "\n",
       "        \n",
       "            \n",
       "                var html_dee1ee4e21a3bfce978a7bacb44ec5be = $(`&lt;div id=&quot;html_dee1ee4e21a3bfce978a7bacb44ec5be&quot; style=&quot;width: 100.0%; height: 100.0%;&quot;&gt;15th &amp; P St NW&lt;/div&gt;`)[0];\n",
       "                popup_c1d9288dfaf85f6a562d57aab74c770c.setContent(html_dee1ee4e21a3bfce978a7bacb44ec5be);\n",
       "            \n",
       "        \n",
       "\n",
       "        marker_6b12d115501ca1fd2a1108de3f292ecc.bindPopup(popup_c1d9288dfaf85f6a562d57aab74c770c)\n",
       "        ;\n",
       "\n",
       "        \n",
       "    \n",
       "    \n",
       "            var marker_5cd7e84fa654bff6e315fe1381747db0 = L.marker(\n",
       "                [38.905697, -77.005483],\n",
       "                {}\n",
       "            ).addTo(map_09abb47dcb025adaddbfbd8e271ae95d);\n",
       "        \n",
       "    \n",
       "        var popup_655e73889cd1570c4d22703cd90d7f4a = L.popup({&quot;maxWidth&quot;: &quot;100%&quot;});\n",
       "\n",
       "        \n",
       "            \n",
       "                var html_49150c88d7d5dba8ba817435ec7a6d70 = $(`&lt;div id=&quot;html_49150c88d7d5dba8ba817435ec7a6d70&quot; style=&quot;width: 100.0%; height: 100.0%;&quot;&gt;1st &amp; M St NE&lt;/div&gt;`)[0];\n",
       "                popup_655e73889cd1570c4d22703cd90d7f4a.setContent(html_49150c88d7d5dba8ba817435ec7a6d70);\n",
       "            \n",
       "        \n",
       "\n",
       "        marker_5cd7e84fa654bff6e315fe1381747db0.bindPopup(popup_655e73889cd1570c4d22703cd90d7f4a)\n",
       "        ;\n",
       "\n",
       "        \n",
       "    \n",
       "    \n",
       "            var marker_76d4d2d060b430cb36edcd9609927983 = L.marker(\n",
       "                [38.888774, -77.028694],\n",
       "                {}\n",
       "            ).addTo(map_09abb47dcb025adaddbfbd8e271ae95d);\n",
       "        \n",
       "    \n",
       "        var popup_90d0616bdc62aa07248e98e23d8f8e88 = L.popup({&quot;maxWidth&quot;: &quot;100%&quot;});\n",
       "\n",
       "        \n",
       "            \n",
       "                var html_a18ec3dcd7aa0e922a5de06f2f5aa3cf = $(`&lt;div id=&quot;html_a18ec3dcd7aa0e922a5de06f2f5aa3cf&quot; style=&quot;width: 100.0%; height: 100.0%;&quot;&gt;Smithsonian-National Mall / Jefferson Dr &amp; 12th St SW&lt;/div&gt;`)[0];\n",
       "                popup_90d0616bdc62aa07248e98e23d8f8e88.setContent(html_a18ec3dcd7aa0e922a5de06f2f5aa3cf);\n",
       "            \n",
       "        \n",
       "\n",
       "        marker_76d4d2d060b430cb36edcd9609927983.bindPopup(popup_90d0616bdc62aa07248e98e23d8f8e88)\n",
       "        ;\n",
       "\n",
       "        \n",
       "    \n",
       "    \n",
       "            var marker_0a8cd50133ec891b40b0a45c398dda61 = L.marker(\n",
       "                [38.890539, -77.049383],\n",
       "                {}\n",
       "            ).addTo(map_09abb47dcb025adaddbfbd8e271ae95d);\n",
       "        \n",
       "    \n",
       "        var popup_eda5bc31f7b373affdd82c4dad7089d6 = L.popup({&quot;maxWidth&quot;: &quot;100%&quot;});\n",
       "\n",
       "        \n",
       "            \n",
       "                var html_5282f6f46c130bf761c13b8ae2592292 = $(`&lt;div id=&quot;html_5282f6f46c130bf761c13b8ae2592292&quot; style=&quot;width: 100.0%; height: 100.0%;&quot;&gt;Henry Bacon Dr &amp; Lincoln Memorial Circle NW&lt;/div&gt;`)[0];\n",
       "                popup_eda5bc31f7b373affdd82c4dad7089d6.setContent(html_5282f6f46c130bf761c13b8ae2592292);\n",
       "            \n",
       "        \n",
       "\n",
       "        marker_0a8cd50133ec891b40b0a45c398dda61.bindPopup(popup_eda5bc31f7b373affdd82c4dad7089d6)\n",
       "        ;\n",
       "\n",
       "        \n",
       "    \n",
       "    \n",
       "            var marker_2d78ad3e148de130f3cb8f7064315656 = L.marker(\n",
       "                [38.90304, -77.019027],\n",
       "                {}\n",
       "            ).addTo(map_09abb47dcb025adaddbfbd8e271ae95d);\n",
       "        \n",
       "    \n",
       "        var popup_caa4b125af7bf40fa7379b36d5f4c8f7 = L.popup({&quot;maxWidth&quot;: &quot;100%&quot;});\n",
       "\n",
       "        \n",
       "            \n",
       "                var html_2723dba330b2d0512b56b6f73efd44a2 = $(`&lt;div id=&quot;html_2723dba330b2d0512b56b6f73efd44a2&quot; style=&quot;width: 100.0%; height: 100.0%;&quot;&gt;5th &amp; K St NW&lt;/div&gt;`)[0];\n",
       "                popup_caa4b125af7bf40fa7379b36d5f4c8f7.setContent(html_2723dba330b2d0512b56b6f73efd44a2);\n",
       "            \n",
       "        \n",
       "\n",
       "        marker_2d78ad3e148de130f3cb8f7064315656.bindPopup(popup_caa4b125af7bf40fa7379b36d5f4c8f7)\n",
       "        ;\n",
       "\n",
       "        \n",
       "    \n",
       "    \n",
       "            var marker_6e46c64325af8401fb698597c7fba5b6 = L.marker(\n",
       "                [38.9177645, -77.032096],\n",
       "                {}\n",
       "            ).addTo(map_09abb47dcb025adaddbfbd8e271ae95d);\n",
       "        \n",
       "    \n",
       "        var popup_ef3f6920d81d075e77a2e593a5ff4f50 = L.popup({&quot;maxWidth&quot;: &quot;100%&quot;});\n",
       "\n",
       "        \n",
       "            \n",
       "                var html_825469d9053bf1a9dcdf6842c89f9d3f = $(`&lt;div id=&quot;html_825469d9053bf1a9dcdf6842c89f9d3f&quot; style=&quot;width: 100.0%; height: 100.0%;&quot;&gt;14th &amp; V St NW&lt;/div&gt;`)[0];\n",
       "                popup_ef3f6920d81d075e77a2e593a5ff4f50.setContent(html_825469d9053bf1a9dcdf6842c89f9d3f);\n",
       "            \n",
       "        \n",
       "\n",
       "        marker_6e46c64325af8401fb698597c7fba5b6.bindPopup(popup_ef3f6920d81d075e77a2e593a5ff4f50)\n",
       "        ;\n",
       "\n",
       "        \n",
       "    \n",
       "    \n",
       "            var marker_5ac9f0384de4649e09496b70de8701c9 = L.marker(\n",
       "                [38.888255, -77.0494365],\n",
       "                {}\n",
       "            ).addTo(map_09abb47dcb025adaddbfbd8e271ae95d);\n",
       "        \n",
       "    \n",
       "        var popup_6ed427e25177f7c122465dd841d2f473 = L.popup({&quot;maxWidth&quot;: &quot;100%&quot;});\n",
       "\n",
       "        \n",
       "            \n",
       "                var html_9f03fba0c2a803f1a07075b2e7a28bf5 = $(`&lt;div id=&quot;html_9f03fba0c2a803f1a07075b2e7a28bf5&quot; style=&quot;width: 100.0%; height: 100.0%;&quot;&gt;Lincoln Memorial&lt;/div&gt;`)[0];\n",
       "                popup_6ed427e25177f7c122465dd841d2f473.setContent(html_9f03fba0c2a803f1a07075b2e7a28bf5);\n",
       "            \n",
       "        \n",
       "\n",
       "        marker_5ac9f0384de4649e09496b70de8701c9.bindPopup(popup_6ed427e25177f7c122465dd841d2f473)\n",
       "        ;\n",
       "\n",
       "        \n",
       "    \n",
       "    \n",
       "            var marker_4c6b883a1397ddf93a6f496b02f38466 = L.marker(\n",
       "                [38.9101, -77.0444],\n",
       "                {}\n",
       "            ).addTo(map_09abb47dcb025adaddbfbd8e271ae95d);\n",
       "        \n",
       "    \n",
       "        var popup_124855ce1df204efbfb634c8681e554b = L.popup({&quot;maxWidth&quot;: &quot;100%&quot;});\n",
       "\n",
       "        \n",
       "            \n",
       "                var html_eae05021609a9bad5ae53b3035cf906f = $(`&lt;div id=&quot;html_eae05021609a9bad5ae53b3035cf906f&quot; style=&quot;width: 100.0%; height: 100.0%;&quot;&gt;Massachusetts Ave &amp; Dupont Circle NW&lt;/div&gt;`)[0];\n",
       "                popup_124855ce1df204efbfb634c8681e554b.setContent(html_eae05021609a9bad5ae53b3035cf906f);\n",
       "            \n",
       "        \n",
       "\n",
       "        marker_4c6b883a1397ddf93a6f496b02f38466.bindPopup(popup_124855ce1df204efbfb634c8681e554b)\n",
       "        ;\n",
       "\n",
       "        \n",
       "    \n",
       "&lt;/script&gt;\n",
       "&lt;/html&gt;\" style=\"position:absolute;width:100%;height:100%;left:0;top:0;border:none !important;\" allowfullscreen webkitallowfullscreen mozallowfullscreen></iframe></div></div>"
      ],
      "text/plain": [
       "<folium.folium.Map at 0x1c487f44310>"
      ]
     },
     "execution_count": 43,
     "metadata": {},
     "output_type": "execute_result"
    }
   ],
   "source": [
    "import folium\n",
    "\n",
    "# Initialize the map at a starting location\n",
    "mymap = folium.Map(location=[38.9072, -77.0369], zoom_start=12)\n",
    "\n",
    "# Data for start stations and their locations\n",
    "start_stations = [\n",
    "    {\"station\": \"New Hampshire Ave & T St NW\", \"location\": (38.915544, -77.038252)},\n",
    "    {\"station\": \"Columbus Circle / Union Station\", \"location\": (38.89696, -77.00493)},\n",
    "    {\"station\": \"15th & P St NW\", \"location\": (38.90980062655191, -77.03442692756653)},\n",
    "    {\"station\": \"1st & M St NE\", \"location\": (38.905697, -77.005483)},\n",
    "    {\"station\": \"Smithsonian-National Mall / Jefferson Dr & 12th St SW\", \"location\": (38.888774, -77.028694)},\n",
    "    {\"station\": \"Henry Bacon Dr & Lincoln Memorial Circle NW\", \"location\": (38.890539, -77.049383)},\n",
    "    {\"station\": \"5th & K St NW\", \"location\": (38.90304, -77.019027)},\n",
    "    {\"station\": \"14th & V St NW\", \"location\": (38.9177645, -77.032096)},\n",
    "    {\"station\": \"Lincoln Memorial\", \"location\": (38.888255, -77.0494365)},\n",
    "    {\"station\": \"Massachusetts Ave & Dupont Circle NW\", \"location\": (38.9101, -77.0444)}\n",
    "]\n",
    "\n",
    "# Add markers for start stations to the map\n",
    "for start_station in start_stations:\n",
    "    folium.Marker(location=start_station[\"location\"], popup=start_station[\"station\"]).add_to(mymap)\n",
    "\n",
    "# Save the map\n",
    "mymap\n"
   ]
  },
  {
   "cell_type": "code",
   "execution_count": 44,
   "metadata": {},
   "outputs": [
    {
     "data": {
      "text/html": [
       "<div style=\"width:100%;\"><div style=\"position:relative;width:100%;height:0;padding-bottom:60%;\"><span style=\"color:#565656\">Make this Notebook Trusted to load map: File -> Trust Notebook</span><iframe srcdoc=\"&lt;!DOCTYPE html&gt;\n",
       "&lt;html&gt;\n",
       "&lt;head&gt;\n",
       "    \n",
       "    &lt;meta http-equiv=&quot;content-type&quot; content=&quot;text/html; charset=UTF-8&quot; /&gt;\n",
       "    \n",
       "        &lt;script&gt;\n",
       "            L_NO_TOUCH = false;\n",
       "            L_DISABLE_3D = false;\n",
       "        &lt;/script&gt;\n",
       "    \n",
       "    &lt;style&gt;html, body {width: 100%;height: 100%;margin: 0;padding: 0;}&lt;/style&gt;\n",
       "    &lt;style&gt;#map {position:absolute;top:0;bottom:0;right:0;left:0;}&lt;/style&gt;\n",
       "    &lt;script src=&quot;https://cdn.jsdelivr.net/npm/leaflet@1.9.3/dist/leaflet.js&quot;&gt;&lt;/script&gt;\n",
       "    &lt;script src=&quot;https://code.jquery.com/jquery-1.12.4.min.js&quot;&gt;&lt;/script&gt;\n",
       "    &lt;script src=&quot;https://cdn.jsdelivr.net/npm/bootstrap@5.2.2/dist/js/bootstrap.bundle.min.js&quot;&gt;&lt;/script&gt;\n",
       "    &lt;script src=&quot;https://cdnjs.cloudflare.com/ajax/libs/Leaflet.awesome-markers/2.0.2/leaflet.awesome-markers.js&quot;&gt;&lt;/script&gt;\n",
       "    &lt;link rel=&quot;stylesheet&quot; href=&quot;https://cdn.jsdelivr.net/npm/leaflet@1.9.3/dist/leaflet.css&quot;/&gt;\n",
       "    &lt;link rel=&quot;stylesheet&quot; href=&quot;https://cdn.jsdelivr.net/npm/bootstrap@5.2.2/dist/css/bootstrap.min.css&quot;/&gt;\n",
       "    &lt;link rel=&quot;stylesheet&quot; href=&quot;https://netdna.bootstrapcdn.com/bootstrap/3.0.0/css/bootstrap.min.css&quot;/&gt;\n",
       "    &lt;link rel=&quot;stylesheet&quot; href=&quot;https://cdn.jsdelivr.net/npm/@fortawesome/fontawesome-free@6.2.0/css/all.min.css&quot;/&gt;\n",
       "    &lt;link rel=&quot;stylesheet&quot; href=&quot;https://cdnjs.cloudflare.com/ajax/libs/Leaflet.awesome-markers/2.0.2/leaflet.awesome-markers.css&quot;/&gt;\n",
       "    &lt;link rel=&quot;stylesheet&quot; href=&quot;https://cdn.jsdelivr.net/gh/python-visualization/folium/folium/templates/leaflet.awesome.rotate.min.css&quot;/&gt;\n",
       "    \n",
       "            &lt;meta name=&quot;viewport&quot; content=&quot;width=device-width,\n",
       "                initial-scale=1.0, maximum-scale=1.0, user-scalable=no&quot; /&gt;\n",
       "            &lt;style&gt;\n",
       "                #map_7ff075e4ab21ffc49faa9fcbabf1cca1 {\n",
       "                    position: relative;\n",
       "                    width: 100.0%;\n",
       "                    height: 100.0%;\n",
       "                    left: 0.0%;\n",
       "                    top: 0.0%;\n",
       "                }\n",
       "                .leaflet-container { font-size: 1rem; }\n",
       "            &lt;/style&gt;\n",
       "        \n",
       "    &lt;script src=&quot;https://cdnjs.cloudflare.com/ajax/libs/leaflet.markercluster/1.1.0/leaflet.markercluster.js&quot;&gt;&lt;/script&gt;\n",
       "    &lt;link rel=&quot;stylesheet&quot; href=&quot;https://cdnjs.cloudflare.com/ajax/libs/leaflet.markercluster/1.1.0/MarkerCluster.css&quot;/&gt;\n",
       "    &lt;link rel=&quot;stylesheet&quot; href=&quot;https://cdnjs.cloudflare.com/ajax/libs/leaflet.markercluster/1.1.0/MarkerCluster.Default.css&quot;/&gt;\n",
       "&lt;/head&gt;\n",
       "&lt;body&gt;\n",
       "    \n",
       "    \n",
       "            &lt;div class=&quot;folium-map&quot; id=&quot;map_7ff075e4ab21ffc49faa9fcbabf1cca1&quot; &gt;&lt;/div&gt;\n",
       "        \n",
       "&lt;/body&gt;\n",
       "&lt;script&gt;\n",
       "    \n",
       "    \n",
       "            var map_7ff075e4ab21ffc49faa9fcbabf1cca1 = L.map(\n",
       "                &quot;map_7ff075e4ab21ffc49faa9fcbabf1cca1&quot;,\n",
       "                {\n",
       "                    center: [38.9072, -77.0369],\n",
       "                    crs: L.CRS.EPSG3857,\n",
       "                    zoom: 12,\n",
       "                    zoomControl: true,\n",
       "                    preferCanvas: false,\n",
       "                }\n",
       "            );\n",
       "\n",
       "            \n",
       "\n",
       "        \n",
       "    \n",
       "            var tile_layer_ef7a290749c69bdad94ca4b7fc1eb89d = L.tileLayer(\n",
       "                &quot;https://{s}.tile.openstreetmap.org/{z}/{x}/{y}.png&quot;,\n",
       "                {&quot;attribution&quot;: &quot;Data by \\u0026copy; \\u003ca target=\\&quot;_blank\\&quot; href=\\&quot;http://openstreetmap.org\\&quot;\\u003eOpenStreetMap\\u003c/a\\u003e, under \\u003ca target=\\&quot;_blank\\&quot; href=\\&quot;http://www.openstreetmap.org/copyright\\&quot;\\u003eODbL\\u003c/a\\u003e.&quot;, &quot;detectRetina&quot;: false, &quot;maxNativeZoom&quot;: 18, &quot;maxZoom&quot;: 18, &quot;minZoom&quot;: 0, &quot;noWrap&quot;: false, &quot;opacity&quot;: 1, &quot;subdomains&quot;: &quot;abc&quot;, &quot;tms&quot;: false}\n",
       "            ).addTo(map_7ff075e4ab21ffc49faa9fcbabf1cca1);\n",
       "        \n",
       "    \n",
       "            var marker_cluster_6fd1d5b2b01d637fc8417e52a8c6f774 = L.markerClusterGroup(\n",
       "                {}\n",
       "            );\n",
       "            map_7ff075e4ab21ffc49faa9fcbabf1cca1.addLayer(marker_cluster_6fd1d5b2b01d637fc8417e52a8c6f774);\n",
       "        \n",
       "    \n",
       "            var marker_df7c0880b9060403a39bfe15217c4d35 = L.marker(\n",
       "                [38.915544, -77.038252],\n",
       "                {}\n",
       "            ).addTo(marker_cluster_6fd1d5b2b01d637fc8417e52a8c6f774);\n",
       "        \n",
       "    \n",
       "        var popup_1dce5953c9231e25723810c01926c285 = L.popup({&quot;maxWidth&quot;: &quot;100%&quot;});\n",
       "\n",
       "        \n",
       "            \n",
       "                var html_60d88e53215443acd5950291d04ebad7 = $(`&lt;div id=&quot;html_60d88e53215443acd5950291d04ebad7&quot; style=&quot;width: 100.0%; height: 100.0%;&quot;&gt;Station: New Hampshire Ave &amp; T St NW&lt;br&gt;Frequency: 90916&lt;/div&gt;`)[0];\n",
       "                popup_1dce5953c9231e25723810c01926c285.setContent(html_60d88e53215443acd5950291d04ebad7);\n",
       "            \n",
       "        \n",
       "\n",
       "        marker_df7c0880b9060403a39bfe15217c4d35.bindPopup(popup_1dce5953c9231e25723810c01926c285)\n",
       "        ;\n",
       "\n",
       "        \n",
       "    \n",
       "    \n",
       "            var marker_4f7ffa1b941d53761258e062ed138153 = L.marker(\n",
       "                [38.89696, -77.00493],\n",
       "                {}\n",
       "            ).addTo(marker_cluster_6fd1d5b2b01d637fc8417e52a8c6f774);\n",
       "        \n",
       "    \n",
       "        var popup_d8dc72bfaa1309925ab67b15e564d550 = L.popup({&quot;maxWidth&quot;: &quot;100%&quot;});\n",
       "\n",
       "        \n",
       "            \n",
       "                var html_8179ac477d8faff74733e30d10cc7ac2 = $(`&lt;div id=&quot;html_8179ac477d8faff74733e30d10cc7ac2&quot; style=&quot;width: 100.0%; height: 100.0%;&quot;&gt;Station: Columbus Circle / Union Station&lt;br&gt;Frequency: 88749&lt;/div&gt;`)[0];\n",
       "                popup_d8dc72bfaa1309925ab67b15e564d550.setContent(html_8179ac477d8faff74733e30d10cc7ac2);\n",
       "            \n",
       "        \n",
       "\n",
       "        marker_4f7ffa1b941d53761258e062ed138153.bindPopup(popup_d8dc72bfaa1309925ab67b15e564d550)\n",
       "        ;\n",
       "\n",
       "        \n",
       "    \n",
       "    \n",
       "            var marker_9f6adfdc02b4e54023e5429502e81551 = L.marker(\n",
       "                [38.90980062655191, -77.03442692756653],\n",
       "                {}\n",
       "            ).addTo(marker_cluster_6fd1d5b2b01d637fc8417e52a8c6f774);\n",
       "        \n",
       "    \n",
       "        var popup_ffac879369830247bf05c6d45808900e = L.popup({&quot;maxWidth&quot;: &quot;100%&quot;});\n",
       "\n",
       "        \n",
       "            \n",
       "                var html_b86983505bc5301b197b7063055a7a74 = $(`&lt;div id=&quot;html_b86983505bc5301b197b7063055a7a74&quot; style=&quot;width: 100.0%; height: 100.0%;&quot;&gt;Station: 15th &amp; P St NW&lt;br&gt;Frequency: 80874&lt;/div&gt;`)[0];\n",
       "                popup_ffac879369830247bf05c6d45808900e.setContent(html_b86983505bc5301b197b7063055a7a74);\n",
       "            \n",
       "        \n",
       "\n",
       "        marker_9f6adfdc02b4e54023e5429502e81551.bindPopup(popup_ffac879369830247bf05c6d45808900e)\n",
       "        ;\n",
       "\n",
       "        \n",
       "    \n",
       "    \n",
       "            var marker_731d4c8adb73e825bba8247b0f891931 = L.marker(\n",
       "                [38.905697, -77.005483],\n",
       "                {}\n",
       "            ).addTo(marker_cluster_6fd1d5b2b01d637fc8417e52a8c6f774);\n",
       "        \n",
       "    \n",
       "        var popup_2a689c28fdc5c0d5306b46aed520cccb = L.popup({&quot;maxWidth&quot;: &quot;100%&quot;});\n",
       "\n",
       "        \n",
       "            \n",
       "                var html_fd7adf4aa22a3e0535f3b54e1490de87 = $(`&lt;div id=&quot;html_fd7adf4aa22a3e0535f3b54e1490de87&quot; style=&quot;width: 100.0%; height: 100.0%;&quot;&gt;Station: 1st &amp; M St NE&lt;br&gt;Frequency: 74642&lt;/div&gt;`)[0];\n",
       "                popup_2a689c28fdc5c0d5306b46aed520cccb.setContent(html_fd7adf4aa22a3e0535f3b54e1490de87);\n",
       "            \n",
       "        \n",
       "\n",
       "        marker_731d4c8adb73e825bba8247b0f891931.bindPopup(popup_2a689c28fdc5c0d5306b46aed520cccb)\n",
       "        ;\n",
       "\n",
       "        \n",
       "    \n",
       "    \n",
       "            var marker_951161569b64b1c620e04270795364dd = L.marker(\n",
       "                [38.888774, -77.028694],\n",
       "                {}\n",
       "            ).addTo(marker_cluster_6fd1d5b2b01d637fc8417e52a8c6f774);\n",
       "        \n",
       "    \n",
       "        var popup_482d129a1df9e6c4cbe6d52428d25767 = L.popup({&quot;maxWidth&quot;: &quot;100%&quot;});\n",
       "\n",
       "        \n",
       "            \n",
       "                var html_59743bfe8097431a68c8192b5de2ad59 = $(`&lt;div id=&quot;html_59743bfe8097431a68c8192b5de2ad59&quot; style=&quot;width: 100.0%; height: 100.0%;&quot;&gt;Station: Smithsonian-National Mall / Jefferson Dr &amp; 12th St SW&lt;br&gt;Frequency: 73037&lt;/div&gt;`)[0];\n",
       "                popup_482d129a1df9e6c4cbe6d52428d25767.setContent(html_59743bfe8097431a68c8192b5de2ad59);\n",
       "            \n",
       "        \n",
       "\n",
       "        marker_951161569b64b1c620e04270795364dd.bindPopup(popup_482d129a1df9e6c4cbe6d52428d25767)\n",
       "        ;\n",
       "\n",
       "        \n",
       "    \n",
       "    \n",
       "            var marker_2610437395e258731e94f5b93cab2a57 = L.marker(\n",
       "                [38.890539, -77.049383],\n",
       "                {}\n",
       "            ).addTo(marker_cluster_6fd1d5b2b01d637fc8417e52a8c6f774);\n",
       "        \n",
       "    \n",
       "        var popup_5c843e1c0aa15d047405b8b1ba813e18 = L.popup({&quot;maxWidth&quot;: &quot;100%&quot;});\n",
       "\n",
       "        \n",
       "            \n",
       "                var html_19f0c4d89a22ab0d6e121739023932ae = $(`&lt;div id=&quot;html_19f0c4d89a22ab0d6e121739023932ae&quot; style=&quot;width: 100.0%; height: 100.0%;&quot;&gt;Station: Henry Bacon Dr &amp; Lincoln Memorial Circle NW&lt;br&gt;Frequency: 72609&lt;/div&gt;`)[0];\n",
       "                popup_5c843e1c0aa15d047405b8b1ba813e18.setContent(html_19f0c4d89a22ab0d6e121739023932ae);\n",
       "            \n",
       "        \n",
       "\n",
       "        marker_2610437395e258731e94f5b93cab2a57.bindPopup(popup_5c843e1c0aa15d047405b8b1ba813e18)\n",
       "        ;\n",
       "\n",
       "        \n",
       "    \n",
       "    \n",
       "            var marker_1b8cbc017cc68725fd2ef7b2689316af = L.marker(\n",
       "                [38.90304, -77.019027],\n",
       "                {}\n",
       "            ).addTo(marker_cluster_6fd1d5b2b01d637fc8417e52a8c6f774);\n",
       "        \n",
       "    \n",
       "        var popup_871c1cd996e4f35a0c4e46f7f573c9e7 = L.popup({&quot;maxWidth&quot;: &quot;100%&quot;});\n",
       "\n",
       "        \n",
       "            \n",
       "                var html_d48b69194a7816f4f5505a6ba901ad3b = $(`&lt;div id=&quot;html_d48b69194a7816f4f5505a6ba901ad3b&quot; style=&quot;width: 100.0%; height: 100.0%;&quot;&gt;Station: 5th &amp; K St NW&lt;br&gt;Frequency: 67497&lt;/div&gt;`)[0];\n",
       "                popup_871c1cd996e4f35a0c4e46f7f573c9e7.setContent(html_d48b69194a7816f4f5505a6ba901ad3b);\n",
       "            \n",
       "        \n",
       "\n",
       "        marker_1b8cbc017cc68725fd2ef7b2689316af.bindPopup(popup_871c1cd996e4f35a0c4e46f7f573c9e7)\n",
       "        ;\n",
       "\n",
       "        \n",
       "    \n",
       "    \n",
       "            var marker_8bb55d0f8ff468aafee29d99337e7781 = L.marker(\n",
       "                [38.9177645, -77.032096],\n",
       "                {}\n",
       "            ).addTo(marker_cluster_6fd1d5b2b01d637fc8417e52a8c6f774);\n",
       "        \n",
       "    \n",
       "        var popup_f21783ade0b552cafe2ed238b97ccb9c = L.popup({&quot;maxWidth&quot;: &quot;100%&quot;});\n",
       "\n",
       "        \n",
       "            \n",
       "                var html_6514fa8b7a6a651468f51030460f01ad = $(`&lt;div id=&quot;html_6514fa8b7a6a651468f51030460f01ad&quot; style=&quot;width: 100.0%; height: 100.0%;&quot;&gt;Station: 14th &amp; V St NW&lt;br&gt;Frequency: 64552&lt;/div&gt;`)[0];\n",
       "                popup_f21783ade0b552cafe2ed238b97ccb9c.setContent(html_6514fa8b7a6a651468f51030460f01ad);\n",
       "            \n",
       "        \n",
       "\n",
       "        marker_8bb55d0f8ff468aafee29d99337e7781.bindPopup(popup_f21783ade0b552cafe2ed238b97ccb9c)\n",
       "        ;\n",
       "\n",
       "        \n",
       "    \n",
       "    \n",
       "            var marker_ed071852b587676755b2dea888fb9d1e = L.marker(\n",
       "                [38.888255, -77.0494365],\n",
       "                {}\n",
       "            ).addTo(marker_cluster_6fd1d5b2b01d637fc8417e52a8c6f774);\n",
       "        \n",
       "    \n",
       "        var popup_4e51c94dd6a2df130d9ab54ef87a44da = L.popup({&quot;maxWidth&quot;: &quot;100%&quot;});\n",
       "\n",
       "        \n",
       "            \n",
       "                var html_78cd184b4612a796e5322dcd3879c16b = $(`&lt;div id=&quot;html_78cd184b4612a796e5322dcd3879c16b&quot; style=&quot;width: 100.0%; height: 100.0%;&quot;&gt;Station: Lincoln Memorial&lt;br&gt;Frequency: 63439&lt;/div&gt;`)[0];\n",
       "                popup_4e51c94dd6a2df130d9ab54ef87a44da.setContent(html_78cd184b4612a796e5322dcd3879c16b);\n",
       "            \n",
       "        \n",
       "\n",
       "        marker_ed071852b587676755b2dea888fb9d1e.bindPopup(popup_4e51c94dd6a2df130d9ab54ef87a44da)\n",
       "        ;\n",
       "\n",
       "        \n",
       "    \n",
       "    \n",
       "            var marker_cdb9eecfbc1f5f412e32680f4610e245 = L.marker(\n",
       "                [38.9101, -77.0444],\n",
       "                {}\n",
       "            ).addTo(marker_cluster_6fd1d5b2b01d637fc8417e52a8c6f774);\n",
       "        \n",
       "    \n",
       "        var popup_a74537cdb05a6dfaafc1eb71a05f3570 = L.popup({&quot;maxWidth&quot;: &quot;100%&quot;});\n",
       "\n",
       "        \n",
       "            \n",
       "                var html_7d5467dd72bf5ef01b4949d7818648dd = $(`&lt;div id=&quot;html_7d5467dd72bf5ef01b4949d7818648dd&quot; style=&quot;width: 100.0%; height: 100.0%;&quot;&gt;Station: Massachusetts Ave &amp; Dupont Circle NW&lt;br&gt;Frequency: 63328&lt;/div&gt;`)[0];\n",
       "                popup_a74537cdb05a6dfaafc1eb71a05f3570.setContent(html_7d5467dd72bf5ef01b4949d7818648dd);\n",
       "            \n",
       "        \n",
       "\n",
       "        marker_cdb9eecfbc1f5f412e32680f4610e245.bindPopup(popup_a74537cdb05a6dfaafc1eb71a05f3570)\n",
       "        ;\n",
       "\n",
       "        \n",
       "    \n",
       "&lt;/script&gt;\n",
       "&lt;/html&gt;\" style=\"position:absolute;width:100%;height:100%;left:0;top:0;border:none !important;\" allowfullscreen webkitallowfullscreen mozallowfullscreen></iframe></div></div>"
      ],
      "text/plain": [
       "<folium.folium.Map at 0x1c487ff89d0>"
      ]
     },
     "execution_count": 44,
     "metadata": {},
     "output_type": "execute_result"
    }
   ],
   "source": [
    "import pandas as pd\n",
    "import folium\n",
    "from folium.plugins import MarkerCluster\n",
    "\n",
    "# Example DataFrame\n",
    "data = {\n",
    "    'Start_station': [\n",
    "        'New Hampshire Ave & T St NW',\n",
    "        'Columbus Circle / Union Station',\n",
    "        '15th & P St NW',\n",
    "        '1st & M St NE',\n",
    "        'Smithsonian-National Mall / Jefferson Dr & 12th St SW',\n",
    "        'Henry Bacon Dr & Lincoln Memorial Circle NW',\n",
    "        '5th & K St NW',\n",
    "        '14th & V St NW',\n",
    "        'Lincoln Memorial',\n",
    "        'Massachusetts Ave & Dupont Circle NW'\n",
    "    ],\n",
    "    'Start_location': [\n",
    "        (38.915544, -77.038252),\n",
    "        (38.89696, -77.00493),\n",
    "        (38.90980062655191, -77.03442692756653),\n",
    "        (38.905697, -77.005483),\n",
    "        (38.888774, -77.028694),\n",
    "        (38.890539, -77.049383),\n",
    "        (38.90304, -77.019027),\n",
    "        (38.9177645, -77.032096),\n",
    "        (38.888255, -77.0494365),\n",
    "        (38.9101, -77.0444)\n",
    "    ],\n",
    "    'Frequency': [\n",
    "        90916, 88749, 80874, 74642, 73037,\n",
    "        72609, 67497, 64552, 63439, 63328\n",
    "    ]\n",
    "}\n",
    "\n",
    "df = pd.DataFrame(data)\n",
    "\n",
    "# Create a map centered around Washington, D.C.\n",
    "map_dc = folium.Map(location=[38.9072, -77.0369], zoom_start=12)\n",
    "\n",
    "# Create a marker cluster\n",
    "marker_cluster = MarkerCluster().add_to(map_dc)\n",
    "\n",
    "# Add markers for each station\n",
    "for index, row in df.iterrows():\n",
    "    folium.Marker(\n",
    "        location=row['Start_location'],  # Use Start_location for marker location\n",
    "        popup=f\"Station: {row['Start_station']}<br>Frequency: {row['Frequency']}\",\n",
    "        icon=None,\n",
    "    ).add_to(marker_cluster)\n",
    "\n",
    "# display map\n",
    "map_dc\n"
   ]
  }
 ],
 "metadata": {
  "kernelspec": {
   "display_name": "base",
   "language": "python",
   "name": "python3"
  },
  "language_info": {
   "codemirror_mode": {
    "name": "ipython",
    "version": 3
   },
   "file_extension": ".py",
   "mimetype": "text/x-python",
   "name": "python",
   "nbconvert_exporter": "python",
   "pygments_lexer": "ipython3",
   "version": "3.11.5"
  }
 },
 "nbformat": 4,
 "nbformat_minor": 2
}
