{
 "cells": [
  {
   "cell_type": "code",
   "execution_count": 1025,
   "metadata": {},
   "outputs": [
    {
     "name": "stdout",
     "output_type": "stream",
     "text": [
      "Hello World!\n"
     ]
    }
   ],
   "source": [
    "print(\"Hello World!\")"
   ]
  },
  {
   "cell_type": "code",
   "execution_count": 1026,
   "metadata": {},
   "outputs": [],
   "source": [
    "import numpy as np\n",
    "import pandas as pd\n",
    "from sklearn.model_selection import train_test_split\n",
    "from sklearn.linear_model import LinearRegression\n",
    "from sklearn.metrics import mean_squared_error, r2_score\n",
    "from sklearn.preprocessing import StandardScaler\n",
    "import matplotlib.pyplot as plt\n",
    "import seaborn as sns"
   ]
  },
  {
   "cell_type": "markdown",
   "metadata": {},
   "source": [
    "## Daily Ride Prediction"
   ]
  },
  {
   "cell_type": "markdown",
   "metadata": {},
   "source": [
    "Loading Dataset"
   ]
  },
  {
   "cell_type": "code",
   "execution_count": 1027,
   "metadata": {},
   "outputs": [
    {
     "data": {
      "text/html": [
       "<div>\n",
       "<style scoped>\n",
       "    .dataframe tbody tr th:only-of-type {\n",
       "        vertical-align: middle;\n",
       "    }\n",
       "\n",
       "    .dataframe tbody tr th {\n",
       "        vertical-align: top;\n",
       "    }\n",
       "\n",
       "    .dataframe thead th {\n",
       "        text-align: right;\n",
       "    }\n",
       "</style>\n",
       "<table border=\"1\" class=\"dataframe\">\n",
       "  <thead>\n",
       "    <tr style=\"text-align: right;\">\n",
       "      <th></th>\n",
       "      <th>Casual</th>\n",
       "      <th>Date</th>\n",
       "      <th>Registered</th>\n",
       "      <th>Total_rides</th>\n",
       "      <th>Apparent_temperature_mean (°C)</th>\n",
       "      <th>Temperature_2m_mean (°C)</th>\n",
       "      <th>Weathercode (wmo code)</th>\n",
       "      <th>Windspeed_10m_max (km/h)</th>\n",
       "      <th>Weather</th>\n",
       "      <th>Clear Weather</th>\n",
       "      <th>...</th>\n",
       "      <th>Drizzle Weather</th>\n",
       "      <th>Rainy Weather</th>\n",
       "      <th>Snowy Weather</th>\n",
       "      <th>Year</th>\n",
       "      <th>Season</th>\n",
       "      <th>Weekday</th>\n",
       "      <th>Workingday</th>\n",
       "      <th>Working_day</th>\n",
       "      <th>Weekend</th>\n",
       "      <th>Month</th>\n",
       "    </tr>\n",
       "  </thead>\n",
       "  <tbody>\n",
       "    <tr>\n",
       "      <th>0</th>\n",
       "      <td>371</td>\n",
       "      <td>2021-01-01</td>\n",
       "      <td>590</td>\n",
       "      <td>961</td>\n",
       "      <td>-0.9</td>\n",
       "      <td>2.3</td>\n",
       "      <td>63</td>\n",
       "      <td>10.6</td>\n",
       "      <td>Rain</td>\n",
       "      <td>0</td>\n",
       "      <td>...</td>\n",
       "      <td>0</td>\n",
       "      <td>1</td>\n",
       "      <td>0</td>\n",
       "      <td>2021</td>\n",
       "      <td>Winter</td>\n",
       "      <td>Fri.</td>\n",
       "      <td>Yes</td>\n",
       "      <td>1</td>\n",
       "      <td>0</td>\n",
       "      <td>Jan.</td>\n",
       "    </tr>\n",
       "    <tr>\n",
       "      <th>1</th>\n",
       "      <td>2874</td>\n",
       "      <td>2021-01-02</td>\n",
       "      <td>2844</td>\n",
       "      <td>5718</td>\n",
       "      <td>4.8</td>\n",
       "      <td>7.6</td>\n",
       "      <td>61</td>\n",
       "      <td>19.1</td>\n",
       "      <td>Drizzle</td>\n",
       "      <td>0</td>\n",
       "      <td>...</td>\n",
       "      <td>1</td>\n",
       "      <td>0</td>\n",
       "      <td>0</td>\n",
       "      <td>2021</td>\n",
       "      <td>Winter</td>\n",
       "      <td>Sat.</td>\n",
       "      <td>No</td>\n",
       "      <td>0</td>\n",
       "      <td>1</td>\n",
       "      <td>Jan.</td>\n",
       "    </tr>\n",
       "  </tbody>\n",
       "</table>\n",
       "<p>2 rows × 21 columns</p>\n",
       "</div>"
      ],
      "text/plain": [
       "   Casual        Date  Registered  Total_rides  \\\n",
       "0     371  2021-01-01         590          961   \n",
       "1    2874  2021-01-02        2844         5718   \n",
       "\n",
       "   Apparent_temperature_mean (°C)  Temperature_2m_mean (°C)  \\\n",
       "0                            -0.9                       2.3   \n",
       "1                             4.8                       7.6   \n",
       "\n",
       "   Weathercode (wmo code)  Windspeed_10m_max (km/h)  Weather  Clear Weather  \\\n",
       "0                      63                      10.6     Rain              0   \n",
       "1                      61                      19.1  Drizzle              0   \n",
       "\n",
       "   ...  Drizzle Weather  Rainy Weather  Snowy Weather  Year  Season Weekday  \\\n",
       "0  ...                0              1              0  2021  Winter    Fri.   \n",
       "1  ...                1              0              0  2021  Winter    Sat.   \n",
       "\n",
       "  Workingday Working_day  Weekend  Month  \n",
       "0        Yes           1        0   Jan.  \n",
       "1         No           0        1   Jan.  \n",
       "\n",
       "[2 rows x 21 columns]"
      ]
     },
     "execution_count": 1027,
     "metadata": {},
     "output_type": "execute_result"
    }
   ],
   "source": [
    "daily=pd.read_csv(\"daily_ml.csv\")\n",
    "daily.head(2)"
   ]
  },
  {
   "cell_type": "code",
   "execution_count": 1028,
   "metadata": {},
   "outputs": [
    {
     "name": "stdout",
     "output_type": "stream",
     "text": [
      "<class 'pandas.core.frame.DataFrame'>\n",
      "RangeIndex: 1095 entries, 0 to 1094\n",
      "Data columns (total 21 columns):\n",
      " #   Column                          Non-Null Count  Dtype  \n",
      "---  ------                          --------------  -----  \n",
      " 0   Casual                          1095 non-null   int64  \n",
      " 1   Date                            1095 non-null   object \n",
      " 2   Registered                      1095 non-null   int64  \n",
      " 3   Total_rides                     1095 non-null   int64  \n",
      " 4   Apparent_temperature_mean (°C)  1095 non-null   float64\n",
      " 5   Temperature_2m_mean (°C)        1095 non-null   float64\n",
      " 6   Weathercode (wmo code)          1095 non-null   int64  \n",
      " 7   Windspeed_10m_max (km/h)        1095 non-null   float64\n",
      " 8   Weather                         1095 non-null   object \n",
      " 9   Clear Weather                   1095 non-null   int64  \n",
      " 10  Cloudy Weather                  1095 non-null   int64  \n",
      " 11  Drizzle Weather                 1095 non-null   int64  \n",
      " 12  Rainy Weather                   1095 non-null   int64  \n",
      " 13  Snowy Weather                   1095 non-null   int64  \n",
      " 14  Year                            1095 non-null   int64  \n",
      " 15  Season                          1095 non-null   object \n",
      " 16  Weekday                         1095 non-null   object \n",
      " 17  Workingday                      1095 non-null   object \n",
      " 18  Working_day                     1095 non-null   int64  \n",
      " 19  Weekend                         1095 non-null   int64  \n",
      " 20  Month                           1095 non-null   object \n",
      "dtypes: float64(3), int64(12), object(6)\n",
      "memory usage: 179.8+ KB\n"
     ]
    }
   ],
   "source": [
    "daily.info()"
   ]
  },
  {
   "cell_type": "code",
   "execution_count": 1029,
   "metadata": {},
   "outputs": [
    {
     "data": {
      "text/plain": [
       "Casual                            0\n",
       "Date                              0\n",
       "Registered                        0\n",
       "Total_rides                       0\n",
       "Apparent_temperature_mean (°C)    0\n",
       "Temperature_2m_mean (°C)          0\n",
       "Weathercode (wmo code)            0\n",
       "Windspeed_10m_max (km/h)          0\n",
       "Weather                           0\n",
       "Clear Weather                     0\n",
       "Cloudy Weather                    0\n",
       "Drizzle Weather                   0\n",
       "Rainy Weather                     0\n",
       "Snowy Weather                     0\n",
       "Year                              0\n",
       "Season                            0\n",
       "Weekday                           0\n",
       "Workingday                        0\n",
       "Working_day                       0\n",
       "Weekend                           0\n",
       "Month                             0\n",
       "dtype: int64"
      ]
     },
     "execution_count": 1029,
     "metadata": {},
     "output_type": "execute_result"
    }
   ],
   "source": [
    "# checking for missing values\n",
    "daily.isnull().sum()"
   ]
  },
  {
   "cell_type": "code",
   "execution_count": 1030,
   "metadata": {},
   "outputs": [
    {
     "data": {
      "text/html": [
       "<div>\n",
       "<style scoped>\n",
       "    .dataframe tbody tr th:only-of-type {\n",
       "        vertical-align: middle;\n",
       "    }\n",
       "\n",
       "    .dataframe tbody tr th {\n",
       "        vertical-align: top;\n",
       "    }\n",
       "\n",
       "    .dataframe thead th {\n",
       "        text-align: right;\n",
       "    }\n",
       "</style>\n",
       "<table border=\"1\" class=\"dataframe\">\n",
       "  <thead>\n",
       "    <tr style=\"text-align: right;\">\n",
       "      <th></th>\n",
       "      <th>count</th>\n",
       "      <th>mean</th>\n",
       "      <th>std</th>\n",
       "      <th>min</th>\n",
       "      <th>25%</th>\n",
       "      <th>50%</th>\n",
       "      <th>75%</th>\n",
       "      <th>max</th>\n",
       "    </tr>\n",
       "  </thead>\n",
       "  <tbody>\n",
       "    <tr>\n",
       "      <th>Casual</th>\n",
       "      <td>1095.0</td>\n",
       "      <td>3836.715068</td>\n",
       "      <td>2114.895305</td>\n",
       "      <td>174.0</td>\n",
       "      <td>2122.00</td>\n",
       "      <td>3595.0</td>\n",
       "      <td>5321.00</td>\n",
       "      <td>12839.0</td>\n",
       "    </tr>\n",
       "    <tr>\n",
       "      <th>Registered</th>\n",
       "      <td>1095.0</td>\n",
       "      <td>5929.492237</td>\n",
       "      <td>2419.273171</td>\n",
       "      <td>323.0</td>\n",
       "      <td>4292.50</td>\n",
       "      <td>5848.0</td>\n",
       "      <td>7577.00</td>\n",
       "      <td>12580.0</td>\n",
       "    </tr>\n",
       "    <tr>\n",
       "      <th>Total_rides</th>\n",
       "      <td>1095.0</td>\n",
       "      <td>9766.207306</td>\n",
       "      <td>4129.630135</td>\n",
       "      <td>497.0</td>\n",
       "      <td>6741.50</td>\n",
       "      <td>9759.0</td>\n",
       "      <td>13020.00</td>\n",
       "      <td>20174.0</td>\n",
       "    </tr>\n",
       "    <tr>\n",
       "      <th>Apparent_temperature_mean (°C)</th>\n",
       "      <td>1095.0</td>\n",
       "      <td>12.836438</td>\n",
       "      <td>11.889420</td>\n",
       "      <td>-15.2</td>\n",
       "      <td>2.70</td>\n",
       "      <td>13.1</td>\n",
       "      <td>23.40</td>\n",
       "      <td>34.7</td>\n",
       "    </tr>\n",
       "    <tr>\n",
       "      <th>Temperature_2m_mean (°C)</th>\n",
       "      <td>1095.0</td>\n",
       "      <td>14.412785</td>\n",
       "      <td>9.667675</td>\n",
       "      <td>-9.1</td>\n",
       "      <td>6.25</td>\n",
       "      <td>14.9</td>\n",
       "      <td>22.75</td>\n",
       "      <td>34.7</td>\n",
       "    </tr>\n",
       "    <tr>\n",
       "      <th>Weathercode (wmo code)</th>\n",
       "      <td>1095.0</td>\n",
       "      <td>24.391781</td>\n",
       "      <td>27.774440</td>\n",
       "      <td>0.0</td>\n",
       "      <td>1.00</td>\n",
       "      <td>3.0</td>\n",
       "      <td>53.00</td>\n",
       "      <td>75.0</td>\n",
       "    </tr>\n",
       "    <tr>\n",
       "      <th>Windspeed_10m_max (km/h)</th>\n",
       "      <td>1095.0</td>\n",
       "      <td>16.051050</td>\n",
       "      <td>5.880358</td>\n",
       "      <td>5.6</td>\n",
       "      <td>11.70</td>\n",
       "      <td>14.7</td>\n",
       "      <td>19.40</td>\n",
       "      <td>40.1</td>\n",
       "    </tr>\n",
       "    <tr>\n",
       "      <th>Clear Weather</th>\n",
       "      <td>1095.0</td>\n",
       "      <td>0.602740</td>\n",
       "      <td>0.489554</td>\n",
       "      <td>0.0</td>\n",
       "      <td>0.00</td>\n",
       "      <td>1.0</td>\n",
       "      <td>1.00</td>\n",
       "      <td>1.0</td>\n",
       "    </tr>\n",
       "    <tr>\n",
       "      <th>Cloudy Weather</th>\n",
       "      <td>1095.0</td>\n",
       "      <td>0.123288</td>\n",
       "      <td>0.328917</td>\n",
       "      <td>0.0</td>\n",
       "      <td>0.00</td>\n",
       "      <td>0.0</td>\n",
       "      <td>0.00</td>\n",
       "      <td>1.0</td>\n",
       "    </tr>\n",
       "    <tr>\n",
       "      <th>Drizzle Weather</th>\n",
       "      <td>1095.0</td>\n",
       "      <td>0.155251</td>\n",
       "      <td>0.362309</td>\n",
       "      <td>0.0</td>\n",
       "      <td>0.00</td>\n",
       "      <td>0.0</td>\n",
       "      <td>0.00</td>\n",
       "      <td>1.0</td>\n",
       "    </tr>\n",
       "    <tr>\n",
       "      <th>Rainy Weather</th>\n",
       "      <td>1095.0</td>\n",
       "      <td>0.097717</td>\n",
       "      <td>0.297067</td>\n",
       "      <td>0.0</td>\n",
       "      <td>0.00</td>\n",
       "      <td>0.0</td>\n",
       "      <td>0.00</td>\n",
       "      <td>1.0</td>\n",
       "    </tr>\n",
       "    <tr>\n",
       "      <th>Snowy Weather</th>\n",
       "      <td>1095.0</td>\n",
       "      <td>0.021005</td>\n",
       "      <td>0.143465</td>\n",
       "      <td>0.0</td>\n",
       "      <td>0.00</td>\n",
       "      <td>0.0</td>\n",
       "      <td>0.00</td>\n",
       "      <td>1.0</td>\n",
       "    </tr>\n",
       "    <tr>\n",
       "      <th>Year</th>\n",
       "      <td>1095.0</td>\n",
       "      <td>2022.000000</td>\n",
       "      <td>0.816870</td>\n",
       "      <td>2021.0</td>\n",
       "      <td>2021.00</td>\n",
       "      <td>2022.0</td>\n",
       "      <td>2023.00</td>\n",
       "      <td>2023.0</td>\n",
       "    </tr>\n",
       "    <tr>\n",
       "      <th>Working_day</th>\n",
       "      <td>1095.0</td>\n",
       "      <td>0.713242</td>\n",
       "      <td>0.452454</td>\n",
       "      <td>0.0</td>\n",
       "      <td>0.00</td>\n",
       "      <td>1.0</td>\n",
       "      <td>1.00</td>\n",
       "      <td>1.0</td>\n",
       "    </tr>\n",
       "    <tr>\n",
       "      <th>Weekend</th>\n",
       "      <td>1095.0</td>\n",
       "      <td>0.286758</td>\n",
       "      <td>0.452454</td>\n",
       "      <td>0.0</td>\n",
       "      <td>0.00</td>\n",
       "      <td>0.0</td>\n",
       "      <td>1.00</td>\n",
       "      <td>1.0</td>\n",
       "    </tr>\n",
       "  </tbody>\n",
       "</table>\n",
       "</div>"
      ],
      "text/plain": [
       "                                 count         mean          std     min  \\\n",
       "Casual                          1095.0  3836.715068  2114.895305   174.0   \n",
       "Registered                      1095.0  5929.492237  2419.273171   323.0   \n",
       "Total_rides                     1095.0  9766.207306  4129.630135   497.0   \n",
       "Apparent_temperature_mean (°C)  1095.0    12.836438    11.889420   -15.2   \n",
       "Temperature_2m_mean (°C)        1095.0    14.412785     9.667675    -9.1   \n",
       "Weathercode (wmo code)          1095.0    24.391781    27.774440     0.0   \n",
       "Windspeed_10m_max (km/h)        1095.0    16.051050     5.880358     5.6   \n",
       "Clear Weather                   1095.0     0.602740     0.489554     0.0   \n",
       "Cloudy Weather                  1095.0     0.123288     0.328917     0.0   \n",
       "Drizzle Weather                 1095.0     0.155251     0.362309     0.0   \n",
       "Rainy Weather                   1095.0     0.097717     0.297067     0.0   \n",
       "Snowy Weather                   1095.0     0.021005     0.143465     0.0   \n",
       "Year                            1095.0  2022.000000     0.816870  2021.0   \n",
       "Working_day                     1095.0     0.713242     0.452454     0.0   \n",
       "Weekend                         1095.0     0.286758     0.452454     0.0   \n",
       "\n",
       "                                    25%     50%       75%      max  \n",
       "Casual                          2122.00  3595.0   5321.00  12839.0  \n",
       "Registered                      4292.50  5848.0   7577.00  12580.0  \n",
       "Total_rides                     6741.50  9759.0  13020.00  20174.0  \n",
       "Apparent_temperature_mean (°C)     2.70    13.1     23.40     34.7  \n",
       "Temperature_2m_mean (°C)           6.25    14.9     22.75     34.7  \n",
       "Weathercode (wmo code)             1.00     3.0     53.00     75.0  \n",
       "Windspeed_10m_max (km/h)          11.70    14.7     19.40     40.1  \n",
       "Clear Weather                      0.00     1.0      1.00      1.0  \n",
       "Cloudy Weather                     0.00     0.0      0.00      1.0  \n",
       "Drizzle Weather                    0.00     0.0      0.00      1.0  \n",
       "Rainy Weather                      0.00     0.0      0.00      1.0  \n",
       "Snowy Weather                      0.00     0.0      0.00      1.0  \n",
       "Year                            2021.00  2022.0   2023.00   2023.0  \n",
       "Working_day                        0.00     1.0      1.00      1.0  \n",
       "Weekend                            0.00     0.0      1.00      1.0  "
      ]
     },
     "execution_count": 1030,
     "metadata": {},
     "output_type": "execute_result"
    }
   ],
   "source": [
    "daily.describe().T"
   ]
  },
  {
   "cell_type": "markdown",
   "metadata": {},
   "source": [
    "## Univeriate Simple linear"
   ]
  },
  {
   "cell_type": "code",
   "execution_count": 1031,
   "metadata": {},
   "outputs": [
    {
     "data": {
      "text/html": [
       "<div>\n",
       "<style scoped>\n",
       "    .dataframe tbody tr th:only-of-type {\n",
       "        vertical-align: middle;\n",
       "    }\n",
       "\n",
       "    .dataframe tbody tr th {\n",
       "        vertical-align: top;\n",
       "    }\n",
       "\n",
       "    .dataframe thead th {\n",
       "        text-align: right;\n",
       "    }\n",
       "</style>\n",
       "<table border=\"1\" class=\"dataframe\">\n",
       "  <thead>\n",
       "    <tr style=\"text-align: right;\">\n",
       "      <th></th>\n",
       "      <th>Temperature_2m_mean (°C)</th>\n",
       "      <th>Total_rides</th>\n",
       "    </tr>\n",
       "  </thead>\n",
       "  <tbody>\n",
       "    <tr>\n",
       "      <th>0</th>\n",
       "      <td>2.3</td>\n",
       "      <td>961</td>\n",
       "    </tr>\n",
       "    <tr>\n",
       "      <th>1</th>\n",
       "      <td>7.6</td>\n",
       "      <td>5718</td>\n",
       "    </tr>\n",
       "    <tr>\n",
       "      <th>2</th>\n",
       "      <td>3.9</td>\n",
       "      <td>1628</td>\n",
       "    </tr>\n",
       "    <tr>\n",
       "      <th>3</th>\n",
       "      <td>4.1</td>\n",
       "      <td>2981</td>\n",
       "    </tr>\n",
       "    <tr>\n",
       "      <th>4</th>\n",
       "      <td>4.0</td>\n",
       "      <td>3061</td>\n",
       "    </tr>\n",
       "    <tr>\n",
       "      <th>...</th>\n",
       "      <td>...</td>\n",
       "      <td>...</td>\n",
       "    </tr>\n",
       "    <tr>\n",
       "      <th>1090</th>\n",
       "      <td>-4.3</td>\n",
       "      <td>2580</td>\n",
       "    </tr>\n",
       "    <tr>\n",
       "      <th>1091</th>\n",
       "      <td>-2.5</td>\n",
       "      <td>7918</td>\n",
       "    </tr>\n",
       "    <tr>\n",
       "      <th>1092</th>\n",
       "      <td>-3.9</td>\n",
       "      <td>8659</td>\n",
       "    </tr>\n",
       "    <tr>\n",
       "      <th>1093</th>\n",
       "      <td>-2.9</td>\n",
       "      <td>7594</td>\n",
       "    </tr>\n",
       "    <tr>\n",
       "      <th>1094</th>\n",
       "      <td>-4.6</td>\n",
       "      <td>7327</td>\n",
       "    </tr>\n",
       "  </tbody>\n",
       "</table>\n",
       "<p>1095 rows × 2 columns</p>\n",
       "</div>"
      ],
      "text/plain": [
       "      Temperature_2m_mean (°C)  Total_rides\n",
       "0                          2.3          961\n",
       "1                          7.6         5718\n",
       "2                          3.9         1628\n",
       "3                          4.1         2981\n",
       "4                          4.0         3061\n",
       "...                        ...          ...\n",
       "1090                      -4.3         2580\n",
       "1091                      -2.5         7918\n",
       "1092                      -3.9         8659\n",
       "1093                      -2.9         7594\n",
       "1094                      -4.6         7327\n",
       "\n",
       "[1095 rows x 2 columns]"
      ]
     },
     "metadata": {},
     "output_type": "display_data"
    }
   ],
   "source": [
    "## Data frame for Temperature and total rides\n",
    "temperature_rides=daily[[\"Temperature_2m_mean (°C)\", \"Total_rides\"]]\n",
    "display(temperature_rides)"
   ]
  },
  {
   "cell_type": "code",
   "execution_count": 1032,
   "metadata": {},
   "outputs": [
    {
     "data": {
      "text/plain": [
       "Text(0.5, 0, 'Temperature (°C)')"
      ]
     },
     "execution_count": 1032,
     "metadata": {},
     "output_type": "execute_result"
    },
    {
     "data": {
      "image/png": "[encoded data removed]",
      "text/plain": [
       "<Figure size 640x480 with 1 Axes>"
      ]
     },
     "metadata": {},
     "output_type": "display_data"
    }
   ],
   "source": [
    "plt.scatter(data=temperature_rides,x=\"Temperature_2m_mean (°C)\",y=\"Total_rides\")\n",
    "plt.title(\"Rides based on Temperature\")\n",
    "plt.ylabel(\"Total_rides\")\n",
    "plt.xlabel(\"Temperature (°C)\")\n",
    "# Add regression line using seaborn\n",
    "#sns.regplot(data=temperature_rides, x=\"Temperature_2m_mean (°C)\", y=\"Total_rides\", scatter=False)"
   ]
  },
  {
   "cell_type": "code",
   "execution_count": 1033,
   "metadata": {},
   "outputs": [
    {
     "data": {
      "text/html": [
       "<div>\n",
       "<style scoped>\n",
       "    .dataframe tbody tr th:only-of-type {\n",
       "        vertical-align: middle;\n",
       "    }\n",
       "\n",
       "    .dataframe tbody tr th {\n",
       "        vertical-align: top;\n",
       "    }\n",
       "\n",
       "    .dataframe thead th {\n",
       "        text-align: right;\n",
       "    }\n",
       "</style>\n",
       "<table border=\"1\" class=\"dataframe\">\n",
       "  <thead>\n",
       "    <tr style=\"text-align: right;\">\n",
       "      <th></th>\n",
       "      <th>Windspeed_10m_max (km/h)</th>\n",
       "      <th>Total_rides</th>\n",
       "    </tr>\n",
       "  </thead>\n",
       "  <tbody>\n",
       "    <tr>\n",
       "      <th>0</th>\n",
       "      <td>10.6</td>\n",
       "      <td>961</td>\n",
       "    </tr>\n",
       "    <tr>\n",
       "      <th>1</th>\n",
       "      <td>19.1</td>\n",
       "      <td>5718</td>\n",
       "    </tr>\n",
       "    <tr>\n",
       "      <th>2</th>\n",
       "      <td>13.0</td>\n",
       "      <td>1628</td>\n",
       "    </tr>\n",
       "    <tr>\n",
       "      <th>3</th>\n",
       "      <td>13.3</td>\n",
       "      <td>2981</td>\n",
       "    </tr>\n",
       "    <tr>\n",
       "      <th>4</th>\n",
       "      <td>9.2</td>\n",
       "      <td>3061</td>\n",
       "    </tr>\n",
       "    <tr>\n",
       "      <th>...</th>\n",
       "      <td>...</td>\n",
       "      <td>...</td>\n",
       "    </tr>\n",
       "    <tr>\n",
       "      <th>1090</th>\n",
       "      <td>10.1</td>\n",
       "      <td>2580</td>\n",
       "    </tr>\n",
       "    <tr>\n",
       "      <th>1091</th>\n",
       "      <td>12.8</td>\n",
       "      <td>7918</td>\n",
       "    </tr>\n",
       "    <tr>\n",
       "      <th>1092</th>\n",
       "      <td>9.5</td>\n",
       "      <td>8659</td>\n",
       "    </tr>\n",
       "    <tr>\n",
       "      <th>1093</th>\n",
       "      <td>13.8</td>\n",
       "      <td>7594</td>\n",
       "    </tr>\n",
       "    <tr>\n",
       "      <th>1094</th>\n",
       "      <td>10.2</td>\n",
       "      <td>7327</td>\n",
       "    </tr>\n",
       "  </tbody>\n",
       "</table>\n",
       "<p>1095 rows × 2 columns</p>\n",
       "</div>"
      ],
      "text/plain": [
       "      Windspeed_10m_max (km/h)  Total_rides\n",
       "0                         10.6          961\n",
       "1                         19.1         5718\n",
       "2                         13.0         1628\n",
       "3                         13.3         2981\n",
       "4                          9.2         3061\n",
       "...                        ...          ...\n",
       "1090                      10.1         2580\n",
       "1091                      12.8         7918\n",
       "1092                       9.5         8659\n",
       "1093                      13.8         7594\n",
       "1094                      10.2         7327\n",
       "\n",
       "[1095 rows x 2 columns]"
      ]
     },
     "metadata": {},
     "output_type": "display_data"
    }
   ],
   "source": [
    "# Data frame for Windspeed and Total rides\n",
    "windspeed_rides=daily[[\"Windspeed_10m_max (km/h)\", \"Total_rides\"]]\n",
    "display(windspeed_rides)"
   ]
  },
  {
   "cell_type": "code",
   "execution_count": 1034,
   "metadata": {},
   "outputs": [
    {
     "data": {
      "text/plain": [
       "Text(0.5, 0, 'Windspeed_10m_max (km/h)')"
      ]
     },
     "execution_count": 1034,
     "metadata": {},
     "output_type": "execute_result"
    },
    {
     "data": {
      "image/png": "[encoded data removed]",
      "text/plain": [
       "<Figure size 640x480 with 1 Axes>"
      ]
     },
     "metadata": {},
     "output_type": "display_data"
    }
   ],
   "source": [
    "plt.scatter(data=windspeed_rides,x=\"Windspeed_10m_max (km/h)\",y=\"Total_rides\")\n",
    "plt.title(\"Rides based on Windspeed\")\n",
    "plt.ylabel(\"Total_rides\")\n",
    "plt.xlabel(\"Windspeed_10m_max (km/h)\")"
   ]
  },
  {
   "cell_type": "code",
   "execution_count": 1035,
   "metadata": {},
   "outputs": [
    {
     "data": {
      "text/html": [
       "<div>\n",
       "<style scoped>\n",
       "    .dataframe tbody tr th:only-of-type {\n",
       "        vertical-align: middle;\n",
       "    }\n",
       "\n",
       "    .dataframe tbody tr th {\n",
       "        vertical-align: top;\n",
       "    }\n",
       "\n",
       "    .dataframe thead th {\n",
       "        text-align: right;\n",
       "    }\n",
       "</style>\n",
       "<table border=\"1\" class=\"dataframe\">\n",
       "  <thead>\n",
       "    <tr style=\"text-align: right;\">\n",
       "      <th></th>\n",
       "      <th>Weekday</th>\n",
       "      <th>Total_rides</th>\n",
       "    </tr>\n",
       "  </thead>\n",
       "  <tbody>\n",
       "    <tr>\n",
       "      <th>0</th>\n",
       "      <td>Fri.</td>\n",
       "      <td>961</td>\n",
       "    </tr>\n",
       "    <tr>\n",
       "      <th>1</th>\n",
       "      <td>Sat.</td>\n",
       "      <td>5718</td>\n",
       "    </tr>\n",
       "    <tr>\n",
       "      <th>2</th>\n",
       "      <td>Sun.</td>\n",
       "      <td>1628</td>\n",
       "    </tr>\n",
       "    <tr>\n",
       "      <th>3</th>\n",
       "      <td>Mon.</td>\n",
       "      <td>2981</td>\n",
       "    </tr>\n",
       "    <tr>\n",
       "      <th>4</th>\n",
       "      <td>Tue.</td>\n",
       "      <td>3061</td>\n",
       "    </tr>\n",
       "    <tr>\n",
       "      <th>...</th>\n",
       "      <td>...</td>\n",
       "      <td>...</td>\n",
       "    </tr>\n",
       "    <tr>\n",
       "      <th>1090</th>\n",
       "      <td>Wed.</td>\n",
       "      <td>2580</td>\n",
       "    </tr>\n",
       "    <tr>\n",
       "      <th>1091</th>\n",
       "      <td>Thur.</td>\n",
       "      <td>7918</td>\n",
       "    </tr>\n",
       "    <tr>\n",
       "      <th>1092</th>\n",
       "      <td>Fri.</td>\n",
       "      <td>8659</td>\n",
       "    </tr>\n",
       "    <tr>\n",
       "      <th>1093</th>\n",
       "      <td>Sat.</td>\n",
       "      <td>7594</td>\n",
       "    </tr>\n",
       "    <tr>\n",
       "      <th>1094</th>\n",
       "      <td>Sun.</td>\n",
       "      <td>7327</td>\n",
       "    </tr>\n",
       "  </tbody>\n",
       "</table>\n",
       "<p>1095 rows × 2 columns</p>\n",
       "</div>"
      ],
      "text/plain": [
       "     Weekday  Total_rides\n",
       "0       Fri.          961\n",
       "1       Sat.         5718\n",
       "2       Sun.         1628\n",
       "3       Mon.         2981\n",
       "4       Tue.         3061\n",
       "...      ...          ...\n",
       "1090    Wed.         2580\n",
       "1091   Thur.         7918\n",
       "1092    Fri.         8659\n",
       "1093    Sat.         7594\n",
       "1094    Sun.         7327\n",
       "\n",
       "[1095 rows x 2 columns]"
      ]
     },
     "metadata": {},
     "output_type": "display_data"
    }
   ],
   "source": [
    "# Data frame for Weekday and Total rides\n",
    "weekday_rides=daily[[\"Weekday\", \"Total_rides\"]]\n",
    "display(weekday_rides)"
   ]
  },
  {
   "cell_type": "code",
   "execution_count": 1036,
   "metadata": {},
   "outputs": [
    {
     "data": {
      "text/plain": [
       "Text(0.5, 0, 'Weekday')"
      ]
     },
     "execution_count": 1036,
     "metadata": {},
     "output_type": "execute_result"
    },
    {
     "data": {
      "image/png": "[encoded data removed]",
      "text/plain": [
       "<Figure size 640x480 with 1 Axes>"
      ]
     },
     "metadata": {},
     "output_type": "display_data"
    }
   ],
   "source": [
    "plt.scatter(data=weekday_rides,x=\"Weekday\",y=\"Total_rides\")\n",
    "plt.title(\"Rides based on Weekday\")\n",
    "plt.ylabel(\"Total_rides\")\n",
    "plt.xlabel(\"Weekday\")"
   ]
  },
  {
   "cell_type": "code",
   "execution_count": 1037,
   "metadata": {},
   "outputs": [
    {
     "data": {
      "text/html": [
       "<div>\n",
       "<style scoped>\n",
       "    .dataframe tbody tr th:only-of-type {\n",
       "        vertical-align: middle;\n",
       "    }\n",
       "\n",
       "    .dataframe tbody tr th {\n",
       "        vertical-align: top;\n",
       "    }\n",
       "\n",
       "    .dataframe thead th {\n",
       "        text-align: right;\n",
       "    }\n",
       "</style>\n",
       "<table border=\"1\" class=\"dataframe\">\n",
       "  <thead>\n",
       "    <tr style=\"text-align: right;\">\n",
       "      <th></th>\n",
       "      <th>Season</th>\n",
       "      <th>Total_rides</th>\n",
       "    </tr>\n",
       "  </thead>\n",
       "  <tbody>\n",
       "    <tr>\n",
       "      <th>0</th>\n",
       "      <td>Winter</td>\n",
       "      <td>961</td>\n",
       "    </tr>\n",
       "    <tr>\n",
       "      <th>1</th>\n",
       "      <td>Winter</td>\n",
       "      <td>5718</td>\n",
       "    </tr>\n",
       "    <tr>\n",
       "      <th>2</th>\n",
       "      <td>Winter</td>\n",
       "      <td>1628</td>\n",
       "    </tr>\n",
       "    <tr>\n",
       "      <th>3</th>\n",
       "      <td>Winter</td>\n",
       "      <td>2981</td>\n",
       "    </tr>\n",
       "    <tr>\n",
       "      <th>4</th>\n",
       "      <td>Winter</td>\n",
       "      <td>3061</td>\n",
       "    </tr>\n",
       "    <tr>\n",
       "      <th>...</th>\n",
       "      <td>...</td>\n",
       "      <td>...</td>\n",
       "    </tr>\n",
       "    <tr>\n",
       "      <th>1090</th>\n",
       "      <td>Winter</td>\n",
       "      <td>2580</td>\n",
       "    </tr>\n",
       "    <tr>\n",
       "      <th>1091</th>\n",
       "      <td>Winter</td>\n",
       "      <td>7918</td>\n",
       "    </tr>\n",
       "    <tr>\n",
       "      <th>1092</th>\n",
       "      <td>Winter</td>\n",
       "      <td>8659</td>\n",
       "    </tr>\n",
       "    <tr>\n",
       "      <th>1093</th>\n",
       "      <td>Winter</td>\n",
       "      <td>7594</td>\n",
       "    </tr>\n",
       "    <tr>\n",
       "      <th>1094</th>\n",
       "      <td>Winter</td>\n",
       "      <td>7327</td>\n",
       "    </tr>\n",
       "  </tbody>\n",
       "</table>\n",
       "<p>1095 rows × 2 columns</p>\n",
       "</div>"
      ],
      "text/plain": [
       "      Season  Total_rides\n",
       "0     Winter          961\n",
       "1     Winter         5718\n",
       "2     Winter         1628\n",
       "3     Winter         2981\n",
       "4     Winter         3061\n",
       "...      ...          ...\n",
       "1090  Winter         2580\n",
       "1091  Winter         7918\n",
       "1092  Winter         8659\n",
       "1093  Winter         7594\n",
       "1094  Winter         7327\n",
       "\n",
       "[1095 rows x 2 columns]"
      ]
     },
     "metadata": {},
     "output_type": "display_data"
    }
   ],
   "source": [
    "# Data frame for Season and Total rides\n",
    "season_rides=daily[[\"Season\", \"Total_rides\"]]\n",
    "display(season_rides)"
   ]
  },
  {
   "cell_type": "code",
   "execution_count": 1038,
   "metadata": {},
   "outputs": [
    {
     "data": {
      "text/plain": [
       "Text(0.5, 0, 'Season')"
      ]
     },
     "execution_count": 1038,
     "metadata": {},
     "output_type": "execute_result"
    },
    {
     "data": {
      "image/png": "[encoded data removed]",
      "text/plain": [
       "<Figure size 640x480 with 1 Axes>"
      ]
     },
     "metadata": {},
     "output_type": "display_data"
    }
   ],
   "source": [
    "plt.scatter(data=season_rides,x=\"Season\",y=\"Total_rides\")\n",
    "plt.title(\"Rides based on Season\")\n",
    "plt.ylabel(\"Total_rides\")\n",
    "plt.xlabel(\"Season\")"
   ]
  },
  {
   "cell_type": "code",
   "execution_count": 1039,
   "metadata": {},
   "outputs": [
    {
     "data": {
      "text/html": [
       "<div>\n",
       "<style scoped>\n",
       "    .dataframe tbody tr th:only-of-type {\n",
       "        vertical-align: middle;\n",
       "    }\n",
       "\n",
       "    .dataframe tbody tr th {\n",
       "        vertical-align: top;\n",
       "    }\n",
       "\n",
       "    .dataframe thead th {\n",
       "        text-align: right;\n",
       "    }\n",
       "</style>\n",
       "<table border=\"1\" class=\"dataframe\">\n",
       "  <thead>\n",
       "    <tr style=\"text-align: right;\">\n",
       "      <th></th>\n",
       "      <th>Month</th>\n",
       "      <th>Total_rides</th>\n",
       "    </tr>\n",
       "  </thead>\n",
       "  <tbody>\n",
       "    <tr>\n",
       "      <th>0</th>\n",
       "      <td>Jan.</td>\n",
       "      <td>961</td>\n",
       "    </tr>\n",
       "    <tr>\n",
       "      <th>1</th>\n",
       "      <td>Jan.</td>\n",
       "      <td>5718</td>\n",
       "    </tr>\n",
       "    <tr>\n",
       "      <th>2</th>\n",
       "      <td>Jan.</td>\n",
       "      <td>1628</td>\n",
       "    </tr>\n",
       "    <tr>\n",
       "      <th>3</th>\n",
       "      <td>Jan.</td>\n",
       "      <td>2981</td>\n",
       "    </tr>\n",
       "    <tr>\n",
       "      <th>4</th>\n",
       "      <td>Jan.</td>\n",
       "      <td>3061</td>\n",
       "    </tr>\n",
       "    <tr>\n",
       "      <th>...</th>\n",
       "      <td>...</td>\n",
       "      <td>...</td>\n",
       "    </tr>\n",
       "    <tr>\n",
       "      <th>1090</th>\n",
       "      <td>Dec.</td>\n",
       "      <td>2580</td>\n",
       "    </tr>\n",
       "    <tr>\n",
       "      <th>1091</th>\n",
       "      <td>Dec.</td>\n",
       "      <td>7918</td>\n",
       "    </tr>\n",
       "    <tr>\n",
       "      <th>1092</th>\n",
       "      <td>Dec.</td>\n",
       "      <td>8659</td>\n",
       "    </tr>\n",
       "    <tr>\n",
       "      <th>1093</th>\n",
       "      <td>Dec.</td>\n",
       "      <td>7594</td>\n",
       "    </tr>\n",
       "    <tr>\n",
       "      <th>1094</th>\n",
       "      <td>Dec.</td>\n",
       "      <td>7327</td>\n",
       "    </tr>\n",
       "  </tbody>\n",
       "</table>\n",
       "<p>1095 rows × 2 columns</p>\n",
       "</div>"
      ],
      "text/plain": [
       "     Month  Total_rides\n",
       "0     Jan.          961\n",
       "1     Jan.         5718\n",
       "2     Jan.         1628\n",
       "3     Jan.         2981\n",
       "4     Jan.         3061\n",
       "...    ...          ...\n",
       "1090  Dec.         2580\n",
       "1091  Dec.         7918\n",
       "1092  Dec.         8659\n",
       "1093  Dec.         7594\n",
       "1094  Dec.         7327\n",
       "\n",
       "[1095 rows x 2 columns]"
      ]
     },
     "metadata": {},
     "output_type": "display_data"
    }
   ],
   "source": [
    "# Data frame for Month and Total rides\n",
    "month_rides=daily[[\"Month\", \"Total_rides\"]]\n",
    "display(month_rides)"
   ]
  },
  {
   "cell_type": "code",
   "execution_count": 1040,
   "metadata": {},
   "outputs": [
    {
     "data": {
      "text/plain": [
       "Text(0.5, 0, 'Month')"
      ]
     },
     "execution_count": 1040,
     "metadata": {},
     "output_type": "execute_result"
    },
    {
     "data": {
      "image/png": "[encoded data removed]",
      "text/plain": [
       "<Figure size 640x480 with 1 Axes>"
      ]
     },
     "metadata": {},
     "output_type": "display_data"
    }
   ],
   "source": [
    "plt.scatter(data=month_rides,x=\"Month\",y=\"Total_rides\")\n",
    "plt.title(\"Rides based on Month\")\n",
    "plt.ylabel(\"Total_rides\")\n",
    "plt.xlabel(\"Month\")"
   ]
  },
  {
   "cell_type": "markdown",
   "metadata": {},
   "source": [
    "Data preparation for Simple linear regression"
   ]
  },
  {
   "cell_type": "code",
   "execution_count": 1041,
   "metadata": {},
   "outputs": [
    {
     "data": {
      "text/plain": [
       "(1095,)"
      ]
     },
     "metadata": {},
     "output_type": "display_data"
    },
    {
     "data": {
      "text/plain": [
       "(1095,)"
      ]
     },
     "metadata": {},
     "output_type": "display_data"
    }
   ],
   "source": [
    "### Temperature and Total rides\n",
    "#dependent variable\n",
    "temperature_rides_target=temperature_rides[\"Total_rides\"]\n",
    "temperature_rides_independent=temperature_rides[\"Temperature_2m_mean (°C)\"]\n",
    "display(temperature_rides_target.shape)\n",
    "display(temperature_rides_independent.shape)"
   ]
  },
  {
   "cell_type": "code",
   "execution_count": 1042,
   "metadata": {},
   "outputs": [
    {
     "data": {
      "text/plain": [
       "0       2.3\n",
       "1       7.6\n",
       "2       3.9\n",
       "3       4.1\n",
       "4       4.0\n",
       "       ... \n",
       "1090   -4.3\n",
       "1091   -2.5\n",
       "1092   -3.9\n",
       "1093   -2.9\n",
       "1094   -4.6\n",
       "Name: Temperature_2m_mean (°C), Length: 1095, dtype: float64"
      ]
     },
     "execution_count": 1042,
     "metadata": {},
     "output_type": "execute_result"
    }
   ],
   "source": [
    "temperature_rides_independent"
   ]
  },
  {
   "cell_type": "code",
   "execution_count": 1043,
   "metadata": {},
   "outputs": [
    {
     "data": {
      "text/plain": [
       "0        961\n",
       "1       5718\n",
       "2       1628\n",
       "3       2981\n",
       "4       3061\n",
       "        ... \n",
       "1090    2580\n",
       "1091    7918\n",
       "1092    8659\n",
       "1093    7594\n",
       "1094    7327\n",
       "Name: Total_rides, Length: 1095, dtype: int64"
      ]
     },
     "execution_count": 1043,
     "metadata": {},
     "output_type": "execute_result"
    }
   ],
   "source": [
    "temperature_rides_target"
   ]
  },
  {
   "cell_type": "code",
   "execution_count": 1044,
   "metadata": {},
   "outputs": [
    {
     "data": {
      "text/plain": [
       "(1095,)"
      ]
     },
     "metadata": {},
     "output_type": "display_data"
    },
    {
     "data": {
      "text/plain": [
       "(1095,)"
      ]
     },
     "metadata": {},
     "output_type": "display_data"
    }
   ],
   "source": [
    "### windspeed and Total rides\n",
    "#dependent variable\n",
    "windspeed_rides_target=windspeed_rides[\"Total_rides\"]\n",
    "windspeed_rides_independent=windspeed_rides[\"Windspeed_10m_max (km/h)\"]\n",
    "display(windspeed_rides_target.shape)\n",
    "display(windspeed_rides_independent.shape)"
   ]
  },
  {
   "cell_type": "code",
   "execution_count": 1045,
   "metadata": {},
   "outputs": [
    {
     "data": {
      "text/plain": [
       "(1095,)"
      ]
     },
     "metadata": {},
     "output_type": "display_data"
    },
    {
     "data": {
      "text/plain": [
       "(1095,)"
      ]
     },
     "metadata": {},
     "output_type": "display_data"
    }
   ],
   "source": [
    "### weekday and Total rides\n",
    "#dependent variable\n",
    "weekday_rides_target=weekday_rides[\"Total_rides\"]\n",
    "weekday_rides_independent=weekday_rides[\"Weekday\"]\n",
    "display(weekday_rides_target.shape)\n",
    "display(weekday_rides_independent.shape)\n"
   ]
  },
  {
   "cell_type": "code",
   "execution_count": 1046,
   "metadata": {},
   "outputs": [
    {
     "data": {
      "text/plain": [
       "(1095,)"
      ]
     },
     "metadata": {},
     "output_type": "display_data"
    },
    {
     "data": {
      "text/plain": [
       "(1095,)"
      ]
     },
     "metadata": {},
     "output_type": "display_data"
    }
   ],
   "source": [
    "### season and Total rides\n",
    "#dependent variable\n",
    "season_rides_target=season_rides[\"Total_rides\"]\n",
    "season_rides_independent=season_rides[\"Season\"]\n",
    "display(season_rides_target.shape)\n",
    "display(season_rides_independent.shape)"
   ]
  },
  {
   "cell_type": "code",
   "execution_count": 1047,
   "metadata": {},
   "outputs": [
    {
     "data": {
      "text/plain": [
       "(1095,)"
      ]
     },
     "metadata": {},
     "output_type": "display_data"
    },
    {
     "data": {
      "text/plain": [
       "(1095,)"
      ]
     },
     "metadata": {},
     "output_type": "display_data"
    }
   ],
   "source": [
    "### month and Total rides\n",
    "#dependent variable\n",
    "month_rides_target=month_rides[\"Total_rides\"]\n",
    "month_rides_independent=month_rides[\"Month\"]\n",
    "display(month_rides_target.shape)\n",
    "display(month_rides_independent.shape)"
   ]
  },
  {
   "cell_type": "code",
   "execution_count": 1048,
   "metadata": {},
   "outputs": [],
   "source": [
    "# Reshape the data using array.reshape(-1, 1)\n",
    "reshaped_temperature_rides_independent=temperature_rides.values.reshape(-1, 1)\n",
    "reshaped_windspeed_rides_independent=windspeed_rides.values.reshape(-1,1)\n",
    "reshaped_seaon_rides_independent=season_rides.values.reshape(-1, 1)\n",
    "reshaped_weekday_rides_independentt=weekday_rides.values.reshape(-1, 1)\n",
    "reshaped_month_rides_independent=month_rides.values.reshape(-1, 1)\n",
    "reshaped_rides_target=temperature_rides.values.reshape(-1, 1)"
   ]
  },
  {
   "cell_type": "markdown",
   "metadata": {},
   "source": [
    "splitting"
   ]
  },
  {
   "cell_type": "code",
   "execution_count": 1049,
   "metadata": {},
   "outputs": [],
   "source": [
    "reshaped_temperature_rides_independent_train, reshaped_temperature_rides_independent_test,reshaped_temperature_rides_target_train, reshaped_temperature_rides_target_test = train_test_split(reshaped_temperature_rides_independent,reshaped_rides_target, test_size=0.2, random_state=42)"
   ]
  },
  {
   "cell_type": "code",
   "execution_count": 1050,
   "metadata": {},
   "outputs": [
    {
     "data": {
      "text/plain": [
       "(2190, 1)"
      ]
     },
     "execution_count": 1050,
     "metadata": {},
     "output_type": "execute_result"
    }
   ],
   "source": [
    "reshaped_temperature_rides_independent.shape"
   ]
  },
  {
   "cell_type": "code",
   "execution_count": 1051,
   "metadata": {},
   "outputs": [
    {
     "data": {
      "text/plain": [
       "(2190, 1)"
      ]
     },
     "execution_count": 1051,
     "metadata": {},
     "output_type": "execute_result"
    }
   ],
   "source": [
    "reshaped_rides_target.shape"
   ]
  },
  {
   "cell_type": "markdown",
   "metadata": {},
   "source": [
    "Model"
   ]
  },
  {
   "cell_type": "code",
   "execution_count": 1052,
   "metadata": {},
   "outputs": [
    {
     "data": {
      "text/html": [
       "<style>#sk-container-id-41 {color: black;}#sk-container-id-41 pre{padding: 0;}#sk-container-id-41 div.sk-toggleable {background-color: white;}#sk-container-id-41 label.sk-toggleable__label {cursor: pointer;display: block;width: 100%;margin-bottom: 0;padding: 0.3em;box-sizing: border-box;text-align: center;}#sk-container-id-41 label.sk-toggleable__label-arrow:before {content: \"▸\";float: left;margin-right: 0.25em;color: #696969;}#sk-container-id-41 label.sk-toggleable__label-arrow:hover:before {color: black;}#sk-container-id-41 div.sk-estimator:hover label.sk-toggleable__label-arrow:before {color: black;}#sk-container-id-41 div.sk-toggleable__content {max-height: 0;max-width: 0;overflow: hidden;text-align: left;background-color: #f0f8ff;}#sk-container-id-41 div.sk-toggleable__content pre {margin: 0.2em;color: black;border-radius: 0.25em;background-color: #f0f8ff;}#sk-container-id-41 input.sk-toggleable__control:checked~div.sk-toggleable__content {max-height: 200px;max-width: 100%;overflow: auto;}#sk-container-id-41 input.sk-toggleable__control:checked~label.sk-toggleable__label-arrow:before {content: \"▾\";}#sk-container-id-41 div.sk-estimator input.sk-toggleable__control:checked~label.sk-toggleable__label {background-color: #d4ebff;}#sk-container-id-41 div.sk-label input.sk-toggleable__control:checked~label.sk-toggleable__label {background-color: #d4ebff;}#sk-container-id-41 input.sk-hidden--visually {border: 0;clip: rect(1px 1px 1px 1px);clip: rect(1px, 1px, 1px, 1px);height: 1px;margin: -1px;overflow: hidden;padding: 0;position: absolute;width: 1px;}#sk-container-id-41 div.sk-estimator {font-family: monospace;background-color: #f0f8ff;border: 1px dotted black;border-radius: 0.25em;box-sizing: border-box;margin-bottom: 0.5em;}#sk-container-id-41 div.sk-estimator:hover {background-color: #d4ebff;}#sk-container-id-41 div.sk-parallel-item::after {content: \"\";width: 100%;border-bottom: 1px solid gray;flex-grow: 1;}#sk-container-id-41 div.sk-label:hover label.sk-toggleable__label {background-color: #d4ebff;}#sk-container-id-41 div.sk-serial::before {content: \"\";position: absolute;border-left: 1px solid gray;box-sizing: border-box;top: 0;bottom: 0;left: 50%;z-index: 0;}#sk-container-id-41 div.sk-serial {display: flex;flex-direction: column;align-items: center;background-color: white;padding-right: 0.2em;padding-left: 0.2em;position: relative;}#sk-container-id-41 div.sk-item {position: relative;z-index: 1;}#sk-container-id-41 div.sk-parallel {display: flex;align-items: stretch;justify-content: center;background-color: white;position: relative;}#sk-container-id-41 div.sk-item::before, #sk-container-id-41 div.sk-parallel-item::before {content: \"\";position: absolute;border-left: 1px solid gray;box-sizing: border-box;top: 0;bottom: 0;left: 50%;z-index: -1;}#sk-container-id-41 div.sk-parallel-item {display: flex;flex-direction: column;z-index: 1;position: relative;background-color: white;}#sk-container-id-41 div.sk-parallel-item:first-child::after {align-self: flex-end;width: 50%;}#sk-container-id-41 div.sk-parallel-item:last-child::after {align-self: flex-start;width: 50%;}#sk-container-id-41 div.sk-parallel-item:only-child::after {width: 0;}#sk-container-id-41 div.sk-dashed-wrapped {border: 1px dashed gray;margin: 0 0.4em 0.5em 0.4em;box-sizing: border-box;padding-bottom: 0.4em;background-color: white;}#sk-container-id-41 div.sk-label label {font-family: monospace;font-weight: bold;display: inline-block;line-height: 1.2em;}#sk-container-id-41 div.sk-label-container {text-align: center;}#sk-container-id-41 div.sk-container {/* jupyter's `normalize.less` sets `[hidden] { display: none; }` but bootstrap.min.css set `[hidden] { display: none !important; }` so we also need the `!important` here to be able to override the default hidden behavior on the sphinx rendered scikit-learn.org. See: https://github.com/scikit-learn/scikit-learn/issues/21755 */display: inline-block !important;position: relative;}#sk-container-id-41 div.sk-text-repr-fallback {display: none;}</style><div id=\"sk-container-id-41\" class=\"sk-top-container\"><div class=\"sk-text-repr-fallback\"><pre>LinearRegression()</pre><b>In a Jupyter environment, please rerun this cell to show the HTML representation or trust the notebook. <br />On GitHub, the HTML representation is unable to render, please try loading this page with nbviewer.org.</b></div><div class=\"sk-container\" hidden><div class=\"sk-item\"><div class=\"sk-estimator sk-toggleable\"><input class=\"sk-toggleable__control sk-hidden--visually\" id=\"sk-estimator-id-41\" type=\"checkbox\" checked><label for=\"sk-estimator-id-41\" class=\"sk-toggleable__label sk-toggleable__label-arrow\">LinearRegression</label><div class=\"sk-toggleable__content\"><pre>LinearRegression()</pre></div></div></div></div></div>"
      ],
      "text/plain": [
       "LinearRegression()"
      ]
     },
     "execution_count": 1052,
     "metadata": {},
     "output_type": "execute_result"
    }
   ],
   "source": [
    "lr=LinearRegression()\n",
    "lr.fit(reshaped_temperature_rides_independent_train,reshaped_temperature_rides_target_train)"
   ]
  },
  {
   "cell_type": "code",
   "execution_count": 1053,
   "metadata": {},
   "outputs": [],
   "source": [
    "temperature_rides_pred = lr.predict(reshaped_temperature_rides_independent_test)"
   ]
  },
  {
   "cell_type": "markdown",
   "metadata": {},
   "source": [
    "Evaluate"
   ]
  },
  {
   "cell_type": "code",
   "execution_count": 1054,
   "metadata": {},
   "outputs": [
    {
     "name": "stdout",
     "output_type": "stream",
     "text": [
      "0.0\n",
      "1.0\n"
     ]
    }
   ],
   "source": [
    "# Evaluate performance (using Mean Squared Error in this example)\n",
    "mse = mean_squared_error(reshaped_temperature_rides_target_test, temperature_rides_pred)\n",
    "r2=r2_score(reshaped_temperature_rides_target_test,temperature_rides_pred)\n",
    "\n",
    "print(mse)\n",
    "print(r2)\n",
    "    "
   ]
  },
  {
   "cell_type": "markdown",
   "metadata": {},
   "source": [
    "Please go through this"
   ]
  },
  {
   "cell_type": "markdown",
   "metadata": {},
   "source": [
    "Preprocessing "
   ]
  },
  {
   "cell_type": "code",
   "execution_count": 1055,
   "metadata": {},
   "outputs": [],
   "source": [
    "#Dropping some irielevant columns\n",
    "\n",
    "columns_to_drop = [\"Casual\", \"Date\", \"Weather\",\"Registered\",\"Season\",\"Apparent_temperature_mean (°C)\", \"Weathercode (wmo code)\", \"Clear Weather\", \"Cloudy Weather\", \"Drizzle Weather\", \"Rainy Weather\", \"Snowy Weather\", \"Year\", \"Weekend\", \"Working_day\", \"Workingday\"]\n",
    "daily.drop(columns_to_drop, axis=1, inplace=True)"
   ]
  },
  {
   "cell_type": "code",
   "execution_count": 1056,
   "metadata": {},
   "outputs": [
    {
     "data": {
      "text/html": [
       "<div>\n",
       "<style scoped>\n",
       "    .dataframe tbody tr th:only-of-type {\n",
       "        vertical-align: middle;\n",
       "    }\n",
       "\n",
       "    .dataframe tbody tr th {\n",
       "        vertical-align: top;\n",
       "    }\n",
       "\n",
       "    .dataframe thead th {\n",
       "        text-align: right;\n",
       "    }\n",
       "</style>\n",
       "<table border=\"1\" class=\"dataframe\">\n",
       "  <thead>\n",
       "    <tr style=\"text-align: right;\">\n",
       "      <th></th>\n",
       "      <th>Total_rides</th>\n",
       "      <th>Temperature_2m_mean (°C)</th>\n",
       "      <th>Windspeed_10m_max (km/h)</th>\n",
       "      <th>Weekday</th>\n",
       "      <th>Month</th>\n",
       "    </tr>\n",
       "  </thead>\n",
       "  <tbody>\n",
       "    <tr>\n",
       "      <th>0</th>\n",
       "      <td>961</td>\n",
       "      <td>2.3</td>\n",
       "      <td>10.6</td>\n",
       "      <td>Fri.</td>\n",
       "      <td>Jan.</td>\n",
       "    </tr>\n",
       "    <tr>\n",
       "      <th>1</th>\n",
       "      <td>5718</td>\n",
       "      <td>7.6</td>\n",
       "      <td>19.1</td>\n",
       "      <td>Sat.</td>\n",
       "      <td>Jan.</td>\n",
       "    </tr>\n",
       "    <tr>\n",
       "      <th>2</th>\n",
       "      <td>1628</td>\n",
       "      <td>3.9</td>\n",
       "      <td>13.0</td>\n",
       "      <td>Sun.</td>\n",
       "      <td>Jan.</td>\n",
       "    </tr>\n",
       "  </tbody>\n",
       "</table>\n",
       "</div>"
      ],
      "text/plain": [
       "   Total_rides  Temperature_2m_mean (°C)  Windspeed_10m_max (km/h) Weekday  \\\n",
       "0          961                       2.3                      10.6    Fri.   \n",
       "1         5718                       7.6                      19.1    Sat.   \n",
       "2         1628                       3.9                      13.0    Sun.   \n",
       "\n",
       "  Month  \n",
       "0  Jan.  \n",
       "1  Jan.  \n",
       "2  Jan.  "
      ]
     },
     "execution_count": 1056,
     "metadata": {},
     "output_type": "execute_result"
    }
   ],
   "source": [
    "daily.head(3)"
   ]
  },
  {
   "cell_type": "markdown",
   "metadata": {},
   "source": [
    "Encoding"
   ]
  },
  {
   "cell_type": "code",
   "execution_count": 1057,
   "metadata": {},
   "outputs": [
    {
     "data": {
      "text/html": [
       "<div>\n",
       "<style scoped>\n",
       "    .dataframe tbody tr th:only-of-type {\n",
       "        vertical-align: middle;\n",
       "    }\n",
       "\n",
       "    .dataframe tbody tr th {\n",
       "        vertical-align: top;\n",
       "    }\n",
       "\n",
       "    .dataframe thead th {\n",
       "        text-align: right;\n",
       "    }\n",
       "</style>\n",
       "<table border=\"1\" class=\"dataframe\">\n",
       "  <thead>\n",
       "    <tr style=\"text-align: right;\">\n",
       "      <th></th>\n",
       "      <th>Total_rides</th>\n",
       "      <th>Temperature_2m_mean (°C)</th>\n",
       "      <th>Windspeed_10m_max (km/h)</th>\n",
       "      <th>Weekday_Fri.</th>\n",
       "      <th>Weekday_Mon.</th>\n",
       "      <th>Weekday_Sat.</th>\n",
       "      <th>Weekday_Sun.</th>\n",
       "      <th>Weekday_Thur.</th>\n",
       "      <th>Weekday_Tue.</th>\n",
       "      <th>Weekday_Wed.</th>\n",
       "      <th>...</th>\n",
       "      <th>Month_Dec.</th>\n",
       "      <th>Month_Feb.</th>\n",
       "      <th>Month_Jan.</th>\n",
       "      <th>Month_Jul.</th>\n",
       "      <th>Month_Jun.</th>\n",
       "      <th>Month_Mar.</th>\n",
       "      <th>Month_May</th>\n",
       "      <th>Month_Nov.</th>\n",
       "      <th>Month_Oct.</th>\n",
       "      <th>Month_Sep.</th>\n",
       "    </tr>\n",
       "  </thead>\n",
       "  <tbody>\n",
       "    <tr>\n",
       "      <th>0</th>\n",
       "      <td>961</td>\n",
       "      <td>2.3</td>\n",
       "      <td>10.6</td>\n",
       "      <td>True</td>\n",
       "      <td>False</td>\n",
       "      <td>False</td>\n",
       "      <td>False</td>\n",
       "      <td>False</td>\n",
       "      <td>False</td>\n",
       "      <td>False</td>\n",
       "      <td>...</td>\n",
       "      <td>False</td>\n",
       "      <td>False</td>\n",
       "      <td>True</td>\n",
       "      <td>False</td>\n",
       "      <td>False</td>\n",
       "      <td>False</td>\n",
       "      <td>False</td>\n",
       "      <td>False</td>\n",
       "      <td>False</td>\n",
       "      <td>False</td>\n",
       "    </tr>\n",
       "    <tr>\n",
       "      <th>1</th>\n",
       "      <td>5718</td>\n",
       "      <td>7.6</td>\n",
       "      <td>19.1</td>\n",
       "      <td>False</td>\n",
       "      <td>False</td>\n",
       "      <td>True</td>\n",
       "      <td>False</td>\n",
       "      <td>False</td>\n",
       "      <td>False</td>\n",
       "      <td>False</td>\n",
       "      <td>...</td>\n",
       "      <td>False</td>\n",
       "      <td>False</td>\n",
       "      <td>True</td>\n",
       "      <td>False</td>\n",
       "      <td>False</td>\n",
       "      <td>False</td>\n",
       "      <td>False</td>\n",
       "      <td>False</td>\n",
       "      <td>False</td>\n",
       "      <td>False</td>\n",
       "    </tr>\n",
       "  </tbody>\n",
       "</table>\n",
       "<p>2 rows × 22 columns</p>\n",
       "</div>"
      ],
      "text/plain": [
       "   Total_rides  Temperature_2m_mean (°C)  Windspeed_10m_max (km/h)  \\\n",
       "0          961                       2.3                      10.6   \n",
       "1         5718                       7.6                      19.1   \n",
       "\n",
       "   Weekday_Fri.  Weekday_Mon.  Weekday_Sat.  Weekday_Sun.  Weekday_Thur.  \\\n",
       "0          True         False         False         False          False   \n",
       "1         False         False          True         False          False   \n",
       "\n",
       "   Weekday_Tue.  Weekday_Wed.  ...  Month_Dec.  Month_Feb.  Month_Jan.  \\\n",
       "0         False         False  ...       False       False        True   \n",
       "1         False         False  ...       False       False        True   \n",
       "\n",
       "   Month_Jul.  Month_Jun.  Month_Mar.  Month_May  Month_Nov.  Month_Oct.  \\\n",
       "0       False       False       False      False       False       False   \n",
       "1       False       False       False      False       False       False   \n",
       "\n",
       "   Month_Sep.  \n",
       "0       False  \n",
       "1       False  \n",
       "\n",
       "[2 rows x 22 columns]"
      ]
     },
     "execution_count": 1057,
     "metadata": {},
     "output_type": "execute_result"
    }
   ],
   "source": [
    "\n",
    "\n",
    "# Define columns to encode\n",
    "columns_to_encode = [ \"Weekday\", \"Month\"]\n",
    "\n",
    "# Use get_dummies() to encode these columns\n",
    "encoded_daily = pd.get_dummies(daily, columns=columns_to_encode)\n",
    "\n",
    "# Display the encoded DataFrame\n",
    "encoded_daily.head(2)\n"
   ]
  },
  {
   "cell_type": "code",
   "execution_count": 1058,
   "metadata": {},
   "outputs": [
    {
     "data": {
      "text/plain": [
       "Total_rides                 int32\n",
       "Temperature_2m_mean (°C)    int32\n",
       "Windspeed_10m_max (km/h)    int32\n",
       "Weekday_Fri.                int32\n",
       "Weekday_Mon.                int32\n",
       "Weekday_Sat.                int32\n",
       "Weekday_Sun.                int32\n",
       "Weekday_Thur.               int32\n",
       "Weekday_Tue.                int32\n",
       "Weekday_Wed.                int32\n",
       "Month_Apr.                  int32\n",
       "Month_Aug.                  int32\n",
       "Month_Dec.                  int32\n",
       "Month_Feb.                  int32\n",
       "Month_Jan.                  int32\n",
       "Month_Jul.                  int32\n",
       "Month_Jun.                  int32\n",
       "Month_Mar.                  int32\n",
       "Month_May                   int32\n",
       "Month_Nov.                  int32\n",
       "Month_Oct.                  int32\n",
       "Month_Sep.                  int32\n",
       "dtype: object"
      ]
     },
     "execution_count": 1058,
     "metadata": {},
     "output_type": "execute_result"
    }
   ],
   "source": [
    "# Convert boolean encoded data to integer format\n",
    "encoded_daily_int = encoded_daily.astype(int)\n",
    "\n",
    "# Display data types of the encoded DataFrame\n",
    "encoded_daily_int.dtypes\n"
   ]
  },
  {
   "cell_type": "code",
   "execution_count": 1059,
   "metadata": {},
   "outputs": [
    {
     "data": {
      "text/html": [
       "<div>\n",
       "<style scoped>\n",
       "    .dataframe tbody tr th:only-of-type {\n",
       "        vertical-align: middle;\n",
       "    }\n",
       "\n",
       "    .dataframe tbody tr th {\n",
       "        vertical-align: top;\n",
       "    }\n",
       "\n",
       "    .dataframe thead th {\n",
       "        text-align: right;\n",
       "    }\n",
       "</style>\n",
       "<table border=\"1\" class=\"dataframe\">\n",
       "  <thead>\n",
       "    <tr style=\"text-align: right;\">\n",
       "      <th></th>\n",
       "      <th>Total_rides</th>\n",
       "      <th>Temperature_2m_mean (°C)</th>\n",
       "      <th>Windspeed_10m_max (km/h)</th>\n",
       "      <th>Weekday_Fri.</th>\n",
       "      <th>Weekday_Mon.</th>\n",
       "      <th>Weekday_Sat.</th>\n",
       "      <th>Weekday_Sun.</th>\n",
       "      <th>Weekday_Thur.</th>\n",
       "      <th>Weekday_Tue.</th>\n",
       "      <th>Weekday_Wed.</th>\n",
       "      <th>...</th>\n",
       "      <th>Month_Dec.</th>\n",
       "      <th>Month_Feb.</th>\n",
       "      <th>Month_Jan.</th>\n",
       "      <th>Month_Jul.</th>\n",
       "      <th>Month_Jun.</th>\n",
       "      <th>Month_Mar.</th>\n",
       "      <th>Month_May</th>\n",
       "      <th>Month_Nov.</th>\n",
       "      <th>Month_Oct.</th>\n",
       "      <th>Month_Sep.</th>\n",
       "    </tr>\n",
       "  </thead>\n",
       "  <tbody>\n",
       "    <tr>\n",
       "      <th>0</th>\n",
       "      <td>961</td>\n",
       "      <td>2</td>\n",
       "      <td>10</td>\n",
       "      <td>1</td>\n",
       "      <td>0</td>\n",
       "      <td>0</td>\n",
       "      <td>0</td>\n",
       "      <td>0</td>\n",
       "      <td>0</td>\n",
       "      <td>0</td>\n",
       "      <td>...</td>\n",
       "      <td>0</td>\n",
       "      <td>0</td>\n",
       "      <td>1</td>\n",
       "      <td>0</td>\n",
       "      <td>0</td>\n",
       "      <td>0</td>\n",
       "      <td>0</td>\n",
       "      <td>0</td>\n",
       "      <td>0</td>\n",
       "      <td>0</td>\n",
       "    </tr>\n",
       "    <tr>\n",
       "      <th>1</th>\n",
       "      <td>5718</td>\n",
       "      <td>7</td>\n",
       "      <td>19</td>\n",
       "      <td>0</td>\n",
       "      <td>0</td>\n",
       "      <td>1</td>\n",
       "      <td>0</td>\n",
       "      <td>0</td>\n",
       "      <td>0</td>\n",
       "      <td>0</td>\n",
       "      <td>...</td>\n",
       "      <td>0</td>\n",
       "      <td>0</td>\n",
       "      <td>1</td>\n",
       "      <td>0</td>\n",
       "      <td>0</td>\n",
       "      <td>0</td>\n",
       "      <td>0</td>\n",
       "      <td>0</td>\n",
       "      <td>0</td>\n",
       "      <td>0</td>\n",
       "    </tr>\n",
       "  </tbody>\n",
       "</table>\n",
       "<p>2 rows × 22 columns</p>\n",
       "</div>"
      ],
      "text/plain": [
       "   Total_rides  Temperature_2m_mean (°C)  Windspeed_10m_max (km/h)  \\\n",
       "0          961                         2                        10   \n",
       "1         5718                         7                        19   \n",
       "\n",
       "   Weekday_Fri.  Weekday_Mon.  Weekday_Sat.  Weekday_Sun.  Weekday_Thur.  \\\n",
       "0             1             0             0             0              0   \n",
       "1             0             0             1             0              0   \n",
       "\n",
       "   Weekday_Tue.  Weekday_Wed.  ...  Month_Dec.  Month_Feb.  Month_Jan.  \\\n",
       "0             0             0  ...           0           0           1   \n",
       "1             0             0  ...           0           0           1   \n",
       "\n",
       "   Month_Jul.  Month_Jun.  Month_Mar.  Month_May  Month_Nov.  Month_Oct.  \\\n",
       "0           0           0           0          0           0           0   \n",
       "1           0           0           0          0           0           0   \n",
       "\n",
       "   Month_Sep.  \n",
       "0           0  \n",
       "1           0  \n",
       "\n",
       "[2 rows x 22 columns]"
      ]
     },
     "execution_count": 1059,
     "metadata": {},
     "output_type": "execute_result"
    }
   ],
   "source": [
    "encoded_daily_int.head(2)"
   ]
  },
  {
   "cell_type": "markdown",
   "metadata": {},
   "source": [
    "Data Seperation as X and y"
   ]
  },
  {
   "cell_type": "code",
   "execution_count": 1060,
   "metadata": {},
   "outputs": [
    {
     "data": {
      "text/plain": [
       "(1095,)"
      ]
     },
     "execution_count": 1060,
     "metadata": {},
     "output_type": "execute_result"
    }
   ],
   "source": [
    "#dependent variable\n",
    "y=encoded_daily_int[\"Total_rides\"]\n",
    "y.shape"
   ]
  },
  {
   "cell_type": "code",
   "execution_count": 1061,
   "metadata": {},
   "outputs": [
    {
     "data": {
      "text/plain": [
       "(1095, 21)"
      ]
     },
     "execution_count": 1061,
     "metadata": {},
     "output_type": "execute_result"
    }
   ],
   "source": [
    "# independent varibable\n",
    "X=encoded_daily_int.drop(\"Total_rides\", axis=1)\n",
    "X.shape"
   ]
  },
  {
   "cell_type": "markdown",
   "metadata": {},
   "source": [
    "Data Splitting"
   ]
  },
  {
   "cell_type": "code",
   "execution_count": 1062,
   "metadata": {},
   "outputs": [],
   "source": [
    "X_train, X_test,y_train, y_test = train_test_split(X, y, test_size=0.2, random_state=42)"
   ]
  },
  {
   "cell_type": "code",
   "execution_count": 1063,
   "metadata": {},
   "outputs": [
    {
     "data": {
      "text/html": [
       "<div>\n",
       "<style scoped>\n",
       "    .dataframe tbody tr th:only-of-type {\n",
       "        vertical-align: middle;\n",
       "    }\n",
       "\n",
       "    .dataframe tbody tr th {\n",
       "        vertical-align: top;\n",
       "    }\n",
       "\n",
       "    .dataframe thead th {\n",
       "        text-align: right;\n",
       "    }\n",
       "</style>\n",
       "<table border=\"1\" class=\"dataframe\">\n",
       "  <thead>\n",
       "    <tr style=\"text-align: right;\">\n",
       "      <th></th>\n",
       "      <th>Temperature_2m_mean (°C)</th>\n",
       "      <th>Windspeed_10m_max (km/h)</th>\n",
       "      <th>Weekday_Fri.</th>\n",
       "      <th>Weekday_Mon.</th>\n",
       "      <th>Weekday_Sat.</th>\n",
       "      <th>Weekday_Sun.</th>\n",
       "      <th>Weekday_Thur.</th>\n",
       "      <th>Weekday_Tue.</th>\n",
       "      <th>Weekday_Wed.</th>\n",
       "      <th>Month_Apr.</th>\n",
       "      <th>...</th>\n",
       "      <th>Month_Dec.</th>\n",
       "      <th>Month_Feb.</th>\n",
       "      <th>Month_Jan.</th>\n",
       "      <th>Month_Jul.</th>\n",
       "      <th>Month_Jun.</th>\n",
       "      <th>Month_Mar.</th>\n",
       "      <th>Month_May</th>\n",
       "      <th>Month_Nov.</th>\n",
       "      <th>Month_Oct.</th>\n",
       "      <th>Month_Sep.</th>\n",
       "    </tr>\n",
       "  </thead>\n",
       "  <tbody>\n",
       "    <tr>\n",
       "      <th>6</th>\n",
       "      <td>2</td>\n",
       "      <td>14</td>\n",
       "      <td>0</td>\n",
       "      <td>0</td>\n",
       "      <td>0</td>\n",
       "      <td>0</td>\n",
       "      <td>1</td>\n",
       "      <td>0</td>\n",
       "      <td>0</td>\n",
       "      <td>0</td>\n",
       "      <td>...</td>\n",
       "      <td>0</td>\n",
       "      <td>0</td>\n",
       "      <td>1</td>\n",
       "      <td>0</td>\n",
       "      <td>0</td>\n",
       "      <td>0</td>\n",
       "      <td>0</td>\n",
       "      <td>0</td>\n",
       "      <td>0</td>\n",
       "      <td>0</td>\n",
       "    </tr>\n",
       "    <tr>\n",
       "      <th>575</th>\n",
       "      <td>25</td>\n",
       "      <td>12</td>\n",
       "      <td>0</td>\n",
       "      <td>0</td>\n",
       "      <td>1</td>\n",
       "      <td>0</td>\n",
       "      <td>0</td>\n",
       "      <td>0</td>\n",
       "      <td>0</td>\n",
       "      <td>0</td>\n",
       "      <td>...</td>\n",
       "      <td>0</td>\n",
       "      <td>0</td>\n",
       "      <td>0</td>\n",
       "      <td>1</td>\n",
       "      <td>0</td>\n",
       "      <td>0</td>\n",
       "      <td>0</td>\n",
       "      <td>0</td>\n",
       "      <td>0</td>\n",
       "      <td>0</td>\n",
       "    </tr>\n",
       "    <tr>\n",
       "      <th>821</th>\n",
       "      <td>8</td>\n",
       "      <td>25</td>\n",
       "      <td>0</td>\n",
       "      <td>0</td>\n",
       "      <td>0</td>\n",
       "      <td>1</td>\n",
       "      <td>0</td>\n",
       "      <td>0</td>\n",
       "      <td>0</td>\n",
       "      <td>1</td>\n",
       "      <td>...</td>\n",
       "      <td>0</td>\n",
       "      <td>0</td>\n",
       "      <td>0</td>\n",
       "      <td>0</td>\n",
       "      <td>0</td>\n",
       "      <td>0</td>\n",
       "      <td>0</td>\n",
       "      <td>0</td>\n",
       "      <td>0</td>\n",
       "      <td>0</td>\n",
       "    </tr>\n",
       "    <tr>\n",
       "      <th>1063</th>\n",
       "      <td>0</td>\n",
       "      <td>8</td>\n",
       "      <td>0</td>\n",
       "      <td>0</td>\n",
       "      <td>0</td>\n",
       "      <td>0</td>\n",
       "      <td>1</td>\n",
       "      <td>0</td>\n",
       "      <td>0</td>\n",
       "      <td>0</td>\n",
       "      <td>...</td>\n",
       "      <td>0</td>\n",
       "      <td>0</td>\n",
       "      <td>0</td>\n",
       "      <td>0</td>\n",
       "      <td>0</td>\n",
       "      <td>0</td>\n",
       "      <td>0</td>\n",
       "      <td>1</td>\n",
       "      <td>0</td>\n",
       "      <td>0</td>\n",
       "    </tr>\n",
       "    <tr>\n",
       "      <th>905</th>\n",
       "      <td>25</td>\n",
       "      <td>10</td>\n",
       "      <td>0</td>\n",
       "      <td>0</td>\n",
       "      <td>0</td>\n",
       "      <td>1</td>\n",
       "      <td>0</td>\n",
       "      <td>0</td>\n",
       "      <td>0</td>\n",
       "      <td>0</td>\n",
       "      <td>...</td>\n",
       "      <td>0</td>\n",
       "      <td>0</td>\n",
       "      <td>0</td>\n",
       "      <td>0</td>\n",
       "      <td>1</td>\n",
       "      <td>0</td>\n",
       "      <td>0</td>\n",
       "      <td>0</td>\n",
       "      <td>0</td>\n",
       "      <td>0</td>\n",
       "    </tr>\n",
       "    <tr>\n",
       "      <th>...</th>\n",
       "      <td>...</td>\n",
       "      <td>...</td>\n",
       "      <td>...</td>\n",
       "      <td>...</td>\n",
       "      <td>...</td>\n",
       "      <td>...</td>\n",
       "      <td>...</td>\n",
       "      <td>...</td>\n",
       "      <td>...</td>\n",
       "      <td>...</td>\n",
       "      <td>...</td>\n",
       "      <td>...</td>\n",
       "      <td>...</td>\n",
       "      <td>...</td>\n",
       "      <td>...</td>\n",
       "      <td>...</td>\n",
       "      <td>...</td>\n",
       "      <td>...</td>\n",
       "      <td>...</td>\n",
       "      <td>...</td>\n",
       "      <td>...</td>\n",
       "    </tr>\n",
       "    <tr>\n",
       "      <th>330</th>\n",
       "      <td>2</td>\n",
       "      <td>19</td>\n",
       "      <td>0</td>\n",
       "      <td>0</td>\n",
       "      <td>1</td>\n",
       "      <td>0</td>\n",
       "      <td>0</td>\n",
       "      <td>0</td>\n",
       "      <td>0</td>\n",
       "      <td>0</td>\n",
       "      <td>...</td>\n",
       "      <td>0</td>\n",
       "      <td>0</td>\n",
       "      <td>0</td>\n",
       "      <td>0</td>\n",
       "      <td>0</td>\n",
       "      <td>0</td>\n",
       "      <td>0</td>\n",
       "      <td>1</td>\n",
       "      <td>0</td>\n",
       "      <td>0</td>\n",
       "    </tr>\n",
       "    <tr>\n",
       "      <th>466</th>\n",
       "      <td>16</td>\n",
       "      <td>15</td>\n",
       "      <td>0</td>\n",
       "      <td>0</td>\n",
       "      <td>0</td>\n",
       "      <td>0</td>\n",
       "      <td>0</td>\n",
       "      <td>1</td>\n",
       "      <td>0</td>\n",
       "      <td>1</td>\n",
       "      <td>...</td>\n",
       "      <td>0</td>\n",
       "      <td>0</td>\n",
       "      <td>0</td>\n",
       "      <td>0</td>\n",
       "      <td>0</td>\n",
       "      <td>0</td>\n",
       "      <td>0</td>\n",
       "      <td>0</td>\n",
       "      <td>0</td>\n",
       "      <td>0</td>\n",
       "    </tr>\n",
       "    <tr>\n",
       "      <th>121</th>\n",
       "      <td>19</td>\n",
       "      <td>18</td>\n",
       "      <td>0</td>\n",
       "      <td>0</td>\n",
       "      <td>0</td>\n",
       "      <td>1</td>\n",
       "      <td>0</td>\n",
       "      <td>0</td>\n",
       "      <td>0</td>\n",
       "      <td>0</td>\n",
       "      <td>...</td>\n",
       "      <td>0</td>\n",
       "      <td>0</td>\n",
       "      <td>0</td>\n",
       "      <td>0</td>\n",
       "      <td>0</td>\n",
       "      <td>0</td>\n",
       "      <td>1</td>\n",
       "      <td>0</td>\n",
       "      <td>0</td>\n",
       "      <td>0</td>\n",
       "    </tr>\n",
       "    <tr>\n",
       "      <th>1044</th>\n",
       "      <td>4</td>\n",
       "      <td>14</td>\n",
       "      <td>0</td>\n",
       "      <td>0</td>\n",
       "      <td>1</td>\n",
       "      <td>0</td>\n",
       "      <td>0</td>\n",
       "      <td>0</td>\n",
       "      <td>0</td>\n",
       "      <td>0</td>\n",
       "      <td>...</td>\n",
       "      <td>0</td>\n",
       "      <td>0</td>\n",
       "      <td>0</td>\n",
       "      <td>0</td>\n",
       "      <td>0</td>\n",
       "      <td>0</td>\n",
       "      <td>0</td>\n",
       "      <td>1</td>\n",
       "      <td>0</td>\n",
       "      <td>0</td>\n",
       "    </tr>\n",
       "    <tr>\n",
       "      <th>860</th>\n",
       "      <td>18</td>\n",
       "      <td>8</td>\n",
       "      <td>0</td>\n",
       "      <td>0</td>\n",
       "      <td>0</td>\n",
       "      <td>0</td>\n",
       "      <td>1</td>\n",
       "      <td>0</td>\n",
       "      <td>0</td>\n",
       "      <td>0</td>\n",
       "      <td>...</td>\n",
       "      <td>0</td>\n",
       "      <td>0</td>\n",
       "      <td>0</td>\n",
       "      <td>0</td>\n",
       "      <td>0</td>\n",
       "      <td>0</td>\n",
       "      <td>1</td>\n",
       "      <td>0</td>\n",
       "      <td>0</td>\n",
       "      <td>0</td>\n",
       "    </tr>\n",
       "  </tbody>\n",
       "</table>\n",
       "<p>876 rows × 21 columns</p>\n",
       "</div>"
      ],
      "text/plain": [
       "      Temperature_2m_mean (°C)  Windspeed_10m_max (km/h)  Weekday_Fri.  \\\n",
       "6                            2                        14             0   \n",
       "575                         25                        12             0   \n",
       "821                          8                        25             0   \n",
       "1063                         0                         8             0   \n",
       "905                         25                        10             0   \n",
       "...                        ...                       ...           ...   \n",
       "330                          2                        19             0   \n",
       "466                         16                        15             0   \n",
       "121                         19                        18             0   \n",
       "1044                         4                        14             0   \n",
       "860                         18                         8             0   \n",
       "\n",
       "      Weekday_Mon.  Weekday_Sat.  Weekday_Sun.  Weekday_Thur.  Weekday_Tue.  \\\n",
       "6                0             0             0              1             0   \n",
       "575              0             1             0              0             0   \n",
       "821              0             0             1              0             0   \n",
       "1063             0             0             0              1             0   \n",
       "905              0             0             1              0             0   \n",
       "...            ...           ...           ...            ...           ...   \n",
       "330              0             1             0              0             0   \n",
       "466              0             0             0              0             1   \n",
       "121              0             0             1              0             0   \n",
       "1044             0             1             0              0             0   \n",
       "860              0             0             0              1             0   \n",
       "\n",
       "      Weekday_Wed.  Month_Apr.  ...  Month_Dec.  Month_Feb.  Month_Jan.  \\\n",
       "6                0           0  ...           0           0           1   \n",
       "575              0           0  ...           0           0           0   \n",
       "821              0           1  ...           0           0           0   \n",
       "1063             0           0  ...           0           0           0   \n",
       "905              0           0  ...           0           0           0   \n",
       "...            ...         ...  ...         ...         ...         ...   \n",
       "330              0           0  ...           0           0           0   \n",
       "466              0           1  ...           0           0           0   \n",
       "121              0           0  ...           0           0           0   \n",
       "1044             0           0  ...           0           0           0   \n",
       "860              0           0  ...           0           0           0   \n",
       "\n",
       "      Month_Jul.  Month_Jun.  Month_Mar.  Month_May  Month_Nov.  Month_Oct.  \\\n",
       "6              0           0           0          0           0           0   \n",
       "575            1           0           0          0           0           0   \n",
       "821            0           0           0          0           0           0   \n",
       "1063           0           0           0          0           1           0   \n",
       "905            0           1           0          0           0           0   \n",
       "...          ...         ...         ...        ...         ...         ...   \n",
       "330            0           0           0          0           1           0   \n",
       "466            0           0           0          0           0           0   \n",
       "121            0           0           0          1           0           0   \n",
       "1044           0           0           0          0           1           0   \n",
       "860            0           0           0          1           0           0   \n",
       "\n",
       "      Month_Sep.  \n",
       "6              0  \n",
       "575            0  \n",
       "821            0  \n",
       "1063           0  \n",
       "905            0  \n",
       "...          ...  \n",
       "330            0  \n",
       "466            0  \n",
       "121            0  \n",
       "1044           0  \n",
       "860            0  \n",
       "\n",
       "[876 rows x 21 columns]"
      ]
     },
     "execution_count": 1063,
     "metadata": {},
     "output_type": "execute_result"
    }
   ],
   "source": [
    "X_train"
   ]
  },
  {
   "cell_type": "code",
   "execution_count": 1064,
   "metadata": {},
   "outputs": [
    {
     "data": {
      "text/html": [
       "<div>\n",
       "<style scoped>\n",
       "    .dataframe tbody tr th:only-of-type {\n",
       "        vertical-align: middle;\n",
       "    }\n",
       "\n",
       "    .dataframe tbody tr th {\n",
       "        vertical-align: top;\n",
       "    }\n",
       "\n",
       "    .dataframe thead th {\n",
       "        text-align: right;\n",
       "    }\n",
       "</style>\n",
       "<table border=\"1\" class=\"dataframe\">\n",
       "  <thead>\n",
       "    <tr style=\"text-align: right;\">\n",
       "      <th></th>\n",
       "      <th>Temperature_2m_mean (°C)</th>\n",
       "      <th>Windspeed_10m_max (km/h)</th>\n",
       "      <th>Weekday_Fri.</th>\n",
       "      <th>Weekday_Mon.</th>\n",
       "      <th>Weekday_Sat.</th>\n",
       "      <th>Weekday_Sun.</th>\n",
       "      <th>Weekday_Thur.</th>\n",
       "      <th>Weekday_Tue.</th>\n",
       "      <th>Weekday_Wed.</th>\n",
       "      <th>Month_Apr.</th>\n",
       "      <th>...</th>\n",
       "      <th>Month_Dec.</th>\n",
       "      <th>Month_Feb.</th>\n",
       "      <th>Month_Jan.</th>\n",
       "      <th>Month_Jul.</th>\n",
       "      <th>Month_Jun.</th>\n",
       "      <th>Month_Mar.</th>\n",
       "      <th>Month_May</th>\n",
       "      <th>Month_Nov.</th>\n",
       "      <th>Month_Oct.</th>\n",
       "      <th>Month_Sep.</th>\n",
       "    </tr>\n",
       "  </thead>\n",
       "  <tbody>\n",
       "    <tr>\n",
       "      <th>533</th>\n",
       "      <td>22</td>\n",
       "      <td>28</td>\n",
       "      <td>0</td>\n",
       "      <td>0</td>\n",
       "      <td>1</td>\n",
       "      <td>0</td>\n",
       "      <td>0</td>\n",
       "      <td>0</td>\n",
       "      <td>0</td>\n",
       "      <td>0</td>\n",
       "      <td>...</td>\n",
       "      <td>0</td>\n",
       "      <td>0</td>\n",
       "      <td>0</td>\n",
       "      <td>0</td>\n",
       "      <td>1</td>\n",
       "      <td>0</td>\n",
       "      <td>0</td>\n",
       "      <td>0</td>\n",
       "      <td>0</td>\n",
       "      <td>0</td>\n",
       "    </tr>\n",
       "    <tr>\n",
       "      <th>139</th>\n",
       "      <td>22</td>\n",
       "      <td>14</td>\n",
       "      <td>0</td>\n",
       "      <td>0</td>\n",
       "      <td>0</td>\n",
       "      <td>0</td>\n",
       "      <td>1</td>\n",
       "      <td>0</td>\n",
       "      <td>0</td>\n",
       "      <td>0</td>\n",
       "      <td>...</td>\n",
       "      <td>0</td>\n",
       "      <td>0</td>\n",
       "      <td>0</td>\n",
       "      <td>0</td>\n",
       "      <td>0</td>\n",
       "      <td>0</td>\n",
       "      <td>1</td>\n",
       "      <td>0</td>\n",
       "      <td>0</td>\n",
       "      <td>0</td>\n",
       "    </tr>\n",
       "    <tr>\n",
       "      <th>88</th>\n",
       "      <td>11</td>\n",
       "      <td>18</td>\n",
       "      <td>0</td>\n",
       "      <td>0</td>\n",
       "      <td>0</td>\n",
       "      <td>0</td>\n",
       "      <td>0</td>\n",
       "      <td>1</td>\n",
       "      <td>0</td>\n",
       "      <td>0</td>\n",
       "      <td>...</td>\n",
       "      <td>0</td>\n",
       "      <td>0</td>\n",
       "      <td>0</td>\n",
       "      <td>0</td>\n",
       "      <td>0</td>\n",
       "      <td>1</td>\n",
       "      <td>0</td>\n",
       "      <td>0</td>\n",
       "      <td>0</td>\n",
       "      <td>0</td>\n",
       "    </tr>\n",
       "    <tr>\n",
       "      <th>841</th>\n",
       "      <td>18</td>\n",
       "      <td>22</td>\n",
       "      <td>0</td>\n",
       "      <td>0</td>\n",
       "      <td>1</td>\n",
       "      <td>0</td>\n",
       "      <td>0</td>\n",
       "      <td>0</td>\n",
       "      <td>0</td>\n",
       "      <td>1</td>\n",
       "      <td>...</td>\n",
       "      <td>0</td>\n",
       "      <td>0</td>\n",
       "      <td>0</td>\n",
       "      <td>0</td>\n",
       "      <td>0</td>\n",
       "      <td>0</td>\n",
       "      <td>0</td>\n",
       "      <td>0</td>\n",
       "      <td>0</td>\n",
       "      <td>0</td>\n",
       "    </tr>\n",
       "    <tr>\n",
       "      <th>985</th>\n",
       "      <td>27</td>\n",
       "      <td>33</td>\n",
       "      <td>0</td>\n",
       "      <td>0</td>\n",
       "      <td>0</td>\n",
       "      <td>0</td>\n",
       "      <td>0</td>\n",
       "      <td>0</td>\n",
       "      <td>1</td>\n",
       "      <td>0</td>\n",
       "      <td>...</td>\n",
       "      <td>0</td>\n",
       "      <td>0</td>\n",
       "      <td>0</td>\n",
       "      <td>0</td>\n",
       "      <td>0</td>\n",
       "      <td>0</td>\n",
       "      <td>0</td>\n",
       "      <td>0</td>\n",
       "      <td>0</td>\n",
       "      <td>1</td>\n",
       "    </tr>\n",
       "    <tr>\n",
       "      <th>...</th>\n",
       "      <td>...</td>\n",
       "      <td>...</td>\n",
       "      <td>...</td>\n",
       "      <td>...</td>\n",
       "      <td>...</td>\n",
       "      <td>...</td>\n",
       "      <td>...</td>\n",
       "      <td>...</td>\n",
       "      <td>...</td>\n",
       "      <td>...</td>\n",
       "      <td>...</td>\n",
       "      <td>...</td>\n",
       "      <td>...</td>\n",
       "      <td>...</td>\n",
       "      <td>...</td>\n",
       "      <td>...</td>\n",
       "      <td>...</td>\n",
       "      <td>...</td>\n",
       "      <td>...</td>\n",
       "      <td>...</td>\n",
       "      <td>...</td>\n",
       "    </tr>\n",
       "    <tr>\n",
       "      <th>711</th>\n",
       "      <td>1</td>\n",
       "      <td>9</td>\n",
       "      <td>0</td>\n",
       "      <td>0</td>\n",
       "      <td>0</td>\n",
       "      <td>0</td>\n",
       "      <td>0</td>\n",
       "      <td>1</td>\n",
       "      <td>0</td>\n",
       "      <td>0</td>\n",
       "      <td>...</td>\n",
       "      <td>1</td>\n",
       "      <td>0</td>\n",
       "      <td>0</td>\n",
       "      <td>0</td>\n",
       "      <td>0</td>\n",
       "      <td>0</td>\n",
       "      <td>0</td>\n",
       "      <td>0</td>\n",
       "      <td>0</td>\n",
       "      <td>0</td>\n",
       "    </tr>\n",
       "    <tr>\n",
       "      <th>331</th>\n",
       "      <td>6</td>\n",
       "      <td>9</td>\n",
       "      <td>0</td>\n",
       "      <td>0</td>\n",
       "      <td>0</td>\n",
       "      <td>1</td>\n",
       "      <td>0</td>\n",
       "      <td>0</td>\n",
       "      <td>0</td>\n",
       "      <td>0</td>\n",
       "      <td>...</td>\n",
       "      <td>0</td>\n",
       "      <td>0</td>\n",
       "      <td>0</td>\n",
       "      <td>0</td>\n",
       "      <td>0</td>\n",
       "      <td>0</td>\n",
       "      <td>0</td>\n",
       "      <td>1</td>\n",
       "      <td>0</td>\n",
       "      <td>0</td>\n",
       "    </tr>\n",
       "    <tr>\n",
       "      <th>361</th>\n",
       "      <td>7</td>\n",
       "      <td>14</td>\n",
       "      <td>0</td>\n",
       "      <td>0</td>\n",
       "      <td>0</td>\n",
       "      <td>0</td>\n",
       "      <td>0</td>\n",
       "      <td>1</td>\n",
       "      <td>0</td>\n",
       "      <td>0</td>\n",
       "      <td>...</td>\n",
       "      <td>1</td>\n",
       "      <td>0</td>\n",
       "      <td>0</td>\n",
       "      <td>0</td>\n",
       "      <td>0</td>\n",
       "      <td>0</td>\n",
       "      <td>0</td>\n",
       "      <td>0</td>\n",
       "      <td>0</td>\n",
       "      <td>0</td>\n",
       "    </tr>\n",
       "    <tr>\n",
       "      <th>817</th>\n",
       "      <td>9</td>\n",
       "      <td>13</td>\n",
       "      <td>0</td>\n",
       "      <td>0</td>\n",
       "      <td>0</td>\n",
       "      <td>0</td>\n",
       "      <td>0</td>\n",
       "      <td>0</td>\n",
       "      <td>1</td>\n",
       "      <td>0</td>\n",
       "      <td>...</td>\n",
       "      <td>0</td>\n",
       "      <td>0</td>\n",
       "      <td>0</td>\n",
       "      <td>0</td>\n",
       "      <td>0</td>\n",
       "      <td>1</td>\n",
       "      <td>0</td>\n",
       "      <td>0</td>\n",
       "      <td>0</td>\n",
       "      <td>0</td>\n",
       "    </tr>\n",
       "    <tr>\n",
       "      <th>2</th>\n",
       "      <td>3</td>\n",
       "      <td>13</td>\n",
       "      <td>0</td>\n",
       "      <td>0</td>\n",
       "      <td>0</td>\n",
       "      <td>1</td>\n",
       "      <td>0</td>\n",
       "      <td>0</td>\n",
       "      <td>0</td>\n",
       "      <td>0</td>\n",
       "      <td>...</td>\n",
       "      <td>0</td>\n",
       "      <td>0</td>\n",
       "      <td>1</td>\n",
       "      <td>0</td>\n",
       "      <td>0</td>\n",
       "      <td>0</td>\n",
       "      <td>0</td>\n",
       "      <td>0</td>\n",
       "      <td>0</td>\n",
       "      <td>0</td>\n",
       "    </tr>\n",
       "  </tbody>\n",
       "</table>\n",
       "<p>219 rows × 21 columns</p>\n",
       "</div>"
      ],
      "text/plain": [
       "     Temperature_2m_mean (°C)  Windspeed_10m_max (km/h)  Weekday_Fri.  \\\n",
       "533                        22                        28             0   \n",
       "139                        22                        14             0   \n",
       "88                         11                        18             0   \n",
       "841                        18                        22             0   \n",
       "985                        27                        33             0   \n",
       "..                        ...                       ...           ...   \n",
       "711                         1                         9             0   \n",
       "331                         6                         9             0   \n",
       "361                         7                        14             0   \n",
       "817                         9                        13             0   \n",
       "2                           3                        13             0   \n",
       "\n",
       "     Weekday_Mon.  Weekday_Sat.  Weekday_Sun.  Weekday_Thur.  Weekday_Tue.  \\\n",
       "533             0             1             0              0             0   \n",
       "139             0             0             0              1             0   \n",
       "88              0             0             0              0             1   \n",
       "841             0             1             0              0             0   \n",
       "985             0             0             0              0             0   \n",
       "..            ...           ...           ...            ...           ...   \n",
       "711             0             0             0              0             1   \n",
       "331             0             0             1              0             0   \n",
       "361             0             0             0              0             1   \n",
       "817             0             0             0              0             0   \n",
       "2               0             0             1              0             0   \n",
       "\n",
       "     Weekday_Wed.  Month_Apr.  ...  Month_Dec.  Month_Feb.  Month_Jan.  \\\n",
       "533             0           0  ...           0           0           0   \n",
       "139             0           0  ...           0           0           0   \n",
       "88              0           0  ...           0           0           0   \n",
       "841             0           1  ...           0           0           0   \n",
       "985             1           0  ...           0           0           0   \n",
       "..            ...         ...  ...         ...         ...         ...   \n",
       "711             0           0  ...           1           0           0   \n",
       "331             0           0  ...           0           0           0   \n",
       "361             0           0  ...           1           0           0   \n",
       "817             1           0  ...           0           0           0   \n",
       "2               0           0  ...           0           0           1   \n",
       "\n",
       "     Month_Jul.  Month_Jun.  Month_Mar.  Month_May  Month_Nov.  Month_Oct.  \\\n",
       "533           0           1           0          0           0           0   \n",
       "139           0           0           0          1           0           0   \n",
       "88            0           0           1          0           0           0   \n",
       "841           0           0           0          0           0           0   \n",
       "985           0           0           0          0           0           0   \n",
       "..          ...         ...         ...        ...         ...         ...   \n",
       "711           0           0           0          0           0           0   \n",
       "331           0           0           0          0           1           0   \n",
       "361           0           0           0          0           0           0   \n",
       "817           0           0           1          0           0           0   \n",
       "2             0           0           0          0           0           0   \n",
       "\n",
       "     Month_Sep.  \n",
       "533           0  \n",
       "139           0  \n",
       "88            0  \n",
       "841           0  \n",
       "985           1  \n",
       "..          ...  \n",
       "711           0  \n",
       "331           0  \n",
       "361           0  \n",
       "817           0  \n",
       "2             0  \n",
       "\n",
       "[219 rows x 21 columns]"
      ]
     },
     "execution_count": 1064,
     "metadata": {},
     "output_type": "execute_result"
    }
   ],
   "source": [
    "X_test"
   ]
  },
  {
   "cell_type": "markdown",
   "metadata": {},
   "source": [
    "Scaling"
   ]
  },
  {
   "cell_type": "code",
   "execution_count": 1065,
   "metadata": {},
   "outputs": [],
   "source": [
    "# Initialize the scaler\n",
    "scaler = StandardScaler()\n",
    "\n",
    "# Fit the scaler on the training data and transform both training and testing data\n",
    "X_train_scaled = scaler.fit_transform(X_train)\n",
    "X_test_scaled = scaler.transform(X_test)"
   ]
  },
  {
   "cell_type": "markdown",
   "metadata": {},
   "source": [
    "Model Building"
   ]
  },
  {
   "cell_type": "code",
   "execution_count": 1066,
   "metadata": {},
   "outputs": [
    {
     "data": {
      "text/html": [
       "<style>#sk-container-id-42 {color: black;}#sk-container-id-42 pre{padding: 0;}#sk-container-id-42 div.sk-toggleable {background-color: white;}#sk-container-id-42 label.sk-toggleable__label {cursor: pointer;display: block;width: 100%;margin-bottom: 0;padding: 0.3em;box-sizing: border-box;text-align: center;}#sk-container-id-42 label.sk-toggleable__label-arrow:before {content: \"▸\";float: left;margin-right: 0.25em;color: #696969;}#sk-container-id-42 label.sk-toggleable__label-arrow:hover:before {color: black;}#sk-container-id-42 div.sk-estimator:hover label.sk-toggleable__label-arrow:before {color: black;}#sk-container-id-42 div.sk-toggleable__content {max-height: 0;max-width: 0;overflow: hidden;text-align: left;background-color: #f0f8ff;}#sk-container-id-42 div.sk-toggleable__content pre {margin: 0.2em;color: black;border-radius: 0.25em;background-color: #f0f8ff;}#sk-container-id-42 input.sk-toggleable__control:checked~div.sk-toggleable__content {max-height: 200px;max-width: 100%;overflow: auto;}#sk-container-id-42 input.sk-toggleable__control:checked~label.sk-toggleable__label-arrow:before {content: \"▾\";}#sk-container-id-42 div.sk-estimator input.sk-toggleable__control:checked~label.sk-toggleable__label {background-color: #d4ebff;}#sk-container-id-42 div.sk-label input.sk-toggleable__control:checked~label.sk-toggleable__label {background-color: #d4ebff;}#sk-container-id-42 input.sk-hidden--visually {border: 0;clip: rect(1px 1px 1px 1px);clip: rect(1px, 1px, 1px, 1px);height: 1px;margin: -1px;overflow: hidden;padding: 0;position: absolute;width: 1px;}#sk-container-id-42 div.sk-estimator {font-family: monospace;background-color: #f0f8ff;border: 1px dotted black;border-radius: 0.25em;box-sizing: border-box;margin-bottom: 0.5em;}#sk-container-id-42 div.sk-estimator:hover {background-color: #d4ebff;}#sk-container-id-42 div.sk-parallel-item::after {content: \"\";width: 100%;border-bottom: 1px solid gray;flex-grow: 1;}#sk-container-id-42 div.sk-label:hover label.sk-toggleable__label {background-color: #d4ebff;}#sk-container-id-42 div.sk-serial::before {content: \"\";position: absolute;border-left: 1px solid gray;box-sizing: border-box;top: 0;bottom: 0;left: 50%;z-index: 0;}#sk-container-id-42 div.sk-serial {display: flex;flex-direction: column;align-items: center;background-color: white;padding-right: 0.2em;padding-left: 0.2em;position: relative;}#sk-container-id-42 div.sk-item {position: relative;z-index: 1;}#sk-container-id-42 div.sk-parallel {display: flex;align-items: stretch;justify-content: center;background-color: white;position: relative;}#sk-container-id-42 div.sk-item::before, #sk-container-id-42 div.sk-parallel-item::before {content: \"\";position: absolute;border-left: 1px solid gray;box-sizing: border-box;top: 0;bottom: 0;left: 50%;z-index: -1;}#sk-container-id-42 div.sk-parallel-item {display: flex;flex-direction: column;z-index: 1;position: relative;background-color: white;}#sk-container-id-42 div.sk-parallel-item:first-child::after {align-self: flex-end;width: 50%;}#sk-container-id-42 div.sk-parallel-item:last-child::after {align-self: flex-start;width: 50%;}#sk-container-id-42 div.sk-parallel-item:only-child::after {width: 0;}#sk-container-id-42 div.sk-dashed-wrapped {border: 1px dashed gray;margin: 0 0.4em 0.5em 0.4em;box-sizing: border-box;padding-bottom: 0.4em;background-color: white;}#sk-container-id-42 div.sk-label label {font-family: monospace;font-weight: bold;display: inline-block;line-height: 1.2em;}#sk-container-id-42 div.sk-label-container {text-align: center;}#sk-container-id-42 div.sk-container {/* jupyter's `normalize.less` sets `[hidden] { display: none; }` but bootstrap.min.css set `[hidden] { display: none !important; }` so we also need the `!important` here to be able to override the default hidden behavior on the sphinx rendered scikit-learn.org. See: https://github.com/scikit-learn/scikit-learn/issues/21755 */display: inline-block !important;position: relative;}#sk-container-id-42 div.sk-text-repr-fallback {display: none;}</style><div id=\"sk-container-id-42\" class=\"sk-top-container\"><div class=\"sk-text-repr-fallback\"><pre>LinearRegression()</pre><b>In a Jupyter environment, please rerun this cell to show the HTML representation or trust the notebook. <br />On GitHub, the HTML representation is unable to render, please try loading this page with nbviewer.org.</b></div><div class=\"sk-container\" hidden><div class=\"sk-item\"><div class=\"sk-estimator sk-toggleable\"><input class=\"sk-toggleable__control sk-hidden--visually\" id=\"sk-estimator-id-42\" type=\"checkbox\" checked><label for=\"sk-estimator-id-42\" class=\"sk-toggleable__label sk-toggleable__label-arrow\">LinearRegression</label><div class=\"sk-toggleable__content\"><pre>LinearRegression()</pre></div></div></div></div></div>"
      ],
      "text/plain": [
       "LinearRegression()"
      ]
     },
     "execution_count": 1066,
     "metadata": {},
     "output_type": "execute_result"
    }
   ],
   "source": [
    "lr=LinearRegression()\n",
    "lr.fit(X_train_scaled,y_train)"
   ]
  },
  {
   "cell_type": "markdown",
   "metadata": {},
   "source": [
    "Applying the model to make prediction"
   ]
  },
  {
   "cell_type": "code",
   "execution_count": 1067,
   "metadata": {},
   "outputs": [],
   "source": [
    "y_pred = lr.predict(X_test_scaled)\n",
    "y_train_pred=lr.predict(X_train_scaled)"
   ]
  },
  {
   "cell_type": "code",
   "execution_count": 1068,
   "metadata": {},
   "outputs": [
    {
     "data": {
      "text/plain": [
       "array([12860.43712203, 11885.35087103,  8069.37659651, 12315.73009424,\n",
       "       13304.1879592 , 10829.01433902, 13538.71324894, 12157.43059446,\n",
       "        5710.79296144,  8077.47823866, 13093.84410866, 11023.32848422,\n",
       "       10948.73322191, 11427.94690327, 12780.17318732, 10766.59046641,\n",
       "       11711.61937658, 13250.38564487,  4930.86504789,  5097.09323852,\n",
       "        4571.06506049, 12631.71031129, 12509.08852655,  9175.93105586,\n",
       "       11485.63837717,  6378.27927046,  8131.48811537,  3324.24222635,\n",
       "       11106.50368784,  8618.35535462,  9971.61813159,  5402.33356851,\n",
       "       12200.7582081 ,  4064.01145138, 12743.12716268, 12542.22762341,\n",
       "        6138.87353626,  9289.75854904, 11216.26568706, 12306.41304766,\n",
       "        5471.16996838, 11777.1135134 ,  3033.91503884, 10851.64610546,\n",
       "       12163.59128977, 11765.75848545,  8993.94868581, 13255.71260991,\n",
       "       12869.23483354,  9912.79946734, 11779.5420366 ,  3172.59557858,\n",
       "        9892.77629597, 13394.48150299, 10063.15586498,  6345.76315203,\n",
       "        9873.77652641,  7584.17652768, 12546.31478975,  6647.22073794,\n",
       "       12423.96555103,  3847.28502979, 12584.38533886, 11120.26058165,\n",
       "       12370.60341547, 10438.82764537, 13111.77314854, 12475.48090401,\n",
       "        6865.78580719,  9383.32176718,  8875.66513531, 12110.66693446,\n",
       "       12252.12506544, 12863.03370136,  6390.38395383,  9086.48775717,\n",
       "        3777.98027288, 12015.19645413,  7626.78639464,  8488.57562815,\n",
       "       12180.68597493,  8785.89183558, 12701.38173256, 13057.76142492,\n",
       "       10250.2718531 ,  9091.07051669, 12810.31556262, 10037.09903209,\n",
       "        8658.70231099, 12546.45204759, 12707.92180635, 12697.91648533,\n",
       "        6888.95283432, 11932.09359187, 10382.55912432, 14742.93018853,\n",
       "        3535.2056821 ,  7683.85443643, 12158.11602507,  5926.74631172,\n",
       "        3853.04799563, 11932.6504709 , 11412.54757071, 11911.29964697,\n",
       "       11701.74384269, 11305.04632629, 10039.59541264, 13399.13818166,\n",
       "        4698.14943196,  9276.39181668, 11310.10760464, 13577.99411224,\n",
       "       11797.8060782 ,  7488.54551479, 13326.6504168 , 12815.64252766,\n",
       "       10605.58232502,  9292.93730863, 11593.02347232,  4695.36462523,\n",
       "       13383.33736992, 11648.16020789, 12589.6424034 , 10221.60356603,\n",
       "        7880.82080424, 11331.01480583,  3631.92854796,  8565.57789401,\n",
       "       13428.40210843, 11280.36868317,  5123.33980486,  9210.77159681,\n",
       "       12157.6060656 , 12263.42559528,  9378.3022858 ,  7761.88000835,\n",
       "       12010.26409055,  6620.9741716 , 12848.75695891, 11890.27043407,\n",
       "       12629.1958336 ,  7420.56005602, 12347.16500864,  5743.9320583 ,\n",
       "       12596.05673674,  8778.69970118, 13186.89313949, 12734.79642894,\n",
       "       13992.58336547, 14006.05943297,  8585.24959445, 14063.38391452,\n",
       "       12252.87187389,  5736.45645518,  5949.42949673, 12357.63161222,\n",
       "       12723.35687748,  4806.67769766,  3788.05657515, 12361.27802582,\n",
       "       10351.58640698,  5881.87436725, 14200.7367051 , 13412.19565523,\n",
       "       11951.32023942, 11749.00203654,  8181.56064347,  8229.12488643,\n",
       "        4078.38376266, 11391.83881143, 12020.70468596,  6709.02838666,\n",
       "        9127.14608859,  8345.21059451,  8995.4395038 , 10092.14358346,\n",
       "        5485.63929671,  6428.11664463, 12638.53735981,  3668.45198444,\n",
       "        6833.71027075, 11026.74099106, 12085.69610644, 12056.74946778,\n",
       "        6680.081748  ,  6534.3189443 , 11313.88128292,  2973.31664443,\n",
       "        4789.59665035, 14625.82510226, 12515.81447935, 11823.68743995,\n",
       "        5748.70775455,  5151.23234739,  6368.72014701, 12117.74919843,\n",
       "        7800.62486248, 12631.71031129,  4465.92113441,  9780.31712194,\n",
       "       11124.90445079, 12133.6335875 , 10712.06564952,  9081.41755526,\n",
       "        5783.46657493, 11459.66989762,  8375.67383451, 11872.24180994,\n",
       "       12055.0825222 , 11922.10564295, 10523.32012379, 11299.36305009,\n",
       "       11309.35099901,  4949.05494377,  6599.31036477,  9050.24240749,\n",
       "        7557.21221465,  8026.23871631,  4407.82224445])"
      ]
     },
     "execution_count": 1068,
     "metadata": {},
     "output_type": "execute_result"
    }
   ],
   "source": [
    "y_pred"
   ]
  },
  {
   "cell_type": "markdown",
   "metadata": {},
   "source": [
    "Model Evaluation"
   ]
  },
  {
   "cell_type": "code",
   "execution_count": 1069,
   "metadata": {},
   "outputs": [
    {
     "name": "stdout",
     "output_type": "stream",
     "text": [
      "7806990.70665579\n",
      "0.571121986159131\n"
     ]
    }
   ],
   "source": [
    "# Evaluate the model\n",
    "mse = mean_squared_error(y_test, y_pred)\n",
    "lr_test_r2=r2_score(y_test,y_pred)\n",
    "print(mse)\n",
    "print(lr_test_r2)"
   ]
  },
  {
   "cell_type": "markdown",
   "metadata": {},
   "source": [
    "Polynomial Daily"
   ]
  },
  {
   "cell_type": "code",
   "execution_count": 1070,
   "metadata": {},
   "outputs": [
    {
     "name": "stdout",
     "output_type": "stream",
     "text": [
      "Training Set - Mean Squared Error: 6508665.225509042\n",
      "Training Set - R2 Score: 0.6113531437454742\n",
      "Test Set - Mean Squared Error: 8010672.474006941\n",
      "Test Set - R2 Score: 0.5599327027182417\n"
     ]
    }
   ],
   "source": [
    "\n",
    "from sklearn.preprocessing import PolynomialFeatures\n",
    "\n",
    "# Polynomial features transformation\n",
    "poly_features = PolynomialFeatures(degree=2, include_bias=False)\n",
    "X_train_poly = poly_features.fit_transform(X_train)\n",
    "\n",
    "# Train polynomial regression model\n",
    "poly_reg = LinearRegression()\n",
    "poly_reg.fit(X_train_poly, y_train)\n",
    "\n",
    "# Make predictions on the training data\n",
    "y_train_predicted = poly_reg.predict(X_train_poly)\n",
    "\n",
    "# Evaluate model performance on training data\n",
    "mse_train = mean_squared_error(y_train, y_train_predicted)\n",
    "r2_train = r2_score(y_train, y_train_predicted)\n",
    "print(\"Training Set - Mean Squared Error:\", mse_train)\n",
    "print(\"Training Set - R2 Score:\", r2_train)\n",
    "\n",
    "# Visualize the polynomial regression model\n",
    "#plt.scatter(X_train, y_train, color='blue', label='Training data')\n",
    "#plt.plot(X_train, y_train_predicted, color='red', label='Polynomial regression')\n",
    "#plt.title('Polynomial Regression')\n",
    "#plt.xlabel('X')\n",
    "#plt.ylabel('y')\n",
    "#plt.legend()\n",
    "#plt.show()\n",
    "\n",
    "# Evaluate the model on test data\n",
    "X_test_poly = poly_features.transform(X_test)\n",
    "y_test_predicted = poly_reg.predict(X_test_poly)\n",
    "\n",
    "# Evaluate model performance on test data\n",
    "mse_test = mean_squared_error(y_test, y_test_predicted)\n",
    "r2_test = r2_score(y_test, y_test_predicted)\n",
    "print(\"Test Set - Mean Squared Error:\", mse_test)\n",
    "print(\"Test Set - R2 Score:\", r2_test)"
   ]
  },
  {
   "cell_type": "markdown",
   "metadata": {},
   "source": [
    "Other Alogrithms"
   ]
  },
  {
   "cell_type": "code",
   "execution_count": 1071,
   "metadata": {},
   "outputs": [
    {
     "name": "stdout",
     "output_type": "stream",
     "text": [
      "LinearRegression - MSE: 7806990.706655765\n",
      "LinearRegression - R2: 0.5711219861591323\n",
      " \n",
      "Ridge - MSE: 7819347.047513411\n",
      "Ridge - R2: 0.5704431890240402\n",
      " \n",
      "Lasso - MSE: 7809194.318497862\n",
      "Lasso - R2: 0.5710009304661482\n",
      " \n",
      "RandomForestRegressor - MSE: 7872194.051463804\n",
      "RandomForestRegressor - R2: 0.5675400322324788\n",
      " \n",
      "GradientBoostingRegressor - MSE: 7189129.488777313\n",
      "GradientBoostingRegressor - R2: 0.6050642696726887\n",
      " \n"
     ]
    }
   ],
   "source": [
    "\n",
    "from sklearn.linear_model import LinearRegression, Ridge, Lasso\n",
    "from sklearn.ensemble import RandomForestRegressor, GradientBoostingRegressor\n",
    "from sklearn.metrics import mean_squared_error\n",
    "\n",
    "\n",
    "# Split the data into training and testing sets\n",
    "X_train, X_test, y_train, y_test = train_test_split(X,y, test_size=0.2, random_state=42)\n",
    "\n",
    "# Define a list of regression algorithms\n",
    "algorithms = [\n",
    "    LinearRegression(),\n",
    "    Ridge(),\n",
    "    Lasso(),\n",
    "    RandomForestRegressor(),\n",
    "    GradientBoostingRegressor()\n",
    "]\n",
    "\n",
    "# Iterate over each algorithm, train it, make predictions, and evaluate performance\n",
    "for algorithm in algorithms:\n",
    "    # Train the algorithm\n",
    "    algorithm.fit(X_train, y_train)\n",
    "    \n",
    "    # Make predictions\n",
    "    y_pred = algorithm.predict(X_test)\n",
    "    \n",
    "    \n",
    "    # Evaluate performance (using Mean Squared Error in this example)\n",
    "    mse = mean_squared_error(y_test, y_pred)\n",
    "    r2=r2_score(y_test,y_pred)\n",
    "    \n",
    "    \n",
    "    # Print the name of the algorithm and its performance\n",
    "    print(f\"{algorithm.__class__.__name__} - MSE: {mse}\")\n",
    "    print(f\"{algorithm.__class__.__name__} - R2: {r2}\")\n",
    "    print(\" \") # print an empty line\n"
   ]
  },
  {
   "cell_type": "markdown",
   "metadata": {},
   "source": [
    "Visualization"
   ]
  },
  {
   "cell_type": "code",
   "execution_count": 1072,
   "metadata": {},
   "outputs": [
    {
     "data": {
      "text/plain": [
       "Text(0.5, 0, 'Actual Rides')"
      ]
     },
     "execution_count": 1072,
     "metadata": {},
     "output_type": "execute_result"
    },
    {
     "data": {
      "image/png": "[encoded data removed]",
      "text/plain": [
       "<Figure size 800x600 with 1 Axes>"
      ]
     },
     "metadata": {},
     "output_type": "display_data"
    }
   ],
   "source": [
    "import matplotlib.pyplot as plt\n",
    "import numpy as np\n",
    "\n",
    "\n",
    "plt.figure(figsize=(8,6))\n",
    "plt.scatter(x=y_train, y=y_train_pred,c=\"green\", alpha=0.3)\n",
    "\n",
    "z =np.polyfit(y_train,y_train_pred,1)\n",
    "p=np.poly1d(z)\n",
    "\n",
    "plt.plot(y_train,p(y_train), \"red\")\n",
    "plt.ylabel(\"Predicted Rides\")\n",
    "plt.xlabel(\"Actual Rides\")"
   ]
  },
  {
   "cell_type": "code",
   "execution_count": 1073,
   "metadata": {},
   "outputs": [
    {
     "data": {
      "image/png": "[encoded data removed]",
      "text/plain": [
       "<Figure size 800x600 with 1 Axes>"
      ]
     },
     "metadata": {},
     "output_type": "display_data"
    }
   ],
   "source": [
    "import matplotlib.pyplot as plt\n",
    "import numpy as np\n",
    "\n",
    "# Assuming y_train_pred is your predicted values obtained from the regression model\n",
    "\n",
    "plt.figure(figsize=(8, 6))\n",
    "plt.scatter(x=y_train, y=y_train_pred, c=\"green\", alpha=0.3)\n",
    "plt.plot([y_train.min(), y_train.max()], [y_train.min(), y_train.max()], 'k--', lw=2)  # Plotting the diagonal line\n",
    "\n",
    "plt.title('Actual vs. Predicted Rides')\n",
    "plt.xlabel('Actual Rides')\n",
    "plt.ylabel('Predicted Rides')\n",
    "plt.show()\n"
   ]
  },
  {
   "cell_type": "markdown",
   "metadata": {},
   "source": [
    "## Hourly Ride Prediction "
   ]
  },
  {
   "cell_type": "markdown",
   "metadata": {},
   "source": [
    "Loading Dataset"
   ]
  },
  {
   "cell_type": "code",
   "execution_count": 1074,
   "metadata": {},
   "outputs": [],
   "source": [
    "hourly=pd.read_csv(\"hourly_ml.csv\")"
   ]
  },
  {
   "cell_type": "code",
   "execution_count": 1075,
   "metadata": {},
   "outputs": [
    {
     "data": {
      "text/html": [
       "<div>\n",
       "<style scoped>\n",
       "    .dataframe tbody tr th:only-of-type {\n",
       "        vertical-align: middle;\n",
       "    }\n",
       "\n",
       "    .dataframe tbody tr th {\n",
       "        vertical-align: top;\n",
       "    }\n",
       "\n",
       "    .dataframe thead th {\n",
       "        text-align: right;\n",
       "    }\n",
       "</style>\n",
       "<table border=\"1\" class=\"dataframe\">\n",
       "  <thead>\n",
       "    <tr style=\"text-align: right;\">\n",
       "      <th></th>\n",
       "      <th>Casual</th>\n",
       "      <th>Date</th>\n",
       "      <th>Hour</th>\n",
       "      <th>Registered</th>\n",
       "      <th>Total_rides</th>\n",
       "      <th>Relativehumidity_2m (%)</th>\n",
       "      <th>Temperature_2m (°C)</th>\n",
       "      <th>Weathercode (wmo code)</th>\n",
       "      <th>Windspeed_10m (km/h)</th>\n",
       "      <th>Weather</th>\n",
       "      <th>...</th>\n",
       "      <th>Cloudy Weather</th>\n",
       "      <th>Drizzle Weather</th>\n",
       "      <th>Rainy Weather</th>\n",
       "      <th>Snowy Weather</th>\n",
       "      <th>Season</th>\n",
       "      <th>Weekday</th>\n",
       "      <th>Year</th>\n",
       "      <th>Workingday</th>\n",
       "      <th>Month</th>\n",
       "      <th>Minutes</th>\n",
       "    </tr>\n",
       "  </thead>\n",
       "  <tbody>\n",
       "    <tr>\n",
       "      <th>0</th>\n",
       "      <td>20.0</td>\n",
       "      <td>2021-01-01</td>\n",
       "      <td>0</td>\n",
       "      <td>26.0</td>\n",
       "      <td>46.0</td>\n",
       "      <td>90</td>\n",
       "      <td>2.4</td>\n",
       "      <td>1</td>\n",
       "      <td>10.2</td>\n",
       "      <td>Clear</td>\n",
       "      <td>...</td>\n",
       "      <td>0</td>\n",
       "      <td>0</td>\n",
       "      <td>0</td>\n",
       "      <td>0</td>\n",
       "      <td>Winter</td>\n",
       "      <td>Fri.</td>\n",
       "      <td>2021</td>\n",
       "      <td>Yes</td>\n",
       "      <td>Jan.</td>\n",
       "      <td>0</td>\n",
       "    </tr>\n",
       "    <tr>\n",
       "      <th>1</th>\n",
       "      <td>23.0</td>\n",
       "      <td>2021-01-01</td>\n",
       "      <td>1</td>\n",
       "      <td>23.0</td>\n",
       "      <td>46.0</td>\n",
       "      <td>88</td>\n",
       "      <td>1.8</td>\n",
       "      <td>1</td>\n",
       "      <td>10.0</td>\n",
       "      <td>Clear</td>\n",
       "      <td>...</td>\n",
       "      <td>0</td>\n",
       "      <td>0</td>\n",
       "      <td>0</td>\n",
       "      <td>0</td>\n",
       "      <td>Winter</td>\n",
       "      <td>Fri.</td>\n",
       "      <td>2021</td>\n",
       "      <td>Yes</td>\n",
       "      <td>Jan.</td>\n",
       "      <td>60</td>\n",
       "    </tr>\n",
       "    <tr>\n",
       "      <th>2</th>\n",
       "      <td>20.0</td>\n",
       "      <td>2021-01-01</td>\n",
       "      <td>2</td>\n",
       "      <td>28.0</td>\n",
       "      <td>48.0</td>\n",
       "      <td>87</td>\n",
       "      <td>1.1</td>\n",
       "      <td>2</td>\n",
       "      <td>10.1</td>\n",
       "      <td>Cloudy</td>\n",
       "      <td>...</td>\n",
       "      <td>1</td>\n",
       "      <td>0</td>\n",
       "      <td>0</td>\n",
       "      <td>0</td>\n",
       "      <td>Winter</td>\n",
       "      <td>Fri.</td>\n",
       "      <td>2021</td>\n",
       "      <td>Yes</td>\n",
       "      <td>Jan.</td>\n",
       "      <td>120</td>\n",
       "    </tr>\n",
       "    <tr>\n",
       "      <th>3</th>\n",
       "      <td>9.0</td>\n",
       "      <td>2021-01-01</td>\n",
       "      <td>3</td>\n",
       "      <td>7.0</td>\n",
       "      <td>16.0</td>\n",
       "      <td>81</td>\n",
       "      <td>1.6</td>\n",
       "      <td>2</td>\n",
       "      <td>10.6</td>\n",
       "      <td>Cloudy</td>\n",
       "      <td>...</td>\n",
       "      <td>1</td>\n",
       "      <td>0</td>\n",
       "      <td>0</td>\n",
       "      <td>0</td>\n",
       "      <td>Winter</td>\n",
       "      <td>Fri.</td>\n",
       "      <td>2021</td>\n",
       "      <td>Yes</td>\n",
       "      <td>Jan.</td>\n",
       "      <td>180</td>\n",
       "    </tr>\n",
       "    <tr>\n",
       "      <th>4</th>\n",
       "      <td>7.0</td>\n",
       "      <td>2021-01-01</td>\n",
       "      <td>4</td>\n",
       "      <td>5.0</td>\n",
       "      <td>12.0</td>\n",
       "      <td>77</td>\n",
       "      <td>1.6</td>\n",
       "      <td>2</td>\n",
       "      <td>9.9</td>\n",
       "      <td>Cloudy</td>\n",
       "      <td>...</td>\n",
       "      <td>1</td>\n",
       "      <td>0</td>\n",
       "      <td>0</td>\n",
       "      <td>0</td>\n",
       "      <td>Winter</td>\n",
       "      <td>Fri.</td>\n",
       "      <td>2021</td>\n",
       "      <td>Yes</td>\n",
       "      <td>Jan.</td>\n",
       "      <td>240</td>\n",
       "    </tr>\n",
       "  </tbody>\n",
       "</table>\n",
       "<p>5 rows × 21 columns</p>\n",
       "</div>"
      ],
      "text/plain": [
       "   Casual        Date  Hour  Registered  Total_rides  Relativehumidity_2m (%)  \\\n",
       "0    20.0  2021-01-01     0        26.0         46.0                       90   \n",
       "1    23.0  2021-01-01     1        23.0         46.0                       88   \n",
       "2    20.0  2021-01-01     2        28.0         48.0                       87   \n",
       "3     9.0  2021-01-01     3         7.0         16.0                       81   \n",
       "4     7.0  2021-01-01     4         5.0         12.0                       77   \n",
       "\n",
       "   Temperature_2m (°C)  Weathercode (wmo code)  Windspeed_10m (km/h) Weather  \\\n",
       "0                  2.4                       1                  10.2   Clear   \n",
       "1                  1.8                       1                  10.0   Clear   \n",
       "2                  1.1                       2                  10.1  Cloudy   \n",
       "3                  1.6                       2                  10.6  Cloudy   \n",
       "4                  1.6                       2                   9.9  Cloudy   \n",
       "\n",
       "   ...  Cloudy Weather  Drizzle Weather  Rainy Weather  Snowy Weather  Season  \\\n",
       "0  ...               0                0              0              0  Winter   \n",
       "1  ...               0                0              0              0  Winter   \n",
       "2  ...               1                0              0              0  Winter   \n",
       "3  ...               1                0              0              0  Winter   \n",
       "4  ...               1                0              0              0  Winter   \n",
       "\n",
       "  Weekday  Year  Workingday Month Minutes  \n",
       "0    Fri.  2021         Yes  Jan.       0  \n",
       "1    Fri.  2021         Yes  Jan.      60  \n",
       "2    Fri.  2021         Yes  Jan.     120  \n",
       "3    Fri.  2021         Yes  Jan.     180  \n",
       "4    Fri.  2021         Yes  Jan.     240  \n",
       "\n",
       "[5 rows x 21 columns]"
      ]
     },
     "execution_count": 1075,
     "metadata": {},
     "output_type": "execute_result"
    }
   ],
   "source": [
    "hourly.head()"
   ]
  },
  {
   "cell_type": "code",
   "execution_count": 1076,
   "metadata": {},
   "outputs": [
    {
     "name": "stdout",
     "output_type": "stream",
     "text": [
      "<class 'pandas.core.frame.DataFrame'>\n",
      "RangeIndex: 26269 entries, 0 to 26268\n",
      "Data columns (total 21 columns):\n",
      " #   Column                   Non-Null Count  Dtype  \n",
      "---  ------                   --------------  -----  \n",
      " 0   Casual                   26269 non-null  float64\n",
      " 1   Date                     26269 non-null  object \n",
      " 2   Hour                     26269 non-null  int64  \n",
      " 3   Registered               26269 non-null  float64\n",
      " 4   Total_rides              26269 non-null  float64\n",
      " 5   Relativehumidity_2m (%)  26269 non-null  int64  \n",
      " 6   Temperature_2m (°C)      26269 non-null  float64\n",
      " 7   Weathercode (wmo code)   26269 non-null  int64  \n",
      " 8   Windspeed_10m (km/h)     26269 non-null  float64\n",
      " 9   Weather                  26269 non-null  object \n",
      " 10  Clear Weather            26269 non-null  int64  \n",
      " 11  Cloudy Weather           26269 non-null  int64  \n",
      " 12  Drizzle Weather          26269 non-null  int64  \n",
      " 13  Rainy Weather            26269 non-null  int64  \n",
      " 14  Snowy Weather            26269 non-null  int64  \n",
      " 15  Season                   26269 non-null  object \n",
      " 16  Weekday                  26269 non-null  object \n",
      " 17  Year                     26269 non-null  int64  \n",
      " 18  Workingday               26269 non-null  object \n",
      " 19  Month                    26269 non-null  object \n",
      " 20  Minutes                  26269 non-null  int64  \n",
      "dtypes: float64(5), int64(10), object(6)\n",
      "memory usage: 4.2+ MB\n"
     ]
    }
   ],
   "source": [
    "hourly.info()"
   ]
  },
  {
   "cell_type": "code",
   "execution_count": 1077,
   "metadata": {},
   "outputs": [
    {
     "data": {
      "text/plain": [
       "Casual                     0\n",
       "Date                       0\n",
       "Hour                       0\n",
       "Registered                 0\n",
       "Total_rides                0\n",
       "Relativehumidity_2m (%)    0\n",
       "Temperature_2m (°C)        0\n",
       "Weathercode (wmo code)     0\n",
       "Windspeed_10m (km/h)       0\n",
       "Weather                    0\n",
       "Clear Weather              0\n",
       "Cloudy Weather             0\n",
       "Drizzle Weather            0\n",
       "Rainy Weather              0\n",
       "Snowy Weather              0\n",
       "Season                     0\n",
       "Weekday                    0\n",
       "Year                       0\n",
       "Workingday                 0\n",
       "Month                      0\n",
       "Minutes                    0\n",
       "dtype: int64"
      ]
     },
     "execution_count": 1077,
     "metadata": {},
     "output_type": "execute_result"
    }
   ],
   "source": [
    "hourly.isnull().sum()"
   ]
  },
  {
   "cell_type": "code",
   "execution_count": 1078,
   "metadata": {},
   "outputs": [
    {
     "data": {
      "text/html": [
       "<div>\n",
       "<style scoped>\n",
       "    .dataframe tbody tr th:only-of-type {\n",
       "        vertical-align: middle;\n",
       "    }\n",
       "\n",
       "    .dataframe tbody tr th {\n",
       "        vertical-align: top;\n",
       "    }\n",
       "\n",
       "    .dataframe thead th {\n",
       "        text-align: right;\n",
       "    }\n",
       "</style>\n",
       "<table border=\"1\" class=\"dataframe\">\n",
       "  <thead>\n",
       "    <tr style=\"text-align: right;\">\n",
       "      <th></th>\n",
       "      <th>count</th>\n",
       "      <th>mean</th>\n",
       "      <th>std</th>\n",
       "      <th>min</th>\n",
       "      <th>25%</th>\n",
       "      <th>50%</th>\n",
       "      <th>75%</th>\n",
       "      <th>max</th>\n",
       "    </tr>\n",
       "  </thead>\n",
       "  <tbody>\n",
       "    <tr>\n",
       "      <th>Casual</th>\n",
       "      <td>26269.0</td>\n",
       "      <td>159.930070</td>\n",
       "      <td>167.330426</td>\n",
       "      <td>0.0</td>\n",
       "      <td>28.0</td>\n",
       "      <td>105.0</td>\n",
       "      <td>237.0</td>\n",
       "      <td>1206.0</td>\n",
       "    </tr>\n",
       "    <tr>\n",
       "      <th>Hour</th>\n",
       "      <td>26269.0</td>\n",
       "      <td>11.503864</td>\n",
       "      <td>6.921180</td>\n",
       "      <td>0.0</td>\n",
       "      <td>6.0</td>\n",
       "      <td>12.0</td>\n",
       "      <td>18.0</td>\n",
       "      <td>23.0</td>\n",
       "    </tr>\n",
       "    <tr>\n",
       "      <th>Registered</th>\n",
       "      <td>26269.0</td>\n",
       "      <td>247.165632</td>\n",
       "      <td>225.283539</td>\n",
       "      <td>0.0</td>\n",
       "      <td>55.0</td>\n",
       "      <td>203.0</td>\n",
       "      <td>371.0</td>\n",
       "      <td>1534.0</td>\n",
       "    </tr>\n",
       "    <tr>\n",
       "      <th>Total_rides</th>\n",
       "      <td>26269.0</td>\n",
       "      <td>407.095702</td>\n",
       "      <td>373.005409</td>\n",
       "      <td>1.0</td>\n",
       "      <td>85.0</td>\n",
       "      <td>319.0</td>\n",
       "      <td>616.0</td>\n",
       "      <td>2262.0</td>\n",
       "    </tr>\n",
       "    <tr>\n",
       "      <th>Relativehumidity_2m (%)</th>\n",
       "      <td>26269.0</td>\n",
       "      <td>62.962846</td>\n",
       "      <td>22.726160</td>\n",
       "      <td>5.0</td>\n",
       "      <td>46.0</td>\n",
       "      <td>64.0</td>\n",
       "      <td>82.0</td>\n",
       "      <td>100.0</td>\n",
       "    </tr>\n",
       "    <tr>\n",
       "      <th>Temperature_2m (°C)</th>\n",
       "      <td>26269.0</td>\n",
       "      <td>14.419590</td>\n",
       "      <td>10.282328</td>\n",
       "      <td>-14.6</td>\n",
       "      <td>6.2</td>\n",
       "      <td>14.8</td>\n",
       "      <td>22.7</td>\n",
       "      <td>41.5</td>\n",
       "    </tr>\n",
       "    <tr>\n",
       "      <th>Weathercode (wmo code)</th>\n",
       "      <td>26269.0</td>\n",
       "      <td>7.223838</td>\n",
       "      <td>17.623401</td>\n",
       "      <td>0.0</td>\n",
       "      <td>0.0</td>\n",
       "      <td>1.0</td>\n",
       "      <td>2.0</td>\n",
       "      <td>75.0</td>\n",
       "    </tr>\n",
       "    <tr>\n",
       "      <th>Windspeed_10m (km/h)</th>\n",
       "      <td>26269.0</td>\n",
       "      <td>10.170330</td>\n",
       "      <td>5.260753</td>\n",
       "      <td>0.0</td>\n",
       "      <td>6.5</td>\n",
       "      <td>9.2</td>\n",
       "      <td>12.9</td>\n",
       "      <td>40.1</td>\n",
       "    </tr>\n",
       "    <tr>\n",
       "      <th>Clear Weather</th>\n",
       "      <td>26269.0</td>\n",
       "      <td>0.841638</td>\n",
       "      <td>0.365087</td>\n",
       "      <td>0.0</td>\n",
       "      <td>1.0</td>\n",
       "      <td>1.0</td>\n",
       "      <td>1.0</td>\n",
       "      <td>1.0</td>\n",
       "    </tr>\n",
       "    <tr>\n",
       "      <th>Cloudy Weather</th>\n",
       "      <td>26269.0</td>\n",
       "      <td>0.095436</td>\n",
       "      <td>0.293821</td>\n",
       "      <td>0.0</td>\n",
       "      <td>0.0</td>\n",
       "      <td>0.0</td>\n",
       "      <td>0.0</td>\n",
       "      <td>1.0</td>\n",
       "    </tr>\n",
       "    <tr>\n",
       "      <th>Drizzle Weather</th>\n",
       "      <td>26269.0</td>\n",
       "      <td>0.045529</td>\n",
       "      <td>0.208465</td>\n",
       "      <td>0.0</td>\n",
       "      <td>0.0</td>\n",
       "      <td>0.0</td>\n",
       "      <td>0.0</td>\n",
       "      <td>1.0</td>\n",
       "    </tr>\n",
       "    <tr>\n",
       "      <th>Rainy Weather</th>\n",
       "      <td>26269.0</td>\n",
       "      <td>0.012905</td>\n",
       "      <td>0.112867</td>\n",
       "      <td>0.0</td>\n",
       "      <td>0.0</td>\n",
       "      <td>0.0</td>\n",
       "      <td>0.0</td>\n",
       "      <td>1.0</td>\n",
       "    </tr>\n",
       "    <tr>\n",
       "      <th>Snowy Weather</th>\n",
       "      <td>26269.0</td>\n",
       "      <td>0.004492</td>\n",
       "      <td>0.066873</td>\n",
       "      <td>0.0</td>\n",
       "      <td>0.0</td>\n",
       "      <td>0.0</td>\n",
       "      <td>0.0</td>\n",
       "      <td>1.0</td>\n",
       "    </tr>\n",
       "    <tr>\n",
       "      <th>Year</th>\n",
       "      <td>26269.0</td>\n",
       "      <td>2022.000266</td>\n",
       "      <td>0.816473</td>\n",
       "      <td>2021.0</td>\n",
       "      <td>2021.0</td>\n",
       "      <td>2022.0</td>\n",
       "      <td>2023.0</td>\n",
       "      <td>2023.0</td>\n",
       "    </tr>\n",
       "    <tr>\n",
       "      <th>Minutes</th>\n",
       "      <td>26269.0</td>\n",
       "      <td>690.231832</td>\n",
       "      <td>415.270780</td>\n",
       "      <td>0.0</td>\n",
       "      <td>360.0</td>\n",
       "      <td>720.0</td>\n",
       "      <td>1080.0</td>\n",
       "      <td>1380.0</td>\n",
       "    </tr>\n",
       "  </tbody>\n",
       "</table>\n",
       "</div>"
      ],
      "text/plain": [
       "                           count         mean         std     min     25%  \\\n",
       "Casual                   26269.0   159.930070  167.330426     0.0    28.0   \n",
       "Hour                     26269.0    11.503864    6.921180     0.0     6.0   \n",
       "Registered               26269.0   247.165632  225.283539     0.0    55.0   \n",
       "Total_rides              26269.0   407.095702  373.005409     1.0    85.0   \n",
       "Relativehumidity_2m (%)  26269.0    62.962846   22.726160     5.0    46.0   \n",
       "Temperature_2m (°C)      26269.0    14.419590   10.282328   -14.6     6.2   \n",
       "Weathercode (wmo code)   26269.0     7.223838   17.623401     0.0     0.0   \n",
       "Windspeed_10m (km/h)     26269.0    10.170330    5.260753     0.0     6.5   \n",
       "Clear Weather            26269.0     0.841638    0.365087     0.0     1.0   \n",
       "Cloudy Weather           26269.0     0.095436    0.293821     0.0     0.0   \n",
       "Drizzle Weather          26269.0     0.045529    0.208465     0.0     0.0   \n",
       "Rainy Weather            26269.0     0.012905    0.112867     0.0     0.0   \n",
       "Snowy Weather            26269.0     0.004492    0.066873     0.0     0.0   \n",
       "Year                     26269.0  2022.000266    0.816473  2021.0  2021.0   \n",
       "Minutes                  26269.0   690.231832  415.270780     0.0   360.0   \n",
       "\n",
       "                            50%     75%     max  \n",
       "Casual                    105.0   237.0  1206.0  \n",
       "Hour                       12.0    18.0    23.0  \n",
       "Registered                203.0   371.0  1534.0  \n",
       "Total_rides               319.0   616.0  2262.0  \n",
       "Relativehumidity_2m (%)    64.0    82.0   100.0  \n",
       "Temperature_2m (°C)        14.8    22.7    41.5  \n",
       "Weathercode (wmo code)      1.0     2.0    75.0  \n",
       "Windspeed_10m (km/h)        9.2    12.9    40.1  \n",
       "Clear Weather               1.0     1.0     1.0  \n",
       "Cloudy Weather              0.0     0.0     1.0  \n",
       "Drizzle Weather             0.0     0.0     1.0  \n",
       "Rainy Weather               0.0     0.0     1.0  \n",
       "Snowy Weather               0.0     0.0     1.0  \n",
       "Year                     2022.0  2023.0  2023.0  \n",
       "Minutes                   720.0  1080.0  1380.0  "
      ]
     },
     "execution_count": 1078,
     "metadata": {},
     "output_type": "execute_result"
    }
   ],
   "source": [
    "hourly.describe().T"
   ]
  },
  {
   "cell_type": "markdown",
   "metadata": {},
   "source": [
    "Preprocessing"
   ]
  },
  {
   "cell_type": "code",
   "execution_count": 1079,
   "metadata": {},
   "outputs": [],
   "source": [
    "#Dropping some irielevant columns\n",
    "\n",
    "columns_to_drop_2 = [\"Casual\", \"Date\", \"Registered\", \"Weather\",\"Weathercode (wmo code)\", \"Clear Weather\", \"Cloudy Weather\", \"Drizzle Weather\", \"Rainy Weather\", \"Snowy Weather\", \"Year\", \"Workingday\", \"Month\", \"Minutes\", \"Season\"]\n",
    "hourly.drop(columns_to_drop_2, axis=1, inplace=True)"
   ]
  },
  {
   "cell_type": "code",
   "execution_count": 1080,
   "metadata": {},
   "outputs": [
    {
     "data": {
      "text/html": [
       "<div>\n",
       "<style scoped>\n",
       "    .dataframe tbody tr th:only-of-type {\n",
       "        vertical-align: middle;\n",
       "    }\n",
       "\n",
       "    .dataframe tbody tr th {\n",
       "        vertical-align: top;\n",
       "    }\n",
       "\n",
       "    .dataframe thead th {\n",
       "        text-align: right;\n",
       "    }\n",
       "</style>\n",
       "<table border=\"1\" class=\"dataframe\">\n",
       "  <thead>\n",
       "    <tr style=\"text-align: right;\">\n",
       "      <th></th>\n",
       "      <th>Hour</th>\n",
       "      <th>Total_rides</th>\n",
       "      <th>Relativehumidity_2m (%)</th>\n",
       "      <th>Temperature_2m (°C)</th>\n",
       "      <th>Windspeed_10m (km/h)</th>\n",
       "      <th>Weekday</th>\n",
       "    </tr>\n",
       "  </thead>\n",
       "  <tbody>\n",
       "    <tr>\n",
       "      <th>0</th>\n",
       "      <td>0</td>\n",
       "      <td>46.0</td>\n",
       "      <td>90</td>\n",
       "      <td>2.4</td>\n",
       "      <td>10.2</td>\n",
       "      <td>Fri.</td>\n",
       "    </tr>\n",
       "    <tr>\n",
       "      <th>1</th>\n",
       "      <td>1</td>\n",
       "      <td>46.0</td>\n",
       "      <td>88</td>\n",
       "      <td>1.8</td>\n",
       "      <td>10.0</td>\n",
       "      <td>Fri.</td>\n",
       "    </tr>\n",
       "    <tr>\n",
       "      <th>2</th>\n",
       "      <td>2</td>\n",
       "      <td>48.0</td>\n",
       "      <td>87</td>\n",
       "      <td>1.1</td>\n",
       "      <td>10.1</td>\n",
       "      <td>Fri.</td>\n",
       "    </tr>\n",
       "    <tr>\n",
       "      <th>3</th>\n",
       "      <td>3</td>\n",
       "      <td>16.0</td>\n",
       "      <td>81</td>\n",
       "      <td>1.6</td>\n",
       "      <td>10.6</td>\n",
       "      <td>Fri.</td>\n",
       "    </tr>\n",
       "    <tr>\n",
       "      <th>4</th>\n",
       "      <td>4</td>\n",
       "      <td>12.0</td>\n",
       "      <td>77</td>\n",
       "      <td>1.6</td>\n",
       "      <td>9.9</td>\n",
       "      <td>Fri.</td>\n",
       "    </tr>\n",
       "  </tbody>\n",
       "</table>\n",
       "</div>"
      ],
      "text/plain": [
       "   Hour  Total_rides  Relativehumidity_2m (%)  Temperature_2m (°C)  \\\n",
       "0     0         46.0                       90                  2.4   \n",
       "1     1         46.0                       88                  1.8   \n",
       "2     2         48.0                       87                  1.1   \n",
       "3     3         16.0                       81                  1.6   \n",
       "4     4         12.0                       77                  1.6   \n",
       "\n",
       "   Windspeed_10m (km/h) Weekday  \n",
       "0                  10.2    Fri.  \n",
       "1                  10.0    Fri.  \n",
       "2                  10.1    Fri.  \n",
       "3                  10.6    Fri.  \n",
       "4                   9.9    Fri.  "
      ]
     },
     "execution_count": 1080,
     "metadata": {},
     "output_type": "execute_result"
    }
   ],
   "source": [
    "hourly.head()"
   ]
  },
  {
   "cell_type": "code",
   "execution_count": 1084,
   "metadata": {},
   "outputs": [
    {
     "data": {
      "text/plain": [
       "(26269, 6)"
      ]
     },
     "execution_count": 1084,
     "metadata": {},
     "output_type": "execute_result"
    }
   ],
   "source": [
    "hourly.shape"
   ]
  },
  {
   "cell_type": "markdown",
   "metadata": {},
   "source": [
    "Encoding"
   ]
  },
  {
   "cell_type": "code",
   "execution_count": 1085,
   "metadata": {},
   "outputs": [
    {
     "data": {
      "text/html": [
       "<div>\n",
       "<style scoped>\n",
       "    .dataframe tbody tr th:only-of-type {\n",
       "        vertical-align: middle;\n",
       "    }\n",
       "\n",
       "    .dataframe tbody tr th {\n",
       "        vertical-align: top;\n",
       "    }\n",
       "\n",
       "    .dataframe thead th {\n",
       "        text-align: right;\n",
       "    }\n",
       "</style>\n",
       "<table border=\"1\" class=\"dataframe\">\n",
       "  <thead>\n",
       "    <tr style=\"text-align: right;\">\n",
       "      <th></th>\n",
       "      <th>Hour</th>\n",
       "      <th>Total_rides</th>\n",
       "      <th>Relativehumidity_2m (%)</th>\n",
       "      <th>Temperature_2m (°C)</th>\n",
       "      <th>Windspeed_10m (km/h)</th>\n",
       "      <th>Weekday_Fri.</th>\n",
       "      <th>Weekday_Mon.</th>\n",
       "      <th>Weekday_Sat.</th>\n",
       "      <th>Weekday_Sun.</th>\n",
       "      <th>Weekday_Thur.</th>\n",
       "      <th>Weekday_Tue.</th>\n",
       "      <th>Weekday_Wed.</th>\n",
       "    </tr>\n",
       "  </thead>\n",
       "  <tbody>\n",
       "    <tr>\n",
       "      <th>0</th>\n",
       "      <td>0</td>\n",
       "      <td>46.0</td>\n",
       "      <td>90</td>\n",
       "      <td>2.4</td>\n",
       "      <td>10.2</td>\n",
       "      <td>True</td>\n",
       "      <td>False</td>\n",
       "      <td>False</td>\n",
       "      <td>False</td>\n",
       "      <td>False</td>\n",
       "      <td>False</td>\n",
       "      <td>False</td>\n",
       "    </tr>\n",
       "    <tr>\n",
       "      <th>1</th>\n",
       "      <td>1</td>\n",
       "      <td>46.0</td>\n",
       "      <td>88</td>\n",
       "      <td>1.8</td>\n",
       "      <td>10.0</td>\n",
       "      <td>True</td>\n",
       "      <td>False</td>\n",
       "      <td>False</td>\n",
       "      <td>False</td>\n",
       "      <td>False</td>\n",
       "      <td>False</td>\n",
       "      <td>False</td>\n",
       "    </tr>\n",
       "  </tbody>\n",
       "</table>\n",
       "</div>"
      ],
      "text/plain": [
       "   Hour  Total_rides  Relativehumidity_2m (%)  Temperature_2m (°C)  \\\n",
       "0     0         46.0                       90                  2.4   \n",
       "1     1         46.0                       88                  1.8   \n",
       "\n",
       "   Windspeed_10m (km/h)  Weekday_Fri.  Weekday_Mon.  Weekday_Sat.  \\\n",
       "0                  10.2          True         False         False   \n",
       "1                  10.0          True         False         False   \n",
       "\n",
       "   Weekday_Sun.  Weekday_Thur.  Weekday_Tue.  Weekday_Wed.  \n",
       "0         False          False         False         False  \n",
       "1         False          False         False         False  "
      ]
     },
     "execution_count": 1085,
     "metadata": {},
     "output_type": "execute_result"
    }
   ],
   "source": [
    "# Define columns to encode\n",
    "columns_to_encode_2 = [\"Weekday\"]\n",
    "\n",
    "# Use get_dummies() to encode these columns\n",
    "encoded_hourly = pd.get_dummies(hourly, columns=columns_to_encode_2)\n",
    "\n",
    "# Display the encoded DataFrame\n",
    "encoded_hourly.head(2)\n"
   ]
  },
  {
   "cell_type": "code",
   "execution_count": null,
   "metadata": {},
   "outputs": [],
   "source": [
    "# Convert boolean encoded data to integer format\n",
    "encoded_hourly_int = encoded_hourly.astype(int)\n"
   ]
  },
  {
   "cell_type": "markdown",
   "metadata": {},
   "source": [
    "Data Seperation as X and y"
   ]
  },
  {
   "cell_type": "code",
   "execution_count": 1088,
   "metadata": {},
   "outputs": [
    {
     "data": {
      "text/plain": [
       "(26269,)"
      ]
     },
     "execution_count": 1088,
     "metadata": {},
     "output_type": "execute_result"
    }
   ],
   "source": [
    "#dependent variable\n",
    "y=encoded_hourly_int[\"Total_rides\"]\n",
    "y.shape"
   ]
  },
  {
   "cell_type": "code",
   "execution_count": 1089,
   "metadata": {},
   "outputs": [
    {
     "data": {
      "text/plain": [
       "(26269, 11)"
      ]
     },
     "execution_count": 1089,
     "metadata": {},
     "output_type": "execute_result"
    }
   ],
   "source": [
    "# independent varibable\n",
    "X=encoded_hourly_int.drop(\"Total_rides\", axis=1)\n",
    "X.shape"
   ]
  },
  {
   "cell_type": "markdown",
   "metadata": {},
   "source": [
    "Data Splitting"
   ]
  },
  {
   "cell_type": "code",
   "execution_count": 1090,
   "metadata": {},
   "outputs": [],
   "source": [
    "X_train, X_test,y_train, y_test = train_test_split(X, y, test_size=0.2, random_state=42)"
   ]
  },
  {
   "cell_type": "markdown",
   "metadata": {},
   "source": [
    "Scaling"
   ]
  },
  {
   "cell_type": "code",
   "execution_count": 1091,
   "metadata": {},
   "outputs": [],
   "source": [
    "# Initialize the scaler\n",
    "scaler = StandardScaler()\n",
    "\n",
    "# Fit the scaler on the training data and transform both training and testing data\n",
    "X_train_scaled = scaler.fit_transform(X_train)\n",
    "X_test_scaled = scaler.transform(X_test)"
   ]
  },
  {
   "cell_type": "markdown",
   "metadata": {},
   "source": [
    "Model Building"
   ]
  },
  {
   "cell_type": "code",
   "execution_count": 1092,
   "metadata": {},
   "outputs": [
    {
     "data": {
      "text/html": [
       "<style>#sk-container-id-43 {color: black;}#sk-container-id-43 pre{padding: 0;}#sk-container-id-43 div.sk-toggleable {background-color: white;}#sk-container-id-43 label.sk-toggleable__label {cursor: pointer;display: block;width: 100%;margin-bottom: 0;padding: 0.3em;box-sizing: border-box;text-align: center;}#sk-container-id-43 label.sk-toggleable__label-arrow:before {content: \"▸\";float: left;margin-right: 0.25em;color: #696969;}#sk-container-id-43 label.sk-toggleable__label-arrow:hover:before {color: black;}#sk-container-id-43 div.sk-estimator:hover label.sk-toggleable__label-arrow:before {color: black;}#sk-container-id-43 div.sk-toggleable__content {max-height: 0;max-width: 0;overflow: hidden;text-align: left;background-color: #f0f8ff;}#sk-container-id-43 div.sk-toggleable__content pre {margin: 0.2em;color: black;border-radius: 0.25em;background-color: #f0f8ff;}#sk-container-id-43 input.sk-toggleable__control:checked~div.sk-toggleable__content {max-height: 200px;max-width: 100%;overflow: auto;}#sk-container-id-43 input.sk-toggleable__control:checked~label.sk-toggleable__label-arrow:before {content: \"▾\";}#sk-container-id-43 div.sk-estimator input.sk-toggleable__control:checked~label.sk-toggleable__label {background-color: #d4ebff;}#sk-container-id-43 div.sk-label input.sk-toggleable__control:checked~label.sk-toggleable__label {background-color: #d4ebff;}#sk-container-id-43 input.sk-hidden--visually {border: 0;clip: rect(1px 1px 1px 1px);clip: rect(1px, 1px, 1px, 1px);height: 1px;margin: -1px;overflow: hidden;padding: 0;position: absolute;width: 1px;}#sk-container-id-43 div.sk-estimator {font-family: monospace;background-color: #f0f8ff;border: 1px dotted black;border-radius: 0.25em;box-sizing: border-box;margin-bottom: 0.5em;}#sk-container-id-43 div.sk-estimator:hover {background-color: #d4ebff;}#sk-container-id-43 div.sk-parallel-item::after {content: \"\";width: 100%;border-bottom: 1px solid gray;flex-grow: 1;}#sk-container-id-43 div.sk-label:hover label.sk-toggleable__label {background-color: #d4ebff;}#sk-container-id-43 div.sk-serial::before {content: \"\";position: absolute;border-left: 1px solid gray;box-sizing: border-box;top: 0;bottom: 0;left: 50%;z-index: 0;}#sk-container-id-43 div.sk-serial {display: flex;flex-direction: column;align-items: center;background-color: white;padding-right: 0.2em;padding-left: 0.2em;position: relative;}#sk-container-id-43 div.sk-item {position: relative;z-index: 1;}#sk-container-id-43 div.sk-parallel {display: flex;align-items: stretch;justify-content: center;background-color: white;position: relative;}#sk-container-id-43 div.sk-item::before, #sk-container-id-43 div.sk-parallel-item::before {content: \"\";position: absolute;border-left: 1px solid gray;box-sizing: border-box;top: 0;bottom: 0;left: 50%;z-index: -1;}#sk-container-id-43 div.sk-parallel-item {display: flex;flex-direction: column;z-index: 1;position: relative;background-color: white;}#sk-container-id-43 div.sk-parallel-item:first-child::after {align-self: flex-end;width: 50%;}#sk-container-id-43 div.sk-parallel-item:last-child::after {align-self: flex-start;width: 50%;}#sk-container-id-43 div.sk-parallel-item:only-child::after {width: 0;}#sk-container-id-43 div.sk-dashed-wrapped {border: 1px dashed gray;margin: 0 0.4em 0.5em 0.4em;box-sizing: border-box;padding-bottom: 0.4em;background-color: white;}#sk-container-id-43 div.sk-label label {font-family: monospace;font-weight: bold;display: inline-block;line-height: 1.2em;}#sk-container-id-43 div.sk-label-container {text-align: center;}#sk-container-id-43 div.sk-container {/* jupyter's `normalize.less` sets `[hidden] { display: none; }` but bootstrap.min.css set `[hidden] { display: none !important; }` so we also need the `!important` here to be able to override the default hidden behavior on the sphinx rendered scikit-learn.org. See: https://github.com/scikit-learn/scikit-learn/issues/21755 */display: inline-block !important;position: relative;}#sk-container-id-43 div.sk-text-repr-fallback {display: none;}</style><div id=\"sk-container-id-43\" class=\"sk-top-container\"><div class=\"sk-text-repr-fallback\"><pre>LinearRegression()</pre><b>In a Jupyter environment, please rerun this cell to show the HTML representation or trust the notebook. <br />On GitHub, the HTML representation is unable to render, please try loading this page with nbviewer.org.</b></div><div class=\"sk-container\" hidden><div class=\"sk-item\"><div class=\"sk-estimator sk-toggleable\"><input class=\"sk-toggleable__control sk-hidden--visually\" id=\"sk-estimator-id-43\" type=\"checkbox\" checked><label for=\"sk-estimator-id-43\" class=\"sk-toggleable__label sk-toggleable__label-arrow\">LinearRegression</label><div class=\"sk-toggleable__content\"><pre>LinearRegression()</pre></div></div></div></div></div>"
      ],
      "text/plain": [
       "LinearRegression()"
      ]
     },
     "execution_count": 1092,
     "metadata": {},
     "output_type": "execute_result"
    }
   ],
   "source": [
    "lr=LinearRegression()\n",
    "lr.fit(X_train_scaled,y_train)"
   ]
  },
  {
   "cell_type": "markdown",
   "metadata": {},
   "source": [
    "Applying the model to make prediction"
   ]
  },
  {
   "cell_type": "code",
   "execution_count": 1093,
   "metadata": {},
   "outputs": [],
   "source": [
    "y_pred = lr.predict(X_test_scaled)\n",
    "y_train_pred=lr.predict(X_train_scaled)"
   ]
  },
  {
   "cell_type": "code",
   "execution_count": 1094,
   "metadata": {},
   "outputs": [
    {
     "data": {
      "text/plain": [
       "array([665.74515529, 422.44303498, 664.42210076, ..., 240.87706849,\n",
       "       864.64537129, 199.54981347])"
      ]
     },
     "execution_count": 1094,
     "metadata": {},
     "output_type": "execute_result"
    }
   ],
   "source": [
    "y_pred"
   ]
  },
  {
   "cell_type": "markdown",
   "metadata": {},
   "source": [
    "Model Evaluation"
   ]
  },
  {
   "cell_type": "markdown",
   "metadata": {},
   "source": [
    "Linear regression"
   ]
  },
  {
   "cell_type": "code",
   "execution_count": 1095,
   "metadata": {},
   "outputs": [],
   "source": [
    "# Evaluate the model\n",
    "mse = mean_squared_error(y_test, y_pred)\n",
    "lr_test_r2=r2_score(y_test,y_pred)\n",
    "print(mse)\n",
    "print(lr_test_r2)"
   ]
  },
  {
   "cell_type": "markdown",
   "metadata": {},
   "source": [
    "Polynomial regression "
   ]
  },
  {
   "cell_type": "code",
   "execution_count": 1099,
   "metadata": {},
   "outputs": [
    {
     "name": "stdout",
     "output_type": "stream",
     "text": [
      "Training Set - Mean Squared Error: 48424.08150646218\n",
      "Training Set - R2 Score: 0.6523806446772568\n",
      "Test Set - Mean Squared Error: 45585.76115849677\n",
      "Test Set - R2 Score: 0.6706903300196405\n"
     ]
    }
   ],
   "source": [
    "\n",
    "from sklearn.preprocessing import PolynomialFeatures\n",
    "\n",
    "# Polynomial features transformation\n",
    "poly_features = PolynomialFeatures(degree=3, include_bias=False)\n",
    "X_train_poly = poly_features.fit_transform(X_train)\n",
    "\n",
    "# Train polynomial regression model\n",
    "poly_reg = LinearRegression()\n",
    "poly_reg.fit(X_train_poly, y_train)\n",
    "\n",
    "# Make predictions on the training data\n",
    "y_train_predicted = poly_reg.predict(X_train_poly)\n",
    "\n",
    "# Evaluate model performance on training data\n",
    "mse_train = mean_squared_error(y_train, y_train_predicted)\n",
    "r2_train = r2_score(y_train, y_train_predicted)\n",
    "print(\"Training Set - Mean Squared Error:\", mse_train)\n",
    "print(\"Training Set - R2 Score:\", r2_train)\n",
    "\n",
    "# Visualize the polynomial regression model\n",
    "#plt.scatter(X_train, y_train, color='blue', label='Training data')\n",
    "#plt.plot(X_train, y_train_predicted, color='red', label='Polynomial regression')\n",
    "#plt.title('Polynomial Regression')\n",
    "#plt.xlabel('X')\n",
    "#plt.ylabel('y')\n",
    "#plt.legend()\n",
    "#plt.show()\n",
    "\n",
    "# Evaluate the model on test data\n",
    "X_test_poly = poly_features.transform(X_test)\n",
    "y_test_predicted = poly_reg.predict(X_test_poly)\n",
    "\n",
    "# Evaluate model performance on test data\n",
    "mse_test = mean_squared_error(y_test, y_test_predicted)\n",
    "r2_test = r2_score(y_test, y_test_predicted)\n",
    "print(\"Test Set - Mean Squared Error:\", mse_test)\n",
    "print(\"Test Set - R2 Score:\", r2_test)"
   ]
  },
  {
   "cell_type": "markdown",
   "metadata": {},
   "source": [
    "Other Algorithms"
   ]
  },
  {
   "cell_type": "code",
   "execution_count": 1100,
   "metadata": {},
   "outputs": [
    {
     "name": "stdout",
     "output_type": "stream",
     "text": [
      "LinearRegression - MSE: 86791.52217780512\n",
      "LinearRegression - R2: 0.3730216015020129\n",
      " \n",
      "Ridge - MSE: 86791.45025926\n",
      "Ridge - R2: 0.37302212103863475\n",
      " \n",
      "Lasso - MSE: 86704.13792924387\n",
      "Lasso - R2: 0.37365286173160817\n",
      " \n"
     ]
    },
    {
     "name": "stdout",
     "output_type": "stream",
     "text": [
      "RandomForestRegressor - MSE: 23649.741745550742\n",
      "RandomForestRegressor - R2: 0.8291552350684745\n",
      " \n",
      "GradientBoostingRegressor - MSE: 32874.88288032651\n",
      "GradientBoostingRegressor - R2: 0.7625131936632055\n",
      " \n"
     ]
    }
   ],
   "source": [
    "from sklearn.linear_model import LinearRegression, Ridge, Lasso\n",
    "from sklearn.ensemble import RandomForestRegressor, GradientBoostingRegressor\n",
    "from sklearn.metrics import mean_squared_error\n",
    "\n",
    "\n",
    "# Split the data into training and testing sets\n",
    "X_train, X_test, y_train, y_test = train_test_split(X,y, test_size=0.2, random_state=42)\n",
    "\n",
    "# Define a list of regression algorithms\n",
    "algorithms = [\n",
    "    LinearRegression(),\n",
    "    Ridge(),\n",
    "    Lasso(),\n",
    "    RandomForestRegressor(),\n",
    "    GradientBoostingRegressor()\n",
    "]\n",
    "\n",
    "# Iterate over each algorithm, train it, make predictions, and evaluate performance\n",
    "for algorithm in algorithms:\n",
    "    # Train the algorithm\n",
    "    algorithm.fit(X_train, y_train)\n",
    "    \n",
    "    # Make predictions\n",
    "    y_pred = algorithm.predict(X_test)\n",
    "    \n",
    "    # Evaluate performance (using Mean Squared Error in this example)\n",
    "    mse = mean_squared_error(y_test, y_pred)\n",
    "    r2=r2_score(y_test,y_pred)\n",
    "    \n",
    "    # Print the name of the algorithm and its performance\n",
    "    print(f\"{algorithm.__class__.__name__} - MSE: {mse}\")\n",
    "    print(f\"{algorithm.__class__.__name__} - R2: {r2}\")\n",
    "    print(\" \") # print an empty line\n"
   ]
  },
  {
   "cell_type": "markdown",
   "metadata": {},
   "source": [
    "Peak Hours for Weekends and working days"
   ]
  },
  {
   "cell_type": "markdown",
   "metadata": {},
   "source": [
    "Data Frame for Morning Rush during working days"
   ]
  },
  {
   "cell_type": "code",
   "execution_count": 1102,
   "metadata": {},
   "outputs": [
    {
     "data": {
      "text/html": [
       "<div>\n",
       "<style scoped>\n",
       "    .dataframe tbody tr th:only-of-type {\n",
       "        vertical-align: middle;\n",
       "    }\n",
       "\n",
       "    .dataframe tbody tr th {\n",
       "        vertical-align: top;\n",
       "    }\n",
       "\n",
       "    .dataframe thead th {\n",
       "        text-align: right;\n",
       "    }\n",
       "</style>\n",
       "<table border=\"1\" class=\"dataframe\">\n",
       "  <thead>\n",
       "    <tr style=\"text-align: right;\">\n",
       "      <th></th>\n",
       "      <th>Hour</th>\n",
       "      <th>Total_rides</th>\n",
       "      <th>Relativehumidity_2m (%)</th>\n",
       "      <th>Temperature_2m (°C)</th>\n",
       "      <th>Windspeed_10m (km/h)</th>\n",
       "      <th>Weekday</th>\n",
       "    </tr>\n",
       "  </thead>\n",
       "  <tbody>\n",
       "    <tr>\n",
       "      <th>0</th>\n",
       "      <td>5</td>\n",
       "      <td>14.0</td>\n",
       "      <td>75</td>\n",
       "      <td>1.4</td>\n",
       "      <td>8.7</td>\n",
       "      <td>Fri.</td>\n",
       "    </tr>\n",
       "    <tr>\n",
       "      <th>1</th>\n",
       "      <td>6</td>\n",
       "      <td>26.0</td>\n",
       "      <td>72</td>\n",
       "      <td>1.4</td>\n",
       "      <td>8.9</td>\n",
       "      <td>Fri.</td>\n",
       "    </tr>\n",
       "    <tr>\n",
       "      <th>2</th>\n",
       "      <td>7</td>\n",
       "      <td>27.0</td>\n",
       "      <td>71</td>\n",
       "      <td>1.4</td>\n",
       "      <td>7.9</td>\n",
       "      <td>Fri.</td>\n",
       "    </tr>\n",
       "    <tr>\n",
       "      <th>3</th>\n",
       "      <td>8</td>\n",
       "      <td>55.0</td>\n",
       "      <td>71</td>\n",
       "      <td>1.4</td>\n",
       "      <td>7.1</td>\n",
       "      <td>Fri.</td>\n",
       "    </tr>\n",
       "    <tr>\n",
       "      <th>4</th>\n",
       "      <td>9</td>\n",
       "      <td>76.0</td>\n",
       "      <td>70</td>\n",
       "      <td>1.6</td>\n",
       "      <td>7.2</td>\n",
       "      <td>Fri.</td>\n",
       "    </tr>\n",
       "    <tr>\n",
       "      <th>...</th>\n",
       "      <td>...</td>\n",
       "      <td>...</td>\n",
       "      <td>...</td>\n",
       "      <td>...</td>\n",
       "      <td>...</td>\n",
       "      <td>...</td>\n",
       "    </tr>\n",
       "    <tr>\n",
       "      <th>3120</th>\n",
       "      <td>5</td>\n",
       "      <td>42.0</td>\n",
       "      <td>40</td>\n",
       "      <td>0.8</td>\n",
       "      <td>1.5</td>\n",
       "      <td>Fri.</td>\n",
       "    </tr>\n",
       "    <tr>\n",
       "      <th>3121</th>\n",
       "      <td>6</td>\n",
       "      <td>123.0</td>\n",
       "      <td>50</td>\n",
       "      <td>0.3</td>\n",
       "      <td>2.2</td>\n",
       "      <td>Fri.</td>\n",
       "    </tr>\n",
       "    <tr>\n",
       "      <th>3122</th>\n",
       "      <td>7</td>\n",
       "      <td>207.0</td>\n",
       "      <td>42</td>\n",
       "      <td>0.2</td>\n",
       "      <td>2.3</td>\n",
       "      <td>Fri.</td>\n",
       "    </tr>\n",
       "    <tr>\n",
       "      <th>3123</th>\n",
       "      <td>8</td>\n",
       "      <td>305.0</td>\n",
       "      <td>47</td>\n",
       "      <td>-0.8</td>\n",
       "      <td>0.7</td>\n",
       "      <td>Fri.</td>\n",
       "    </tr>\n",
       "    <tr>\n",
       "      <th>3124</th>\n",
       "      <td>9</td>\n",
       "      <td>362.0</td>\n",
       "      <td>47</td>\n",
       "      <td>-0.9</td>\n",
       "      <td>1.0</td>\n",
       "      <td>Fri.</td>\n",
       "    </tr>\n",
       "  </tbody>\n",
       "</table>\n",
       "<p>3125 rows × 6 columns</p>\n",
       "</div>"
      ],
      "text/plain": [
       "      Hour  Total_rides  Relativehumidity_2m (%)  Temperature_2m (°C)  \\\n",
       "0        5         14.0                       75                  1.4   \n",
       "1        6         26.0                       72                  1.4   \n",
       "2        7         27.0                       71                  1.4   \n",
       "3        8         55.0                       71                  1.4   \n",
       "4        9         76.0                       70                  1.6   \n",
       "...    ...          ...                      ...                  ...   \n",
       "3120     5         42.0                       40                  0.8   \n",
       "3121     6        123.0                       50                  0.3   \n",
       "3122     7        207.0                       42                  0.2   \n",
       "3123     8        305.0                       47                 -0.8   \n",
       "3124     9        362.0                       47                 -0.9   \n",
       "\n",
       "      Windspeed_10m (km/h) Weekday  \n",
       "0                      8.7    Fri.  \n",
       "1                      8.9    Fri.  \n",
       "2                      7.9    Fri.  \n",
       "3                      7.1    Fri.  \n",
       "4                      7.2    Fri.  \n",
       "...                    ...     ...  \n",
       "3120                   1.5    Fri.  \n",
       "3121                   2.2    Fri.  \n",
       "3122                   2.3    Fri.  \n",
       "3123                   0.7    Fri.  \n",
       "3124                   1.0    Fri.  \n",
       "\n",
       "[3125 rows x 6 columns]"
      ]
     },
     "execution_count": 1102,
     "metadata": {},
     "output_type": "execute_result"
    }
   ],
   "source": [
    "# Assuming hourly is your original DataFrame\n",
    "# Filter for peak hours (let's assume peak hours are from 5 AM to 9 AM)\n",
    "peak_hours = hourly[(hourly['Hour'] >= 5) & (hourly['Hour'] <= 9)]\n",
    "\n",
    "# Filter for working days (Monday to Friday)\n",
    "morning_working_days = peak_hours[peak_hours['Weekday'].isin(['Mon.', 'Tue.', 'Wed.', 'Thu.', 'Fri.'])]\n",
    "\n",
    "# resetting index\n",
    "morning_working_days.reset_index(drop=True, inplace=True)\n",
    "\n",
    "#display\n",
    "morning_working_days"
   ]
  },
  {
   "cell_type": "markdown",
   "metadata": {},
   "source": [
    "Data frame for evening Rush during working days"
   ]
  },
  {
   "cell_type": "code",
   "execution_count": null,
   "metadata": {},
   "outputs": [],
   "source": [
    "\n",
    "# Assuming hourly is your original DataFrame\n",
    "# Filter for peak hours (let's assume peak hours are from 17:00 to 21:00)\n",
    "peak_hours = hourly[(hourly['Hour'] >= 17) & (hourly['Hour'] <= 21)]\n",
    "\n",
    "# Filter for working days (Monday to Friday)\n",
    "evening_working_days = peak_hours[peak_hours['Weekday'].isin(['Mon.', 'Tue.', 'Wed.', 'Thu.', 'Fri.'])]\n",
    "\n",
    "# resetting index\n",
    "evening_working_days.reset_index(drop=True, inplace=True)\n",
    "\n",
    "#display\n",
    "evening_working_days"
   ]
  },
  {
   "cell_type": "markdown",
   "metadata": {},
   "source": [
    "Data Frame for Rush hours during Weekends"
   ]
  },
  {
   "cell_type": "code",
   "execution_count": null,
   "metadata": {},
   "outputs": [],
   "source": [
    "\n",
    "# Assuming hourly is your original DataFrame\n",
    "# Filter for peak hours (let's assume peak hours are from 10:00 to 16:00) at weekend\n",
    "peak_hours = hourly[(hourly['Hour'] >= 10) & (hourly['Hour'] <= 16)]\n",
    "\n",
    "# Filter for working days (Monday to Friday)\n",
    "peak_weekend = peak_hours[peak_hours['Weekday'].isin(['Sat.', 'Sun.'])]\n",
    "\n",
    "# resetting index\n",
    "peak_weekend.reset_index(drop=True, inplace=True)\n",
    "\n",
    "#display\n",
    "peak_weekend"
   ]
  },
  {
   "cell_type": "markdown",
   "metadata": {},
   "source": [
    "Encoding of Peak hours Data frame"
   ]
  },
  {
   "cell_type": "code",
   "execution_count": null,
   "metadata": {},
   "outputs": [],
   "source": [
    "#morning rush during working days\n",
    "# Define columns to encode\n",
    "columns_to_encode_3 = [\"Weekday\"]\n",
    "\n",
    "# Use get_dummies() to encode these columns\n",
    "encoded_morning_working_days = pd.get_dummies(morning_working_days, columns=columns_to_encode_3)\n",
    "\n",
    "\n",
    "#Evening rush during working days\n",
    "# Define columns to encode\n",
    "columns_to_encode_4 = [\"Weekday\"]\n",
    "\n",
    "# Use get_dummies() to encode these columns\n",
    "encoded_evening_working_days = pd.get_dummies(evening_working_days, columns=columns_to_encode_4)\n",
    "\n",
    "\n",
    "#morning rush during working days\n",
    "# Define columns to encode\n",
    "columns_to_encode_5 = [\"Weekday\"]\n",
    "\n",
    "# Use get_dummies() to encode these columns\n",
    "encoded_peak_weekend = pd.get_dummies(peak_weekend, columns=columns_to_encode_5)\n",
    "\n",
    "\n",
    "\n"
   ]
  },
  {
   "cell_type": "code",
   "execution_count": 1103,
   "metadata": {},
   "outputs": [],
   "source": [
    "# Convert boolean encoded data to integer format\n",
    "\n",
    "encoded_morning_working_days_int = encoded_morning_working_days.astype(int)\n",
    "\n",
    "encoded_evening_working_days_int = encoded_evening_working_days.astype(int)\n",
    "\n",
    "encoded_peak_weekend_int = encoded_peak_weekend.astype(int)\n",
    "\n"
   ]
  },
  {
   "cell_type": "markdown",
   "metadata": {},
   "source": [
    "Data Seperation as X and y"
   ]
  },
  {
   "cell_type": "code",
   "execution_count": 1105,
   "metadata": {},
   "outputs": [
    {
     "name": "stdout",
     "output_type": "stream",
     "text": [
      "(3125, 8)\n",
      "(3125,)\n"
     ]
    }
   ],
   "source": [
    "#dependent variable\n",
    "morning_y=encoded_morning_working_days_int[\"Total_rides\"]\n",
    "\n",
    "# independent varibable\n",
    "morning_X=encoded_morning_working_days_int.drop(\"Total_rides\", axis=1)\n",
    "print(morning_X.shape)\n",
    "print(morning_y.shape)"
   ]
  },
  {
   "cell_type": "markdown",
   "metadata": {},
   "source": [
    "Data Spliting"
   ]
  },
  {
   "cell_type": "code",
   "execution_count": 1106,
   "metadata": {},
   "outputs": [],
   "source": [
    "morning_X_train, morning_X_test,morning_y_train, morning_y_test = train_test_split(morning_X, morning_y, test_size=0.2, random_state=42)"
   ]
  },
  {
   "cell_type": "markdown",
   "metadata": {},
   "source": [
    "Model"
   ]
  },
  {
   "cell_type": "markdown",
   "metadata": {},
   "source": [
    "Linear Regression for moring rush during working day"
   ]
  },
  {
   "cell_type": "code",
   "execution_count": 1107,
   "metadata": {},
   "outputs": [
    {
     "data": {
      "text/html": [
       "<style>#sk-container-id-44 {color: black;}#sk-container-id-44 pre{padding: 0;}#sk-container-id-44 div.sk-toggleable {background-color: white;}#sk-container-id-44 label.sk-toggleable__label {cursor: pointer;display: block;width: 100%;margin-bottom: 0;padding: 0.3em;box-sizing: border-box;text-align: center;}#sk-container-id-44 label.sk-toggleable__label-arrow:before {content: \"▸\";float: left;margin-right: 0.25em;color: #696969;}#sk-container-id-44 label.sk-toggleable__label-arrow:hover:before {color: black;}#sk-container-id-44 div.sk-estimator:hover label.sk-toggleable__label-arrow:before {color: black;}#sk-container-id-44 div.sk-toggleable__content {max-height: 0;max-width: 0;overflow: hidden;text-align: left;background-color: #f0f8ff;}#sk-container-id-44 div.sk-toggleable__content pre {margin: 0.2em;color: black;border-radius: 0.25em;background-color: #f0f8ff;}#sk-container-id-44 input.sk-toggleable__control:checked~div.sk-toggleable__content {max-height: 200px;max-width: 100%;overflow: auto;}#sk-container-id-44 input.sk-toggleable__control:checked~label.sk-toggleable__label-arrow:before {content: \"▾\";}#sk-container-id-44 div.sk-estimator input.sk-toggleable__control:checked~label.sk-toggleable__label {background-color: #d4ebff;}#sk-container-id-44 div.sk-label input.sk-toggleable__control:checked~label.sk-toggleable__label {background-color: #d4ebff;}#sk-container-id-44 input.sk-hidden--visually {border: 0;clip: rect(1px 1px 1px 1px);clip: rect(1px, 1px, 1px, 1px);height: 1px;margin: -1px;overflow: hidden;padding: 0;position: absolute;width: 1px;}#sk-container-id-44 div.sk-estimator {font-family: monospace;background-color: #f0f8ff;border: 1px dotted black;border-radius: 0.25em;box-sizing: border-box;margin-bottom: 0.5em;}#sk-container-id-44 div.sk-estimator:hover {background-color: #d4ebff;}#sk-container-id-44 div.sk-parallel-item::after {content: \"\";width: 100%;border-bottom: 1px solid gray;flex-grow: 1;}#sk-container-id-44 div.sk-label:hover label.sk-toggleable__label {background-color: #d4ebff;}#sk-container-id-44 div.sk-serial::before {content: \"\";position: absolute;border-left: 1px solid gray;box-sizing: border-box;top: 0;bottom: 0;left: 50%;z-index: 0;}#sk-container-id-44 div.sk-serial {display: flex;flex-direction: column;align-items: center;background-color: white;padding-right: 0.2em;padding-left: 0.2em;position: relative;}#sk-container-id-44 div.sk-item {position: relative;z-index: 1;}#sk-container-id-44 div.sk-parallel {display: flex;align-items: stretch;justify-content: center;background-color: white;position: relative;}#sk-container-id-44 div.sk-item::before, #sk-container-id-44 div.sk-parallel-item::before {content: \"\";position: absolute;border-left: 1px solid gray;box-sizing: border-box;top: 0;bottom: 0;left: 50%;z-index: -1;}#sk-container-id-44 div.sk-parallel-item {display: flex;flex-direction: column;z-index: 1;position: relative;background-color: white;}#sk-container-id-44 div.sk-parallel-item:first-child::after {align-self: flex-end;width: 50%;}#sk-container-id-44 div.sk-parallel-item:last-child::after {align-self: flex-start;width: 50%;}#sk-container-id-44 div.sk-parallel-item:only-child::after {width: 0;}#sk-container-id-44 div.sk-dashed-wrapped {border: 1px dashed gray;margin: 0 0.4em 0.5em 0.4em;box-sizing: border-box;padding-bottom: 0.4em;background-color: white;}#sk-container-id-44 div.sk-label label {font-family: monospace;font-weight: bold;display: inline-block;line-height: 1.2em;}#sk-container-id-44 div.sk-label-container {text-align: center;}#sk-container-id-44 div.sk-container {/* jupyter's `normalize.less` sets `[hidden] { display: none; }` but bootstrap.min.css set `[hidden] { display: none !important; }` so we also need the `!important` here to be able to override the default hidden behavior on the sphinx rendered scikit-learn.org. See: https://github.com/scikit-learn/scikit-learn/issues/21755 */display: inline-block !important;position: relative;}#sk-container-id-44 div.sk-text-repr-fallback {display: none;}</style><div id=\"sk-container-id-44\" class=\"sk-top-container\"><div class=\"sk-text-repr-fallback\"><pre>LinearRegression()</pre><b>In a Jupyter environment, please rerun this cell to show the HTML representation or trust the notebook. <br />On GitHub, the HTML representation is unable to render, please try loading this page with nbviewer.org.</b></div><div class=\"sk-container\" hidden><div class=\"sk-item\"><div class=\"sk-estimator sk-toggleable\"><input class=\"sk-toggleable__control sk-hidden--visually\" id=\"sk-estimator-id-44\" type=\"checkbox\" checked><label for=\"sk-estimator-id-44\" class=\"sk-toggleable__label sk-toggleable__label-arrow\">LinearRegression</label><div class=\"sk-toggleable__content\"><pre>LinearRegression()</pre></div></div></div></div></div>"
      ],
      "text/plain": [
       "LinearRegression()"
      ]
     },
     "execution_count": 1107,
     "metadata": {},
     "output_type": "execute_result"
    }
   ],
   "source": [
    "lr=LinearRegression()\n",
    "lr.fit(morning_X_train,morning_y_train)"
   ]
  },
  {
   "cell_type": "markdown",
   "metadata": {},
   "source": [
    "Predict"
   ]
  },
  {
   "cell_type": "code",
   "execution_count": 1108,
   "metadata": {},
   "outputs": [],
   "source": [
    "morning_y_pred = lr.predict(morning_X_test)\n"
   ]
  },
  {
   "cell_type": "markdown",
   "metadata": {},
   "source": [
    "Evaluate"
   ]
  },
  {
   "cell_type": "code",
   "execution_count": 1109,
   "metadata": {},
   "outputs": [
    {
     "name": "stdout",
     "output_type": "stream",
     "text": [
      "42074.92902080213\n",
      "0.49677791856340237\n"
     ]
    }
   ],
   "source": [
    "# Evaluate the morning_y_pred\n",
    "mse = mean_squared_error(morning_y_test, morning_y_pred)\n",
    "lr_test_r2=r2_score(morning_y_test,morning_y_pred)\n",
    "print(mse)\n",
    "print(lr_test_r2)"
   ]
  },
  {
   "cell_type": "markdown",
   "metadata": {},
   "source": [
    "Polynomial regresion for Morning rush during working day"
   ]
  },
  {
   "cell_type": "code",
   "execution_count": 1110,
   "metadata": {},
   "outputs": [
    {
     "name": "stdout",
     "output_type": "stream",
     "text": [
      "Training Set - Mean Squared Error: 21362.643529705823\n",
      "Training Set - R2 Score: 0.7727309058473578\n",
      "Test Set - Mean Squared Error: 21738.077077129517\n",
      "Test Set - R2 Score: 0.7400095342341766\n"
     ]
    }
   ],
   "source": [
    "\n",
    "from sklearn.preprocessing import PolynomialFeatures\n",
    "\n",
    "# Polynomial features transformation\n",
    "poly_features = PolynomialFeatures(degree=3, include_bias=False)\n",
    "X_train_poly = poly_features.fit_transform(morning_X_train)\n",
    "\n",
    "# Train polynomial regression model\n",
    "poly_reg = LinearRegression()\n",
    "poly_reg.fit(X_train_poly, morning_y_train)\n",
    "\n",
    "# Make predictions on the training data\n",
    "y_train_predicted = poly_reg.predict(X_train_poly)\n",
    "\n",
    "# Evaluate model performance on training data\n",
    "mse_train = mean_squared_error(morning_y_train, y_train_predicted)\n",
    "r2_train = r2_score(morning_y_train, y_train_predicted)\n",
    "print(\"Training Set - Mean Squared Error:\", mse_train)\n",
    "print(\"Training Set - R2 Score:\", r2_train)\n",
    "\n",
    "# Visualize the polynomial regression model\n",
    "#plt.scatter(X_train, y_train, color='blue', label='Training data')\n",
    "#plt.plot(X_train, y_train_predicted, color='red', label='Polynomial regression')\n",
    "#plt.title('Polynomial Regression')\n",
    "#plt.xlabel('X')\n",
    "#plt.ylabel('y')\n",
    "#plt.legend()\n",
    "#plt.show()\n",
    "\n",
    "# Evaluate the model on test data\n",
    "X_test_poly = poly_features.transform(morning_X_test)\n",
    "y_test_predicted = poly_reg.predict(X_test_poly)\n",
    "\n",
    "# Evaluate model performance on test data\n",
    "mse_test = mean_squared_error(morning_y_test, y_test_predicted)\n",
    "r2_test = r2_score(morning_y_test, y_test_predicted)\n",
    "print(\"Test Set - Mean Squared Error:\", mse_test)\n",
    "print(\"Test Set - R2 Score:\", r2_test)"
   ]
  }
 ],
 "metadata": {
  "kernelspec": {
   "display_name": "base",
   "language": "python",
   "name": "python3"
  },
  "language_info": {
   "codemirror_mode": {
    "name": "ipython",
    "version": 3
   },
   "file_extension": ".py",
   "mimetype": "text/x-python",
   "name": "python",
   "nbconvert_exporter": "python",
   "pygments_lexer": "ipython3",
   "version": "3.11.5"
  }
 },
 "nbformat": 4,
 "nbformat_minor": 2
}
