{
 "cells": [
  {
   "cell_type": "code",
   "execution_count": 375,
   "metadata": {},
   "outputs": [
    {
     "name": "stdout",
     "output_type": "stream",
     "text": [
      "Hello World!\n"
     ]
    }
   ],
   "source": [
    "print(\"Hello World!\")"
   ]
  },
  {
   "cell_type": "code",
   "execution_count": 376,
   "metadata": {},
   "outputs": [],
   "source": [
    "import numpy as np\n",
    "import pandas as pd\n",
    "from sklearn.model_selection import train_test_split\n",
    "from sklearn.linear_model import LinearRegression\n",
    "from sklearn.metrics import mean_squared_error, r2_score\n",
    "from sklearn.preprocessing import StandardScaler\n",
    "import matplotlib.pyplot as plt\n",
    "import seaborn as sns\n",
    "from sklearn.preprocessing import PolynomialFeatures"
   ]
  },
  {
   "cell_type": "markdown",
   "metadata": {},
   "source": [
    "## Hourly Ride Prediction "
   ]
  },
  {
   "cell_type": "markdown",
   "metadata": {},
   "source": [
    "Loading Dataset"
   ]
  },
  {
   "cell_type": "code",
   "execution_count": 408,
   "metadata": {},
   "outputs": [],
   "source": [
    "hourly=pd.read_csv(\"hourly_ml.csv\")"
   ]
  },
  {
   "cell_type": "code",
   "execution_count": 409,
   "metadata": {},
   "outputs": [
    {
     "data": {
      "text/html": [
       "<div>\n",
       "<style scoped>\n",
       "    .dataframe tbody tr th:only-of-type {\n",
       "        vertical-align: middle;\n",
       "    }\n",
       "\n",
       "    .dataframe tbody tr th {\n",
       "        vertical-align: top;\n",
       "    }\n",
       "\n",
       "    .dataframe thead th {\n",
       "        text-align: right;\n",
       "    }\n",
       "</style>\n",
       "<table border=\"1\" class=\"dataframe\">\n",
       "  <thead>\n",
       "    <tr style=\"text-align: right;\">\n",
       "      <th></th>\n",
       "      <th>Casual</th>\n",
       "      <th>Date</th>\n",
       "      <th>Hour</th>\n",
       "      <th>Registered</th>\n",
       "      <th>Total_rides</th>\n",
       "      <th>Relativehumidity_2m (%)</th>\n",
       "      <th>Temperature_2m (°C)</th>\n",
       "      <th>Weathercode (wmo code)</th>\n",
       "      <th>Windspeed_10m (km/h)</th>\n",
       "      <th>Weather</th>\n",
       "      <th>...</th>\n",
       "      <th>Cloudy Weather</th>\n",
       "      <th>Drizzle Weather</th>\n",
       "      <th>Rainy Weather</th>\n",
       "      <th>Snowy Weather</th>\n",
       "      <th>Season</th>\n",
       "      <th>Weekday</th>\n",
       "      <th>Year</th>\n",
       "      <th>Workingday</th>\n",
       "      <th>Month</th>\n",
       "      <th>Minutes</th>\n",
       "    </tr>\n",
       "  </thead>\n",
       "  <tbody>\n",
       "    <tr>\n",
       "      <th>0</th>\n",
       "      <td>20.0</td>\n",
       "      <td>2021-01-01</td>\n",
       "      <td>0</td>\n",
       "      <td>26.0</td>\n",
       "      <td>46.0</td>\n",
       "      <td>90</td>\n",
       "      <td>2.4</td>\n",
       "      <td>1</td>\n",
       "      <td>10.2</td>\n",
       "      <td>Clear</td>\n",
       "      <td>...</td>\n",
       "      <td>0</td>\n",
       "      <td>0</td>\n",
       "      <td>0</td>\n",
       "      <td>0</td>\n",
       "      <td>Winter</td>\n",
       "      <td>Fri.</td>\n",
       "      <td>2021</td>\n",
       "      <td>Yes</td>\n",
       "      <td>Jan.</td>\n",
       "      <td>0</td>\n",
       "    </tr>\n",
       "    <tr>\n",
       "      <th>1</th>\n",
       "      <td>23.0</td>\n",
       "      <td>2021-01-01</td>\n",
       "      <td>1</td>\n",
       "      <td>23.0</td>\n",
       "      <td>46.0</td>\n",
       "      <td>88</td>\n",
       "      <td>1.8</td>\n",
       "      <td>1</td>\n",
       "      <td>10.0</td>\n",
       "      <td>Clear</td>\n",
       "      <td>...</td>\n",
       "      <td>0</td>\n",
       "      <td>0</td>\n",
       "      <td>0</td>\n",
       "      <td>0</td>\n",
       "      <td>Winter</td>\n",
       "      <td>Fri.</td>\n",
       "      <td>2021</td>\n",
       "      <td>Yes</td>\n",
       "      <td>Jan.</td>\n",
       "      <td>60</td>\n",
       "    </tr>\n",
       "    <tr>\n",
       "      <th>2</th>\n",
       "      <td>20.0</td>\n",
       "      <td>2021-01-01</td>\n",
       "      <td>2</td>\n",
       "      <td>28.0</td>\n",
       "      <td>48.0</td>\n",
       "      <td>87</td>\n",
       "      <td>1.1</td>\n",
       "      <td>2</td>\n",
       "      <td>10.1</td>\n",
       "      <td>Cloudy</td>\n",
       "      <td>...</td>\n",
       "      <td>1</td>\n",
       "      <td>0</td>\n",
       "      <td>0</td>\n",
       "      <td>0</td>\n",
       "      <td>Winter</td>\n",
       "      <td>Fri.</td>\n",
       "      <td>2021</td>\n",
       "      <td>Yes</td>\n",
       "      <td>Jan.</td>\n",
       "      <td>120</td>\n",
       "    </tr>\n",
       "    <tr>\n",
       "      <th>3</th>\n",
       "      <td>9.0</td>\n",
       "      <td>2021-01-01</td>\n",
       "      <td>3</td>\n",
       "      <td>7.0</td>\n",
       "      <td>16.0</td>\n",
       "      <td>81</td>\n",
       "      <td>1.6</td>\n",
       "      <td>2</td>\n",
       "      <td>10.6</td>\n",
       "      <td>Cloudy</td>\n",
       "      <td>...</td>\n",
       "      <td>1</td>\n",
       "      <td>0</td>\n",
       "      <td>0</td>\n",
       "      <td>0</td>\n",
       "      <td>Winter</td>\n",
       "      <td>Fri.</td>\n",
       "      <td>2021</td>\n",
       "      <td>Yes</td>\n",
       "      <td>Jan.</td>\n",
       "      <td>180</td>\n",
       "    </tr>\n",
       "    <tr>\n",
       "      <th>4</th>\n",
       "      <td>7.0</td>\n",
       "      <td>2021-01-01</td>\n",
       "      <td>4</td>\n",
       "      <td>5.0</td>\n",
       "      <td>12.0</td>\n",
       "      <td>77</td>\n",
       "      <td>1.6</td>\n",
       "      <td>2</td>\n",
       "      <td>9.9</td>\n",
       "      <td>Cloudy</td>\n",
       "      <td>...</td>\n",
       "      <td>1</td>\n",
       "      <td>0</td>\n",
       "      <td>0</td>\n",
       "      <td>0</td>\n",
       "      <td>Winter</td>\n",
       "      <td>Fri.</td>\n",
       "      <td>2021</td>\n",
       "      <td>Yes</td>\n",
       "      <td>Jan.</td>\n",
       "      <td>240</td>\n",
       "    </tr>\n",
       "  </tbody>\n",
       "</table>\n",
       "<p>5 rows × 21 columns</p>\n",
       "</div>"
      ],
      "text/plain": [
       "   Casual        Date  Hour  Registered  Total_rides  Relativehumidity_2m (%)  \\\n",
       "0    20.0  2021-01-01     0        26.0         46.0                       90   \n",
       "1    23.0  2021-01-01     1        23.0         46.0                       88   \n",
       "2    20.0  2021-01-01     2        28.0         48.0                       87   \n",
       "3     9.0  2021-01-01     3         7.0         16.0                       81   \n",
       "4     7.0  2021-01-01     4         5.0         12.0                       77   \n",
       "\n",
       "   Temperature_2m (°C)  Weathercode (wmo code)  Windspeed_10m (km/h) Weather  \\\n",
       "0                  2.4                       1                  10.2   Clear   \n",
       "1                  1.8                       1                  10.0   Clear   \n",
       "2                  1.1                       2                  10.1  Cloudy   \n",
       "3                  1.6                       2                  10.6  Cloudy   \n",
       "4                  1.6                       2                   9.9  Cloudy   \n",
       "\n",
       "   ...  Cloudy Weather  Drizzle Weather  Rainy Weather  Snowy Weather  Season  \\\n",
       "0  ...               0                0              0              0  Winter   \n",
       "1  ...               0                0              0              0  Winter   \n",
       "2  ...               1                0              0              0  Winter   \n",
       "3  ...               1                0              0              0  Winter   \n",
       "4  ...               1                0              0              0  Winter   \n",
       "\n",
       "  Weekday  Year  Workingday Month Minutes  \n",
       "0    Fri.  2021         Yes  Jan.       0  \n",
       "1    Fri.  2021         Yes  Jan.      60  \n",
       "2    Fri.  2021         Yes  Jan.     120  \n",
       "3    Fri.  2021         Yes  Jan.     180  \n",
       "4    Fri.  2021         Yes  Jan.     240  \n",
       "\n",
       "[5 rows x 21 columns]"
      ]
     },
     "execution_count": 409,
     "metadata": {},
     "output_type": "execute_result"
    }
   ],
   "source": [
    "hourly.head()"
   ]
  },
  {
   "cell_type": "code",
   "execution_count": 410,
   "metadata": {},
   "outputs": [
    {
     "name": "stdout",
     "output_type": "stream",
     "text": [
      "<class 'pandas.core.frame.DataFrame'>\n",
      "RangeIndex: 26269 entries, 0 to 26268\n",
      "Data columns (total 21 columns):\n",
      " #   Column                   Non-Null Count  Dtype  \n",
      "---  ------                   --------------  -----  \n",
      " 0   Casual                   26269 non-null  float64\n",
      " 1   Date                     26269 non-null  object \n",
      " 2   Hour                     26269 non-null  int64  \n",
      " 3   Registered               26269 non-null  float64\n",
      " 4   Total_rides              26269 non-null  float64\n",
      " 5   Relativehumidity_2m (%)  26269 non-null  int64  \n",
      " 6   Temperature_2m (°C)      26269 non-null  float64\n",
      " 7   Weathercode (wmo code)   26269 non-null  int64  \n",
      " 8   Windspeed_10m (km/h)     26269 non-null  float64\n",
      " 9   Weather                  26269 non-null  object \n",
      " 10  Clear Weather            26269 non-null  int64  \n",
      " 11  Cloudy Weather           26269 non-null  int64  \n",
      " 12  Drizzle Weather          26269 non-null  int64  \n",
      " 13  Rainy Weather            26269 non-null  int64  \n",
      " 14  Snowy Weather            26269 non-null  int64  \n",
      " 15  Season                   26269 non-null  object \n",
      " 16  Weekday                  26269 non-null  object \n",
      " 17  Year                     26269 non-null  int64  \n",
      " 18  Workingday               26269 non-null  object \n",
      " 19  Month                    26269 non-null  object \n",
      " 20  Minutes                  26269 non-null  int64  \n",
      "dtypes: float64(5), int64(10), object(6)\n",
      "memory usage: 4.2+ MB\n"
     ]
    }
   ],
   "source": [
    "hourly.info()"
   ]
  },
  {
   "cell_type": "code",
   "execution_count": 411,
   "metadata": {},
   "outputs": [
    {
     "data": {
      "text/plain": [
       "Casual                     0\n",
       "Date                       0\n",
       "Hour                       0\n",
       "Registered                 0\n",
       "Total_rides                0\n",
       "Relativehumidity_2m (%)    0\n",
       "Temperature_2m (°C)        0\n",
       "Weathercode (wmo code)     0\n",
       "Windspeed_10m (km/h)       0\n",
       "Weather                    0\n",
       "Clear Weather              0\n",
       "Cloudy Weather             0\n",
       "Drizzle Weather            0\n",
       "Rainy Weather              0\n",
       "Snowy Weather              0\n",
       "Season                     0\n",
       "Weekday                    0\n",
       "Year                       0\n",
       "Workingday                 0\n",
       "Month                      0\n",
       "Minutes                    0\n",
       "dtype: int64"
      ]
     },
     "execution_count": 411,
     "metadata": {},
     "output_type": "execute_result"
    }
   ],
   "source": [
    "hourly.isnull().sum()"
   ]
  },
  {
   "cell_type": "code",
   "execution_count": 412,
   "metadata": {},
   "outputs": [
    {
     "data": {
      "text/html": [
       "<div>\n",
       "<style scoped>\n",
       "    .dataframe tbody tr th:only-of-type {\n",
       "        vertical-align: middle;\n",
       "    }\n",
       "\n",
       "    .dataframe tbody tr th {\n",
       "        vertical-align: top;\n",
       "    }\n",
       "\n",
       "    .dataframe thead th {\n",
       "        text-align: right;\n",
       "    }\n",
       "</style>\n",
       "<table border=\"1\" class=\"dataframe\">\n",
       "  <thead>\n",
       "    <tr style=\"text-align: right;\">\n",
       "      <th></th>\n",
       "      <th>count</th>\n",
       "      <th>mean</th>\n",
       "      <th>std</th>\n",
       "      <th>min</th>\n",
       "      <th>25%</th>\n",
       "      <th>50%</th>\n",
       "      <th>75%</th>\n",
       "      <th>max</th>\n",
       "    </tr>\n",
       "  </thead>\n",
       "  <tbody>\n",
       "    <tr>\n",
       "      <th>Casual</th>\n",
       "      <td>26269.0</td>\n",
       "      <td>159.930070</td>\n",
       "      <td>167.330426</td>\n",
       "      <td>0.0</td>\n",
       "      <td>28.0</td>\n",
       "      <td>105.0</td>\n",
       "      <td>237.0</td>\n",
       "      <td>1206.0</td>\n",
       "    </tr>\n",
       "    <tr>\n",
       "      <th>Hour</th>\n",
       "      <td>26269.0</td>\n",
       "      <td>11.503864</td>\n",
       "      <td>6.921180</td>\n",
       "      <td>0.0</td>\n",
       "      <td>6.0</td>\n",
       "      <td>12.0</td>\n",
       "      <td>18.0</td>\n",
       "      <td>23.0</td>\n",
       "    </tr>\n",
       "    <tr>\n",
       "      <th>Registered</th>\n",
       "      <td>26269.0</td>\n",
       "      <td>247.165632</td>\n",
       "      <td>225.283539</td>\n",
       "      <td>0.0</td>\n",
       "      <td>55.0</td>\n",
       "      <td>203.0</td>\n",
       "      <td>371.0</td>\n",
       "      <td>1534.0</td>\n",
       "    </tr>\n",
       "    <tr>\n",
       "      <th>Total_rides</th>\n",
       "      <td>26269.0</td>\n",
       "      <td>407.095702</td>\n",
       "      <td>373.005409</td>\n",
       "      <td>1.0</td>\n",
       "      <td>85.0</td>\n",
       "      <td>319.0</td>\n",
       "      <td>616.0</td>\n",
       "      <td>2262.0</td>\n",
       "    </tr>\n",
       "    <tr>\n",
       "      <th>Relativehumidity_2m (%)</th>\n",
       "      <td>26269.0</td>\n",
       "      <td>62.962846</td>\n",
       "      <td>22.726160</td>\n",
       "      <td>5.0</td>\n",
       "      <td>46.0</td>\n",
       "      <td>64.0</td>\n",
       "      <td>82.0</td>\n",
       "      <td>100.0</td>\n",
       "    </tr>\n",
       "    <tr>\n",
       "      <th>Temperature_2m (°C)</th>\n",
       "      <td>26269.0</td>\n",
       "      <td>14.419590</td>\n",
       "      <td>10.282328</td>\n",
       "      <td>-14.6</td>\n",
       "      <td>6.2</td>\n",
       "      <td>14.8</td>\n",
       "      <td>22.7</td>\n",
       "      <td>41.5</td>\n",
       "    </tr>\n",
       "    <tr>\n",
       "      <th>Weathercode (wmo code)</th>\n",
       "      <td>26269.0</td>\n",
       "      <td>7.223838</td>\n",
       "      <td>17.623401</td>\n",
       "      <td>0.0</td>\n",
       "      <td>0.0</td>\n",
       "      <td>1.0</td>\n",
       "      <td>2.0</td>\n",
       "      <td>75.0</td>\n",
       "    </tr>\n",
       "    <tr>\n",
       "      <th>Windspeed_10m (km/h)</th>\n",
       "      <td>26269.0</td>\n",
       "      <td>10.170330</td>\n",
       "      <td>5.260753</td>\n",
       "      <td>0.0</td>\n",
       "      <td>6.5</td>\n",
       "      <td>9.2</td>\n",
       "      <td>12.9</td>\n",
       "      <td>40.1</td>\n",
       "    </tr>\n",
       "    <tr>\n",
       "      <th>Clear Weather</th>\n",
       "      <td>26269.0</td>\n",
       "      <td>0.841638</td>\n",
       "      <td>0.365087</td>\n",
       "      <td>0.0</td>\n",
       "      <td>1.0</td>\n",
       "      <td>1.0</td>\n",
       "      <td>1.0</td>\n",
       "      <td>1.0</td>\n",
       "    </tr>\n",
       "    <tr>\n",
       "      <th>Cloudy Weather</th>\n",
       "      <td>26269.0</td>\n",
       "      <td>0.095436</td>\n",
       "      <td>0.293821</td>\n",
       "      <td>0.0</td>\n",
       "      <td>0.0</td>\n",
       "      <td>0.0</td>\n",
       "      <td>0.0</td>\n",
       "      <td>1.0</td>\n",
       "    </tr>\n",
       "    <tr>\n",
       "      <th>Drizzle Weather</th>\n",
       "      <td>26269.0</td>\n",
       "      <td>0.045529</td>\n",
       "      <td>0.208465</td>\n",
       "      <td>0.0</td>\n",
       "      <td>0.0</td>\n",
       "      <td>0.0</td>\n",
       "      <td>0.0</td>\n",
       "      <td>1.0</td>\n",
       "    </tr>\n",
       "    <tr>\n",
       "      <th>Rainy Weather</th>\n",
       "      <td>26269.0</td>\n",
       "      <td>0.012905</td>\n",
       "      <td>0.112867</td>\n",
       "      <td>0.0</td>\n",
       "      <td>0.0</td>\n",
       "      <td>0.0</td>\n",
       "      <td>0.0</td>\n",
       "      <td>1.0</td>\n",
       "    </tr>\n",
       "    <tr>\n",
       "      <th>Snowy Weather</th>\n",
       "      <td>26269.0</td>\n",
       "      <td>0.004492</td>\n",
       "      <td>0.066873</td>\n",
       "      <td>0.0</td>\n",
       "      <td>0.0</td>\n",
       "      <td>0.0</td>\n",
       "      <td>0.0</td>\n",
       "      <td>1.0</td>\n",
       "    </tr>\n",
       "    <tr>\n",
       "      <th>Year</th>\n",
       "      <td>26269.0</td>\n",
       "      <td>2022.000266</td>\n",
       "      <td>0.816473</td>\n",
       "      <td>2021.0</td>\n",
       "      <td>2021.0</td>\n",
       "      <td>2022.0</td>\n",
       "      <td>2023.0</td>\n",
       "      <td>2023.0</td>\n",
       "    </tr>\n",
       "    <tr>\n",
       "      <th>Minutes</th>\n",
       "      <td>26269.0</td>\n",
       "      <td>690.231832</td>\n",
       "      <td>415.270780</td>\n",
       "      <td>0.0</td>\n",
       "      <td>360.0</td>\n",
       "      <td>720.0</td>\n",
       "      <td>1080.0</td>\n",
       "      <td>1380.0</td>\n",
       "    </tr>\n",
       "  </tbody>\n",
       "</table>\n",
       "</div>"
      ],
      "text/plain": [
       "                           count         mean         std     min     25%  \\\n",
       "Casual                   26269.0   159.930070  167.330426     0.0    28.0   \n",
       "Hour                     26269.0    11.503864    6.921180     0.0     6.0   \n",
       "Registered               26269.0   247.165632  225.283539     0.0    55.0   \n",
       "Total_rides              26269.0   407.095702  373.005409     1.0    85.0   \n",
       "Relativehumidity_2m (%)  26269.0    62.962846   22.726160     5.0    46.0   \n",
       "Temperature_2m (°C)      26269.0    14.419590   10.282328   -14.6     6.2   \n",
       "Weathercode (wmo code)   26269.0     7.223838   17.623401     0.0     0.0   \n",
       "Windspeed_10m (km/h)     26269.0    10.170330    5.260753     0.0     6.5   \n",
       "Clear Weather            26269.0     0.841638    0.365087     0.0     1.0   \n",
       "Cloudy Weather           26269.0     0.095436    0.293821     0.0     0.0   \n",
       "Drizzle Weather          26269.0     0.045529    0.208465     0.0     0.0   \n",
       "Rainy Weather            26269.0     0.012905    0.112867     0.0     0.0   \n",
       "Snowy Weather            26269.0     0.004492    0.066873     0.0     0.0   \n",
       "Year                     26269.0  2022.000266    0.816473  2021.0  2021.0   \n",
       "Minutes                  26269.0   690.231832  415.270780     0.0   360.0   \n",
       "\n",
       "                            50%     75%     max  \n",
       "Casual                    105.0   237.0  1206.0  \n",
       "Hour                       12.0    18.0    23.0  \n",
       "Registered                203.0   371.0  1534.0  \n",
       "Total_rides               319.0   616.0  2262.0  \n",
       "Relativehumidity_2m (%)    64.0    82.0   100.0  \n",
       "Temperature_2m (°C)        14.8    22.7    41.5  \n",
       "Weathercode (wmo code)      1.0     2.0    75.0  \n",
       "Windspeed_10m (km/h)        9.2    12.9    40.1  \n",
       "Clear Weather               1.0     1.0     1.0  \n",
       "Cloudy Weather              0.0     0.0     1.0  \n",
       "Drizzle Weather             0.0     0.0     1.0  \n",
       "Rainy Weather               0.0     0.0     1.0  \n",
       "Snowy Weather               0.0     0.0     1.0  \n",
       "Year                     2022.0  2023.0  2023.0  \n",
       "Minutes                   720.0  1080.0  1380.0  "
      ]
     },
     "execution_count": 412,
     "metadata": {},
     "output_type": "execute_result"
    }
   ],
   "source": [
    "hourly.describe().T"
   ]
  },
  {
   "cell_type": "markdown",
   "metadata": {},
   "source": [
    "Graphing each independent variable against the variable "
   ]
  },
  {
   "cell_type": "code",
   "execution_count": 413,
   "metadata": {},
   "outputs": [
    {
     "data": {
      "image/png": "[encoded data removed]",
      "text/plain": [
       "<Figure size 640x480 with 1 Axes>"
      ]
     },
     "metadata": {},
     "output_type": "display_data"
    }
   ],
   "source": [
    "\n",
    "# Temperature\n",
    "# plotting Temperature against Total rides\n",
    "plt.scatter(x=hourly[\"Temperature_2m (°C)\"], y=hourly[\"Total_rides\"])\n",
    "plt.title(\"Rides based on Temperature\")\n",
    "plt.ylabel(\"Total_rides\")\n",
    "plt.xlabel(\"Temperature (°C)\")\n",
    "\n",
    "# Fit a linear regression line\n",
    "x = hourly[\"Temperature_2m (°C)\"]\n",
    "y = hourly[\"Total_rides\"]\n",
    "m, b = np.polyfit(x, y, 1)\n",
    "plt.plot(x, m*x + b, color='red')  # adding the linear line\n",
    "\n",
    "plt.show()\n"
   ]
  },
  {
   "cell_type": "code",
   "execution_count": 414,
   "metadata": {},
   "outputs": [
    {
     "data": {
      "image/png": "[encoded data removed]",
      "text/plain": [
       "<Figure size 640x480 with 1 Axes>"
      ]
     },
     "metadata": {},
     "output_type": "display_data"
    }
   ],
   "source": [
    "\n",
    "#Relativehumidity_2m (%)\n",
    "\n",
    "# plotting Relativehumidity_2m (%) against Total rides\n",
    "plt.scatter(x=hourly[\"Relativehumidity_2m (%)\"], y=hourly[\"Total_rides\"])\n",
    "plt.title(\"Rides based on Relative humidity\")\n",
    "plt.ylabel(\"Total_rides\")\n",
    "plt.xlabel(\"Relative humidity_2m (%)\")\n",
    "\n",
    "# Fit a linear regression line\n",
    "x = hourly[\"Relativehumidity_2m (%)\"]\n",
    "y = hourly[\"Total_rides\"]\n",
    "m, b = np.polyfit(x, y, 1)\n",
    "plt.plot(x, m*x + b, color='red')  # adding the linear line\n",
    "\n",
    "plt.show()"
   ]
  },
  {
   "cell_type": "code",
   "execution_count": 415,
   "metadata": {},
   "outputs": [
    {
     "data": {
      "image/png": "[encoded data removed]",
      "text/plain": [
       "<Figure size 640x480 with 1 Axes>"
      ]
     },
     "metadata": {},
     "output_type": "display_data"
    }
   ],
   "source": [
    "# Windspeed\n",
    "# plotting Windspeed_10m (km/h) against Total rides\n",
    "plt.scatter(x=hourly[\"Windspeed_10m (km/h)\"], y=hourly[\"Total_rides\"])\n",
    "plt.title(\"Rides based on Windspeed\")\n",
    "plt.ylabel(\"Total_rides\")\n",
    "plt.xlabel(\"Windspeed_10m (km/h)\")\n",
    "\n",
    "# Fit a linear regression line\n",
    "x = hourly[\"Windspeed_10m (km/h)\"]\n",
    "y = hourly[\"Total_rides\"]\n",
    "m, b = np.polyfit(x, y, 1)\n",
    "plt.plot(x, m*x + b, color='red')  # adding the linear line\n",
    "\n",
    "plt.show()"
   ]
  },
  {
   "cell_type": "code",
   "execution_count": 417,
   "metadata": {},
   "outputs": [
    {
     "data": {
      "image/png": "[encoded data removed]",
      "text/plain": [
       "<Figure size 640x480 with 1 Axes>"
      ]
     },
     "metadata": {},
     "output_type": "display_data"
    }
   ],
   "source": [
    "# plotting Weekdays against Total rides\n",
    "plt.scatter(x=hourly[\"Weekday\"], y=hourly[\"Total_rides\"],)\n",
    "plt.title(\"Rides based on Weekday\")\n",
    "plt.ylabel(\"Total_rides\")\n",
    "plt.xlabel(\"Weekday\")\n",
    "\n",
    "# Fit a linear regression line\n",
    "#x = hourly[\"Weekday\"]\n",
    "#y = hourly[\"Total_rides\"]\n",
    "#m, b = np.polyfit(x, y, 1)\n",
    "#plt.plot(x, m*x + b, color='red')  # adding the linear line\n",
    "\n",
    "plt.show()"
   ]
  },
  {
   "cell_type": "code",
   "execution_count": 419,
   "metadata": {},
   "outputs": [
    {
     "data": {
      "image/png": "[encoded data removed]",
      "text/plain": [
       "<Figure size 640x480 with 1 Axes>"
      ]
     },
     "metadata": {},
     "output_type": "display_data"
    }
   ],
   "source": [
    "# plotting Months against Total rides\n",
    "plt.scatter(x=hourly[\"Month\"], y=hourly[\"Total_rides\"])\n",
    "plt.title(\"Rides based onMonth\")\n",
    "plt.ylabel(\"Total_rides\")\n",
    "plt.xlabel(\"Month\")\n",
    "\n",
    "# Fit a linear regression line\n",
    "#x = hourly[\"Month\"]\n",
    "#y = hourly[\"Total_rides\"]\n",
    "#m, b = np.polyfit(x, y, 1)\n",
    "#plt.plot(x, m*x + b, color='red')  # adding the linear line\n",
    "\n",
    "plt.show()"
   ]
  },
  {
   "cell_type": "markdown",
   "metadata": {},
   "source": [
    "## Data preparation"
   ]
  },
  {
   "cell_type": "markdown",
   "metadata": {},
   "source": [
    "Dropping irrelevant columns"
   ]
  },
  {
   "cell_type": "code",
   "execution_count": null,
   "metadata": {},
   "outputs": [],
   "source": [
    "#Dropping some irrelevant columns\n",
    "\n",
    "columns_to_drop_2 = [\"Casual\", \"Date\", \"Registered\",\"Weather\",\"Weathercode (wmo code)\", \"Clear Weather\", \"Cloudy Weather\", \"Drizzle Weather\", \"Rainy Weather\", \"Snowy Weather\", \"Year\", \"Workingday\", \"Minutes\", \"Season\"]\n",
    "hourly.drop(columns_to_drop_2, axis=1, inplace=True)"
   ]
  },
  {
   "cell_type": "code",
   "execution_count": null,
   "metadata": {},
   "outputs": [
    {
     "data": {
      "text/html": [
       "<div>\n",
       "<style scoped>\n",
       "    .dataframe tbody tr th:only-of-type {\n",
       "        vertical-align: middle;\n",
       "    }\n",
       "\n",
       "    .dataframe tbody tr th {\n",
       "        vertical-align: top;\n",
       "    }\n",
       "\n",
       "    .dataframe thead th {\n",
       "        text-align: right;\n",
       "    }\n",
       "</style>\n",
       "<table border=\"1\" class=\"dataframe\">\n",
       "  <thead>\n",
       "    <tr style=\"text-align: right;\">\n",
       "      <th></th>\n",
       "      <th>Hour</th>\n",
       "      <th>Total_rides</th>\n",
       "      <th>Relativehumidity_2m (%)</th>\n",
       "      <th>Temperature_2m (°C)</th>\n",
       "      <th>Windspeed_10m (km/h)</th>\n",
       "      <th>Weekday</th>\n",
       "      <th>Month</th>\n",
       "    </tr>\n",
       "  </thead>\n",
       "  <tbody>\n",
       "    <tr>\n",
       "      <th>0</th>\n",
       "      <td>0</td>\n",
       "      <td>46.0</td>\n",
       "      <td>90</td>\n",
       "      <td>2.4</td>\n",
       "      <td>10.2</td>\n",
       "      <td>Fri.</td>\n",
       "      <td>Jan.</td>\n",
       "    </tr>\n",
       "    <tr>\n",
       "      <th>1</th>\n",
       "      <td>1</td>\n",
       "      <td>46.0</td>\n",
       "      <td>88</td>\n",
       "      <td>1.8</td>\n",
       "      <td>10.0</td>\n",
       "      <td>Fri.</td>\n",
       "      <td>Jan.</td>\n",
       "    </tr>\n",
       "    <tr>\n",
       "      <th>2</th>\n",
       "      <td>2</td>\n",
       "      <td>48.0</td>\n",
       "      <td>87</td>\n",
       "      <td>1.1</td>\n",
       "      <td>10.1</td>\n",
       "      <td>Fri.</td>\n",
       "      <td>Jan.</td>\n",
       "    </tr>\n",
       "    <tr>\n",
       "      <th>3</th>\n",
       "      <td>3</td>\n",
       "      <td>16.0</td>\n",
       "      <td>81</td>\n",
       "      <td>1.6</td>\n",
       "      <td>10.6</td>\n",
       "      <td>Fri.</td>\n",
       "      <td>Jan.</td>\n",
       "    </tr>\n",
       "    <tr>\n",
       "      <th>4</th>\n",
       "      <td>4</td>\n",
       "      <td>12.0</td>\n",
       "      <td>77</td>\n",
       "      <td>1.6</td>\n",
       "      <td>9.9</td>\n",
       "      <td>Fri.</td>\n",
       "      <td>Jan.</td>\n",
       "    </tr>\n",
       "  </tbody>\n",
       "</table>\n",
       "</div>"
      ],
      "text/plain": [
       "   Hour  Total_rides  Relativehumidity_2m (%)  Temperature_2m (°C)  \\\n",
       "0     0         46.0                       90                  2.4   \n",
       "1     1         46.0                       88                  1.8   \n",
       "2     2         48.0                       87                  1.1   \n",
       "3     3         16.0                       81                  1.6   \n",
       "4     4         12.0                       77                  1.6   \n",
       "\n",
       "   Windspeed_10m (km/h) Weekday Month  \n",
       "0                  10.2    Fri.  Jan.  \n",
       "1                  10.0    Fri.  Jan.  \n",
       "2                  10.1    Fri.  Jan.  \n",
       "3                  10.6    Fri.  Jan.  \n",
       "4                   9.9    Fri.  Jan.  "
      ]
     },
     "execution_count": 286,
     "metadata": {},
     "output_type": "execute_result"
    }
   ],
   "source": [
    "hourly.head()"
   ]
  },
  {
   "cell_type": "code",
   "execution_count": null,
   "metadata": {},
   "outputs": [
    {
     "data": {
      "text/plain": [
       "(26269, 7)"
      ]
     },
     "execution_count": 287,
     "metadata": {},
     "output_type": "execute_result"
    }
   ],
   "source": [
    "hourly.shape"
   ]
  },
  {
   "cell_type": "markdown",
   "metadata": {},
   "source": [
    "Encoding"
   ]
  },
  {
   "cell_type": "code",
   "execution_count": null,
   "metadata": {},
   "outputs": [
    {
     "data": {
      "text/html": [
       "<div>\n",
       "<style scoped>\n",
       "    .dataframe tbody tr th:only-of-type {\n",
       "        vertical-align: middle;\n",
       "    }\n",
       "\n",
       "    .dataframe tbody tr th {\n",
       "        vertical-align: top;\n",
       "    }\n",
       "\n",
       "    .dataframe thead th {\n",
       "        text-align: right;\n",
       "    }\n",
       "</style>\n",
       "<table border=\"1\" class=\"dataframe\">\n",
       "  <thead>\n",
       "    <tr style=\"text-align: right;\">\n",
       "      <th></th>\n",
       "      <th>Hour</th>\n",
       "      <th>Total_rides</th>\n",
       "      <th>Relativehumidity_2m (%)</th>\n",
       "      <th>Temperature_2m (°C)</th>\n",
       "      <th>Windspeed_10m (km/h)</th>\n",
       "      <th>Month_Apr.</th>\n",
       "      <th>Month_Aug.</th>\n",
       "      <th>Month_Dec.</th>\n",
       "      <th>Month_Feb.</th>\n",
       "      <th>Month_Jan.</th>\n",
       "      <th>...</th>\n",
       "      <th>Month_Nov.</th>\n",
       "      <th>Month_Oct.</th>\n",
       "      <th>Month_Sep.</th>\n",
       "      <th>Weekday_Fri.</th>\n",
       "      <th>Weekday_Mon.</th>\n",
       "      <th>Weekday_Sat.</th>\n",
       "      <th>Weekday_Sun.</th>\n",
       "      <th>Weekday_Thur.</th>\n",
       "      <th>Weekday_Tue.</th>\n",
       "      <th>Weekday_Wed.</th>\n",
       "    </tr>\n",
       "  </thead>\n",
       "  <tbody>\n",
       "    <tr>\n",
       "      <th>0</th>\n",
       "      <td>0</td>\n",
       "      <td>46.0</td>\n",
       "      <td>90</td>\n",
       "      <td>2.4</td>\n",
       "      <td>10.2</td>\n",
       "      <td>False</td>\n",
       "      <td>False</td>\n",
       "      <td>False</td>\n",
       "      <td>False</td>\n",
       "      <td>True</td>\n",
       "      <td>...</td>\n",
       "      <td>False</td>\n",
       "      <td>False</td>\n",
       "      <td>False</td>\n",
       "      <td>True</td>\n",
       "      <td>False</td>\n",
       "      <td>False</td>\n",
       "      <td>False</td>\n",
       "      <td>False</td>\n",
       "      <td>False</td>\n",
       "      <td>False</td>\n",
       "    </tr>\n",
       "    <tr>\n",
       "      <th>1</th>\n",
       "      <td>1</td>\n",
       "      <td>46.0</td>\n",
       "      <td>88</td>\n",
       "      <td>1.8</td>\n",
       "      <td>10.0</td>\n",
       "      <td>False</td>\n",
       "      <td>False</td>\n",
       "      <td>False</td>\n",
       "      <td>False</td>\n",
       "      <td>True</td>\n",
       "      <td>...</td>\n",
       "      <td>False</td>\n",
       "      <td>False</td>\n",
       "      <td>False</td>\n",
       "      <td>True</td>\n",
       "      <td>False</td>\n",
       "      <td>False</td>\n",
       "      <td>False</td>\n",
       "      <td>False</td>\n",
       "      <td>False</td>\n",
       "      <td>False</td>\n",
       "    </tr>\n",
       "  </tbody>\n",
       "</table>\n",
       "<p>2 rows × 24 columns</p>\n",
       "</div>"
      ],
      "text/plain": [
       "   Hour  Total_rides  Relativehumidity_2m (%)  Temperature_2m (°C)  \\\n",
       "0     0         46.0                       90                  2.4   \n",
       "1     1         46.0                       88                  1.8   \n",
       "\n",
       "   Windspeed_10m (km/h)  Month_Apr.  Month_Aug.  Month_Dec.  Month_Feb.  \\\n",
       "0                  10.2       False       False       False       False   \n",
       "1                  10.0       False       False       False       False   \n",
       "\n",
       "   Month_Jan.  ...  Month_Nov.  Month_Oct.  Month_Sep.  Weekday_Fri.  \\\n",
       "0        True  ...       False       False       False          True   \n",
       "1        True  ...       False       False       False          True   \n",
       "\n",
       "   Weekday_Mon.  Weekday_Sat.  Weekday_Sun.  Weekday_Thur.  Weekday_Tue.  \\\n",
       "0         False         False         False          False         False   \n",
       "1         False         False         False          False         False   \n",
       "\n",
       "   Weekday_Wed.  \n",
       "0         False  \n",
       "1         False  \n",
       "\n",
       "[2 rows x 24 columns]"
      ]
     },
     "execution_count": 288,
     "metadata": {},
     "output_type": "execute_result"
    }
   ],
   "source": [
    "# Define columns to encode\n",
    "columns_to_encode_2 = [ \"Month\",\"Weekday\"]\n",
    "\n",
    "# Use get_dummies() to encode these columns\n",
    "encoded_hourly = pd.get_dummies(hourly, columns=columns_to_encode_2)\n",
    "\n",
    "# Display the encoded DataFrame\n",
    "encoded_hourly.head(2)\n"
   ]
  },
  {
   "cell_type": "markdown",
   "metadata": {},
   "source": [
    "Converting to integer format"
   ]
  },
  {
   "cell_type": "code",
   "execution_count": null,
   "metadata": {},
   "outputs": [],
   "source": [
    "# Convert boolean encoded data to integer format\n",
    "encoded_hourly_int = encoded_hourly.astype(int)\n"
   ]
  },
  {
   "cell_type": "markdown",
   "metadata": {},
   "source": [
    "Data Seperation as X and y"
   ]
  },
  {
   "cell_type": "code",
   "execution_count": 425,
   "metadata": {},
   "outputs": [
    {
     "name": "stdout",
     "output_type": "stream",
     "text": [
      "(26269,)\n",
      "(26269, 23)\n"
     ]
    }
   ],
   "source": [
    "#dependent variable\n",
    "y=encoded_hourly_int[\"Total_rides\"]\n",
    "# independent varibable\n",
    "X=encoded_hourly_int.drop(\"Total_rides\", axis=1)\n",
    "\n",
    "print(y.shape)\n",
    "print(X.shape)"
   ]
  },
  {
   "cell_type": "markdown",
   "metadata": {},
   "source": [
    "Data Splitting"
   ]
  },
  {
   "cell_type": "code",
   "execution_count": null,
   "metadata": {},
   "outputs": [],
   "source": [
    "X_train, X_test,y_train, y_test = train_test_split(X, y, test_size=0.2, random_state=42)"
   ]
  },
  {
   "cell_type": "markdown",
   "metadata": {},
   "source": [
    "Scaling"
   ]
  },
  {
   "cell_type": "code",
   "execution_count": null,
   "metadata": {},
   "outputs": [],
   "source": [
    "# Initialize the scaler\n",
    "scaler = StandardScaler()\n",
    "\n",
    "# Fit the scaler on the training data and transform both training and testing data\n",
    "X_train_scaled = scaler.fit_transform(X_train)\n",
    "X_test_scaled = scaler.transform(X_test)"
   ]
  },
  {
   "cell_type": "markdown",
   "metadata": {},
   "source": [
    "Model Building"
   ]
  },
  {
   "cell_type": "code",
   "execution_count": null,
   "metadata": {},
   "outputs": [
    {
     "data": {
      "text/html": [
       "<style>#sk-container-id-20 {color: black;}#sk-container-id-20 pre{padding: 0;}#sk-container-id-20 div.sk-toggleable {background-color: white;}#sk-container-id-20 label.sk-toggleable__label {cursor: pointer;display: block;width: 100%;margin-bottom: 0;padding: 0.3em;box-sizing: border-box;text-align: center;}#sk-container-id-20 label.sk-toggleable__label-arrow:before {content: \"▸\";float: left;margin-right: 0.25em;color: #696969;}#sk-container-id-20 label.sk-toggleable__label-arrow:hover:before {color: black;}#sk-container-id-20 div.sk-estimator:hover label.sk-toggleable__label-arrow:before {color: black;}#sk-container-id-20 div.sk-toggleable__content {max-height: 0;max-width: 0;overflow: hidden;text-align: left;background-color: #f0f8ff;}#sk-container-id-20 div.sk-toggleable__content pre {margin: 0.2em;color: black;border-radius: 0.25em;background-color: #f0f8ff;}#sk-container-id-20 input.sk-toggleable__control:checked~div.sk-toggleable__content {max-height: 200px;max-width: 100%;overflow: auto;}#sk-container-id-20 input.sk-toggleable__control:checked~label.sk-toggleable__label-arrow:before {content: \"▾\";}#sk-container-id-20 div.sk-estimator input.sk-toggleable__control:checked~label.sk-toggleable__label {background-color: #d4ebff;}#sk-container-id-20 div.sk-label input.sk-toggleable__control:checked~label.sk-toggleable__label {background-color: #d4ebff;}#sk-container-id-20 input.sk-hidden--visually {border: 0;clip: rect(1px 1px 1px 1px);clip: rect(1px, 1px, 1px, 1px);height: 1px;margin: -1px;overflow: hidden;padding: 0;position: absolute;width: 1px;}#sk-container-id-20 div.sk-estimator {font-family: monospace;background-color: #f0f8ff;border: 1px dotted black;border-radius: 0.25em;box-sizing: border-box;margin-bottom: 0.5em;}#sk-container-id-20 div.sk-estimator:hover {background-color: #d4ebff;}#sk-container-id-20 div.sk-parallel-item::after {content: \"\";width: 100%;border-bottom: 1px solid gray;flex-grow: 1;}#sk-container-id-20 div.sk-label:hover label.sk-toggleable__label {background-color: #d4ebff;}#sk-container-id-20 div.sk-serial::before {content: \"\";position: absolute;border-left: 1px solid gray;box-sizing: border-box;top: 0;bottom: 0;left: 50%;z-index: 0;}#sk-container-id-20 div.sk-serial {display: flex;flex-direction: column;align-items: center;background-color: white;padding-right: 0.2em;padding-left: 0.2em;position: relative;}#sk-container-id-20 div.sk-item {position: relative;z-index: 1;}#sk-container-id-20 div.sk-parallel {display: flex;align-items: stretch;justify-content: center;background-color: white;position: relative;}#sk-container-id-20 div.sk-item::before, #sk-container-id-20 div.sk-parallel-item::before {content: \"\";position: absolute;border-left: 1px solid gray;box-sizing: border-box;top: 0;bottom: 0;left: 50%;z-index: -1;}#sk-container-id-20 div.sk-parallel-item {display: flex;flex-direction: column;z-index: 1;position: relative;background-color: white;}#sk-container-id-20 div.sk-parallel-item:first-child::after {align-self: flex-end;width: 50%;}#sk-container-id-20 div.sk-parallel-item:last-child::after {align-self: flex-start;width: 50%;}#sk-container-id-20 div.sk-parallel-item:only-child::after {width: 0;}#sk-container-id-20 div.sk-dashed-wrapped {border: 1px dashed gray;margin: 0 0.4em 0.5em 0.4em;box-sizing: border-box;padding-bottom: 0.4em;background-color: white;}#sk-container-id-20 div.sk-label label {font-family: monospace;font-weight: bold;display: inline-block;line-height: 1.2em;}#sk-container-id-20 div.sk-label-container {text-align: center;}#sk-container-id-20 div.sk-container {/* jupyter's `normalize.less` sets `[hidden] { display: none; }` but bootstrap.min.css set `[hidden] { display: none !important; }` so we also need the `!important` here to be able to override the default hidden behavior on the sphinx rendered scikit-learn.org. See: https://github.com/scikit-learn/scikit-learn/issues/21755 */display: inline-block !important;position: relative;}#sk-container-id-20 div.sk-text-repr-fallback {display: none;}</style><div id=\"sk-container-id-20\" class=\"sk-top-container\"><div class=\"sk-text-repr-fallback\"><pre>LinearRegression()</pre><b>In a Jupyter environment, please rerun this cell to show the HTML representation or trust the notebook. <br />On GitHub, the HTML representation is unable to render, please try loading this page with nbviewer.org.</b></div><div class=\"sk-container\" hidden><div class=\"sk-item\"><div class=\"sk-estimator sk-toggleable\"><input class=\"sk-toggleable__control sk-hidden--visually\" id=\"sk-estimator-id-20\" type=\"checkbox\" checked><label for=\"sk-estimator-id-20\" class=\"sk-toggleable__label sk-toggleable__label-arrow\">LinearRegression</label><div class=\"sk-toggleable__content\"><pre>LinearRegression()</pre></div></div></div></div></div>"
      ],
      "text/plain": [
       "LinearRegression()"
      ]
     },
     "execution_count": 294,
     "metadata": {},
     "output_type": "execute_result"
    }
   ],
   "source": [
    "lr=LinearRegression()\n",
    "lr.fit(X_train_scaled,y_train)"
   ]
  },
  {
   "cell_type": "markdown",
   "metadata": {},
   "source": [
    "Applying the model to make prediction"
   ]
  },
  {
   "cell_type": "code",
   "execution_count": null,
   "metadata": {},
   "outputs": [],
   "source": [
    "y_pred = lr.predict(X_test_scaled)\n",
    "y_train_pred=lr.predict(X_train_scaled)"
   ]
  },
  {
   "cell_type": "code",
   "execution_count": null,
   "metadata": {},
   "outputs": [
    {
     "data": {
      "text/plain": [
       "array([741.66764293, 437.24453092, 621.9595843 , ..., 174.73009044,\n",
       "       827.88289043, 236.73109292])"
      ]
     },
     "execution_count": 296,
     "metadata": {},
     "output_type": "execute_result"
    }
   ],
   "source": [
    "y_pred"
   ]
  },
  {
   "cell_type": "markdown",
   "metadata": {},
   "source": [
    "Model Evaluation"
   ]
  },
  {
   "cell_type": "markdown",
   "metadata": {},
   "source": [
    "Linear regression"
   ]
  },
  {
   "cell_type": "code",
   "execution_count": null,
   "metadata": {},
   "outputs": [
    {
     "name": "stdout",
     "output_type": "stream",
     "text": [
      "84827.69883564301\n",
      "0.38720818082573205\n"
     ]
    }
   ],
   "source": [
    "# Evaluate the model\n",
    "mse = mean_squared_error(y_test, y_pred)\n",
    "lr_test_r2=r2_score(y_test,y_pred)\n",
    "print(mse)\n",
    "print(lr_test_r2)"
   ]
  },
  {
   "cell_type": "markdown",
   "metadata": {},
   "source": [
    "Polynomial regression "
   ]
  },
  {
   "cell_type": "code",
   "execution_count": null,
   "metadata": {},
   "outputs": [
    {
     "name": "stdout",
     "output_type": "stream",
     "text": [
      "Training Set - Mean Squared Error: 40206.05028988678\n",
      "Training Set - R2 Score: 0.7113749843664233\n",
      "Test Set - Mean Squared Error: 39679.363596691874\n",
      "Test Set - R2 Score: 0.7133579038940374\n"
     ]
    }
   ],
   "source": [
    "# Polynomial features transformation\n",
    "poly_features = PolynomialFeatures(degree=3, include_bias=False)\n",
    "X_train_poly = poly_features.fit_transform(X_train)\n",
    "\n",
    "# Train polynomial regression model\n",
    "poly_reg = LinearRegression()\n",
    "poly_reg.fit(X_train_poly, y_train)\n",
    "\n",
    "# Make predictions on the training data\n",
    "y_train_predicted = poly_reg.predict(X_train_poly)\n",
    "\n",
    "# Evaluate model performance on training data\n",
    "mse_train = mean_squared_error(y_train, y_train_predicted)\n",
    "r2_train = r2_score(y_train, y_train_predicted)\n",
    "print(\"Training Set - Mean Squared Error:\", mse_train)\n",
    "print(\"Training Set - R2 Score:\", r2_train)\n",
    "\n",
    "# Visualize the polynomial regression model\n",
    "#plt.scatter(X_train, y_train, color='blue', label='Training data')\n",
    "#plt.plot(X_train, y_train_predicted, color='red', label='Polynomial regression')\n",
    "#plt.title('Polynomial Regression')\n",
    "#plt.xlabel('X')\n",
    "#plt.ylabel('y')\n",
    "#plt.legend()\n",
    "#plt.show()\n",
    "\n",
    "# Transform and Make predictions on the testing data\n",
    "X_test_poly = poly_features.transform(X_test)\n",
    "y_test_predicted = poly_reg.predict(X_test_poly)\n",
    "\n",
    "# Evaluate model performance on test data\n",
    "mse_test = mean_squared_error(y_test, y_test_predicted)\n",
    "r2_test = r2_score(y_test, y_test_predicted)\n",
    "print(\"Test Set - Mean Squared Error:\", mse_test)\n",
    "print(\"Test Set - R2 Score:\", r2_test)"
   ]
  },
  {
   "cell_type": "markdown",
   "metadata": {},
   "source": [
    "Other Algorithms"
   ]
  },
  {
   "cell_type": "code",
   "execution_count": null,
   "metadata": {},
   "outputs": [
    {
     "name": "stdout",
     "output_type": "stream",
     "text": [
      "LinearRegression - MSE: 84827.69883564301\n",
      "LinearRegression - R2: 0.38720818082573205\n",
      " \n"
     ]
    },
    {
     "name": "stdout",
     "output_type": "stream",
     "text": [
      "Ridge - MSE: 84827.34571264421\n",
      "Ridge - R2: 0.3872107317718003\n",
      " \n",
      "Lasso - MSE: 84716.79785059058\n",
      "Lasso - R2: 0.38800932499575336\n",
      " \n",
      "RandomForestRegressor - MSE: 17322.8460537057\n",
      "RandomForestRegressor - R2: 0.8748604701974333\n",
      " \n",
      "GradientBoostingRegressor - MSE: 31239.39843097333\n",
      "GradientBoostingRegressor - R2: 0.7743278662843759\n",
      " \n"
     ]
    }
   ],
   "source": [
    "from sklearn.linear_model import LinearRegression, Ridge, Lasso\n",
    "from sklearn.ensemble import RandomForestRegressor, GradientBoostingRegressor\n",
    "from sklearn.metrics import mean_squared_error\n",
    "\n",
    "\n",
    "# Split the data into training and testing sets\n",
    "X_train, X_test, y_train, y_test = train_test_split(X,y, test_size=0.2, random_state=42)\n",
    "\n",
    "# Define a list of regression algorithms\n",
    "algorithms = [\n",
    "    LinearRegression(),\n",
    "    Ridge(),\n",
    "    Lasso(),\n",
    "    RandomForestRegressor(),\n",
    "    GradientBoostingRegressor()\n",
    "]\n",
    "\n",
    "# Iterate over each algorithm, train it, make predictions, and evaluate performance\n",
    "for algorithm in algorithms:\n",
    "    # Train the algorithm\n",
    "    algorithm.fit(X_train, y_train)\n",
    "    \n",
    "    # Make predictions\n",
    "    y_pred = algorithm.predict(X_test)\n",
    "    \n",
    "    # Evaluate performance (using Mean Squared Error in this example)\n",
    "    mse = mean_squared_error(y_test, y_pred)\n",
    "    r2=r2_score(y_test,y_pred)\n",
    "    \n",
    "    # Print the name of the algorithm and its performance\n",
    "    print(f\"{algorithm.__class__.__name__} - MSE: {mse}\")\n",
    "    print(f\"{algorithm.__class__.__name__} - R2: {r2}\")\n",
    "    print(\" \") # print an empty line\n"
   ]
  },
  {
   "cell_type": "markdown",
   "metadata": {},
   "source": [
    "## Peak Hours for Working days and Weekends"
   ]
  },
  {
   "cell_type": "markdown",
   "metadata": {},
   "source": [
    "Data Frame for Morning Rush during working days"
   ]
  },
  {
   "cell_type": "code",
   "execution_count": null,
   "metadata": {},
   "outputs": [
    {
     "data": {
      "text/html": [
       "<div>\n",
       "<style scoped>\n",
       "    .dataframe tbody tr th:only-of-type {\n",
       "        vertical-align: middle;\n",
       "    }\n",
       "\n",
       "    .dataframe tbody tr th {\n",
       "        vertical-align: top;\n",
       "    }\n",
       "\n",
       "    .dataframe thead th {\n",
       "        text-align: right;\n",
       "    }\n",
       "</style>\n",
       "<table border=\"1\" class=\"dataframe\">\n",
       "  <thead>\n",
       "    <tr style=\"text-align: right;\">\n",
       "      <th></th>\n",
       "      <th>Hour</th>\n",
       "      <th>Total_rides</th>\n",
       "      <th>Relativehumidity_2m (%)</th>\n",
       "      <th>Temperature_2m (°C)</th>\n",
       "      <th>Windspeed_10m (km/h)</th>\n",
       "      <th>Weekday</th>\n",
       "      <th>Month</th>\n",
       "    </tr>\n",
       "  </thead>\n",
       "  <tbody>\n",
       "    <tr>\n",
       "      <th>0</th>\n",
       "      <td>5</td>\n",
       "      <td>14.0</td>\n",
       "      <td>75</td>\n",
       "      <td>1.4</td>\n",
       "      <td>8.7</td>\n",
       "      <td>Fri.</td>\n",
       "      <td>Jan.</td>\n",
       "    </tr>\n",
       "    <tr>\n",
       "      <th>1</th>\n",
       "      <td>6</td>\n",
       "      <td>26.0</td>\n",
       "      <td>72</td>\n",
       "      <td>1.4</td>\n",
       "      <td>8.9</td>\n",
       "      <td>Fri.</td>\n",
       "      <td>Jan.</td>\n",
       "    </tr>\n",
       "    <tr>\n",
       "      <th>2</th>\n",
       "      <td>7</td>\n",
       "      <td>27.0</td>\n",
       "      <td>71</td>\n",
       "      <td>1.4</td>\n",
       "      <td>7.9</td>\n",
       "      <td>Fri.</td>\n",
       "      <td>Jan.</td>\n",
       "    </tr>\n",
       "    <tr>\n",
       "      <th>3</th>\n",
       "      <td>8</td>\n",
       "      <td>55.0</td>\n",
       "      <td>71</td>\n",
       "      <td>1.4</td>\n",
       "      <td>7.1</td>\n",
       "      <td>Fri.</td>\n",
       "      <td>Jan.</td>\n",
       "    </tr>\n",
       "    <tr>\n",
       "      <th>4</th>\n",
       "      <td>9</td>\n",
       "      <td>76.0</td>\n",
       "      <td>70</td>\n",
       "      <td>1.6</td>\n",
       "      <td>7.2</td>\n",
       "      <td>Fri.</td>\n",
       "      <td>Jan.</td>\n",
       "    </tr>\n",
       "    <tr>\n",
       "      <th>5</th>\n",
       "      <td>5</td>\n",
       "      <td>29.0</td>\n",
       "      <td>96</td>\n",
       "      <td>1.3</td>\n",
       "      <td>9.7</td>\n",
       "      <td>Mon.</td>\n",
       "      <td>Jan.</td>\n",
       "    </tr>\n",
       "    <tr>\n",
       "      <th>6</th>\n",
       "      <td>6</td>\n",
       "      <td>62.0</td>\n",
       "      <td>96</td>\n",
       "      <td>0.9</td>\n",
       "      <td>8.7</td>\n",
       "      <td>Mon.</td>\n",
       "      <td>Jan.</td>\n",
       "    </tr>\n",
       "    <tr>\n",
       "      <th>7</th>\n",
       "      <td>7</td>\n",
       "      <td>159.0</td>\n",
       "      <td>95</td>\n",
       "      <td>0.6</td>\n",
       "      <td>8.3</td>\n",
       "      <td>Mon.</td>\n",
       "      <td>Jan.</td>\n",
       "    </tr>\n",
       "    <tr>\n",
       "      <th>8</th>\n",
       "      <td>8</td>\n",
       "      <td>172.0</td>\n",
       "      <td>95</td>\n",
       "      <td>0.4</td>\n",
       "      <td>7.4</td>\n",
       "      <td>Mon.</td>\n",
       "      <td>Jan.</td>\n",
       "    </tr>\n",
       "    <tr>\n",
       "      <th>9</th>\n",
       "      <td>9</td>\n",
       "      <td>120.0</td>\n",
       "      <td>94</td>\n",
       "      <td>0.7</td>\n",
       "      <td>7.1</td>\n",
       "      <td>Mon.</td>\n",
       "      <td>Jan.</td>\n",
       "    </tr>\n",
       "  </tbody>\n",
       "</table>\n",
       "</div>"
      ],
      "text/plain": [
       "   Hour  Total_rides  Relativehumidity_2m (%)  Temperature_2m (°C)  \\\n",
       "0     5         14.0                       75                  1.4   \n",
       "1     6         26.0                       72                  1.4   \n",
       "2     7         27.0                       71                  1.4   \n",
       "3     8         55.0                       71                  1.4   \n",
       "4     9         76.0                       70                  1.6   \n",
       "5     5         29.0                       96                  1.3   \n",
       "6     6         62.0                       96                  0.9   \n",
       "7     7        159.0                       95                  0.6   \n",
       "8     8        172.0                       95                  0.4   \n",
       "9     9        120.0                       94                  0.7   \n",
       "\n",
       "   Windspeed_10m (km/h) Weekday Month  \n",
       "0                   8.7    Fri.  Jan.  \n",
       "1                   8.9    Fri.  Jan.  \n",
       "2                   7.9    Fri.  Jan.  \n",
       "3                   7.1    Fri.  Jan.  \n",
       "4                   7.2    Fri.  Jan.  \n",
       "5                   9.7    Mon.  Jan.  \n",
       "6                   8.7    Mon.  Jan.  \n",
       "7                   8.3    Mon.  Jan.  \n",
       "8                   7.4    Mon.  Jan.  \n",
       "9                   7.1    Mon.  Jan.  "
      ]
     },
     "execution_count": 300,
     "metadata": {},
     "output_type": "execute_result"
    }
   ],
   "source": [
    "\n",
    "# Filter for peak hours from 5 AM to 9 AM\n",
    "peak_hours = hourly[(hourly['Hour'] >= 5) & (hourly['Hour'] <= 9)]\n",
    "\n",
    "# Filter for working days (Monday to Friday)\n",
    "morning_working_days = peak_hours[peak_hours['Weekday'].isin(['Mon.', 'Tue.', 'Wed.', 'Thu.', 'Fri.'])]\n",
    "\n",
    "# resetting index\n",
    "morning_working_days.reset_index(drop=True, inplace=True)\n",
    "\n",
    "#display\n",
    "morning_working_days.head(10)"
   ]
  },
  {
   "cell_type": "markdown",
   "metadata": {},
   "source": [
    "Data frame for evening Rush during working days"
   ]
  },
  {
   "cell_type": "code",
   "execution_count": null,
   "metadata": {},
   "outputs": [
    {
     "data": {
      "text/html": [
       "<div>\n",
       "<style scoped>\n",
       "    .dataframe tbody tr th:only-of-type {\n",
       "        vertical-align: middle;\n",
       "    }\n",
       "\n",
       "    .dataframe tbody tr th {\n",
       "        vertical-align: top;\n",
       "    }\n",
       "\n",
       "    .dataframe thead th {\n",
       "        text-align: right;\n",
       "    }\n",
       "</style>\n",
       "<table border=\"1\" class=\"dataframe\">\n",
       "  <thead>\n",
       "    <tr style=\"text-align: right;\">\n",
       "      <th></th>\n",
       "      <th>Hour</th>\n",
       "      <th>Total_rides</th>\n",
       "      <th>Relativehumidity_2m (%)</th>\n",
       "      <th>Temperature_2m (°C)</th>\n",
       "      <th>Windspeed_10m (km/h)</th>\n",
       "      <th>Weekday</th>\n",
       "      <th>Month</th>\n",
       "    </tr>\n",
       "  </thead>\n",
       "  <tbody>\n",
       "    <tr>\n",
       "      <th>0</th>\n",
       "      <td>17</td>\n",
       "      <td>19.0</td>\n",
       "      <td>95</td>\n",
       "      <td>2.5</td>\n",
       "      <td>8.7</td>\n",
       "      <td>Fri.</td>\n",
       "      <td>Jan.</td>\n",
       "    </tr>\n",
       "    <tr>\n",
       "      <th>1</th>\n",
       "      <td>18</td>\n",
       "      <td>15.0</td>\n",
       "      <td>96</td>\n",
       "      <td>2.7</td>\n",
       "      <td>8.5</td>\n",
       "      <td>Fri.</td>\n",
       "      <td>Jan.</td>\n",
       "    </tr>\n",
       "    <tr>\n",
       "      <th>2</th>\n",
       "      <td>19</td>\n",
       "      <td>9.0</td>\n",
       "      <td>97</td>\n",
       "      <td>3.0</td>\n",
       "      <td>6.1</td>\n",
       "      <td>Fri.</td>\n",
       "      <td>Jan.</td>\n",
       "    </tr>\n",
       "    <tr>\n",
       "      <th>3</th>\n",
       "      <td>20</td>\n",
       "      <td>16.0</td>\n",
       "      <td>97</td>\n",
       "      <td>3.5</td>\n",
       "      <td>5.0</td>\n",
       "      <td>Fri.</td>\n",
       "      <td>Jan.</td>\n",
       "    </tr>\n",
       "    <tr>\n",
       "      <th>4</th>\n",
       "      <td>21</td>\n",
       "      <td>14.0</td>\n",
       "      <td>98</td>\n",
       "      <td>4.1</td>\n",
       "      <td>3.7</td>\n",
       "      <td>Fri.</td>\n",
       "      <td>Jan.</td>\n",
       "    </tr>\n",
       "    <tr>\n",
       "      <th>5</th>\n",
       "      <td>17</td>\n",
       "      <td>291.0</td>\n",
       "      <td>65</td>\n",
       "      <td>7.3</td>\n",
       "      <td>4.4</td>\n",
       "      <td>Mon.</td>\n",
       "      <td>Jan.</td>\n",
       "    </tr>\n",
       "    <tr>\n",
       "      <th>6</th>\n",
       "      <td>18</td>\n",
       "      <td>229.0</td>\n",
       "      <td>70</td>\n",
       "      <td>6.7</td>\n",
       "      <td>4.5</td>\n",
       "      <td>Mon.</td>\n",
       "      <td>Jan.</td>\n",
       "    </tr>\n",
       "    <tr>\n",
       "      <th>7</th>\n",
       "      <td>19</td>\n",
       "      <td>141.0</td>\n",
       "      <td>77</td>\n",
       "      <td>5.9</td>\n",
       "      <td>4.8</td>\n",
       "      <td>Mon.</td>\n",
       "      <td>Jan.</td>\n",
       "    </tr>\n",
       "    <tr>\n",
       "      <th>8</th>\n",
       "      <td>20</td>\n",
       "      <td>93.0</td>\n",
       "      <td>83</td>\n",
       "      <td>5.1</td>\n",
       "      <td>5.3</td>\n",
       "      <td>Mon.</td>\n",
       "      <td>Jan.</td>\n",
       "    </tr>\n",
       "    <tr>\n",
       "      <th>9</th>\n",
       "      <td>21</td>\n",
       "      <td>74.0</td>\n",
       "      <td>86</td>\n",
       "      <td>4.7</td>\n",
       "      <td>5.4</td>\n",
       "      <td>Mon.</td>\n",
       "      <td>Jan.</td>\n",
       "    </tr>\n",
       "  </tbody>\n",
       "</table>\n",
       "</div>"
      ],
      "text/plain": [
       "   Hour  Total_rides  Relativehumidity_2m (%)  Temperature_2m (°C)  \\\n",
       "0    17         19.0                       95                  2.5   \n",
       "1    18         15.0                       96                  2.7   \n",
       "2    19          9.0                       97                  3.0   \n",
       "3    20         16.0                       97                  3.5   \n",
       "4    21         14.0                       98                  4.1   \n",
       "5    17        291.0                       65                  7.3   \n",
       "6    18        229.0                       70                  6.7   \n",
       "7    19        141.0                       77                  5.9   \n",
       "8    20         93.0                       83                  5.1   \n",
       "9    21         74.0                       86                  4.7   \n",
       "\n",
       "   Windspeed_10m (km/h) Weekday Month  \n",
       "0                   8.7    Fri.  Jan.  \n",
       "1                   8.5    Fri.  Jan.  \n",
       "2                   6.1    Fri.  Jan.  \n",
       "3                   5.0    Fri.  Jan.  \n",
       "4                   3.7    Fri.  Jan.  \n",
       "5                   4.4    Mon.  Jan.  \n",
       "6                   4.5    Mon.  Jan.  \n",
       "7                   4.8    Mon.  Jan.  \n",
       "8                   5.3    Mon.  Jan.  \n",
       "9                   5.4    Mon.  Jan.  "
      ]
     },
     "execution_count": 301,
     "metadata": {},
     "output_type": "execute_result"
    }
   ],
   "source": [
    "\n",
    "# Filter for peak hours from 17:00 to 21:00\n",
    "peak_hours = hourly[(hourly['Hour'] >= 17) & (hourly['Hour'] <= 21)]\n",
    "\n",
    "# Filter for working days (Monday to Friday)\n",
    "evening_working_days = peak_hours[peak_hours['Weekday'].isin(['Mon.', 'Tue.', 'Wed.', 'Thu.', 'Fri.'])]\n",
    "\n",
    "# resetting index\n",
    "evening_working_days.reset_index(drop=True, inplace=True)\n",
    "\n",
    "#display\n",
    "evening_working_days.head(10)"
   ]
  },
  {
   "cell_type": "markdown",
   "metadata": {},
   "source": [
    "Data Frame for Rush hours during Weekends"
   ]
  },
  {
   "cell_type": "code",
   "execution_count": null,
   "metadata": {},
   "outputs": [
    {
     "data": {
      "text/html": [
       "<div>\n",
       "<style scoped>\n",
       "    .dataframe tbody tr th:only-of-type {\n",
       "        vertical-align: middle;\n",
       "    }\n",
       "\n",
       "    .dataframe tbody tr th {\n",
       "        vertical-align: top;\n",
       "    }\n",
       "\n",
       "    .dataframe thead th {\n",
       "        text-align: right;\n",
       "    }\n",
       "</style>\n",
       "<table border=\"1\" class=\"dataframe\">\n",
       "  <thead>\n",
       "    <tr style=\"text-align: right;\">\n",
       "      <th></th>\n",
       "      <th>Hour</th>\n",
       "      <th>Total_rides</th>\n",
       "      <th>Relativehumidity_2m (%)</th>\n",
       "      <th>Temperature_2m (°C)</th>\n",
       "      <th>Windspeed_10m (km/h)</th>\n",
       "      <th>Weekday</th>\n",
       "      <th>Month</th>\n",
       "    </tr>\n",
       "  </thead>\n",
       "  <tbody>\n",
       "    <tr>\n",
       "      <th>0</th>\n",
       "      <td>10</td>\n",
       "      <td>257.0</td>\n",
       "      <td>97</td>\n",
       "      <td>7.7</td>\n",
       "      <td>8.5</td>\n",
       "      <td>Sat.</td>\n",
       "      <td>Jan.</td>\n",
       "    </tr>\n",
       "    <tr>\n",
       "      <th>1</th>\n",
       "      <td>11</td>\n",
       "      <td>415.0</td>\n",
       "      <td>93</td>\n",
       "      <td>9.5</td>\n",
       "      <td>9.4</td>\n",
       "      <td>Sat.</td>\n",
       "      <td>Jan.</td>\n",
       "    </tr>\n",
       "    <tr>\n",
       "      <th>2</th>\n",
       "      <td>12</td>\n",
       "      <td>632.0</td>\n",
       "      <td>80</td>\n",
       "      <td>11.2</td>\n",
       "      <td>11.2</td>\n",
       "      <td>Sat.</td>\n",
       "      <td>Jan.</td>\n",
       "    </tr>\n",
       "    <tr>\n",
       "      <th>3</th>\n",
       "      <td>13</td>\n",
       "      <td>744.0</td>\n",
       "      <td>66</td>\n",
       "      <td>11.9</td>\n",
       "      <td>14.9</td>\n",
       "      <td>Sat.</td>\n",
       "      <td>Jan.</td>\n",
       "    </tr>\n",
       "    <tr>\n",
       "      <th>4</th>\n",
       "      <td>14</td>\n",
       "      <td>831.0</td>\n",
       "      <td>62</td>\n",
       "      <td>11.8</td>\n",
       "      <td>19.1</td>\n",
       "      <td>Sat.</td>\n",
       "      <td>Jan.</td>\n",
       "    </tr>\n",
       "    <tr>\n",
       "      <th>5</th>\n",
       "      <td>15</td>\n",
       "      <td>756.0</td>\n",
       "      <td>63</td>\n",
       "      <td>12.4</td>\n",
       "      <td>17.0</td>\n",
       "      <td>Sat.</td>\n",
       "      <td>Jan.</td>\n",
       "    </tr>\n",
       "    <tr>\n",
       "      <th>6</th>\n",
       "      <td>16</td>\n",
       "      <td>590.0</td>\n",
       "      <td>63</td>\n",
       "      <td>11.8</td>\n",
       "      <td>15.9</td>\n",
       "      <td>Sat.</td>\n",
       "      <td>Jan.</td>\n",
       "    </tr>\n",
       "    <tr>\n",
       "      <th>7</th>\n",
       "      <td>10</td>\n",
       "      <td>148.0</td>\n",
       "      <td>93</td>\n",
       "      <td>3.5</td>\n",
       "      <td>9.4</td>\n",
       "      <td>Sun.</td>\n",
       "      <td>Jan.</td>\n",
       "    </tr>\n",
       "    <tr>\n",
       "      <th>8</th>\n",
       "      <td>11</td>\n",
       "      <td>176.0</td>\n",
       "      <td>92</td>\n",
       "      <td>3.9</td>\n",
       "      <td>11.8</td>\n",
       "      <td>Sun.</td>\n",
       "      <td>Jan.</td>\n",
       "    </tr>\n",
       "    <tr>\n",
       "      <th>9</th>\n",
       "      <td>12</td>\n",
       "      <td>175.0</td>\n",
       "      <td>91</td>\n",
       "      <td>4.4</td>\n",
       "      <td>10.8</td>\n",
       "      <td>Sun.</td>\n",
       "      <td>Jan.</td>\n",
       "    </tr>\n",
       "  </tbody>\n",
       "</table>\n",
       "</div>"
      ],
      "text/plain": [
       "   Hour  Total_rides  Relativehumidity_2m (%)  Temperature_2m (°C)  \\\n",
       "0    10        257.0                       97                  7.7   \n",
       "1    11        415.0                       93                  9.5   \n",
       "2    12        632.0                       80                 11.2   \n",
       "3    13        744.0                       66                 11.9   \n",
       "4    14        831.0                       62                 11.8   \n",
       "5    15        756.0                       63                 12.4   \n",
       "6    16        590.0                       63                 11.8   \n",
       "7    10        148.0                       93                  3.5   \n",
       "8    11        176.0                       92                  3.9   \n",
       "9    12        175.0                       91                  4.4   \n",
       "\n",
       "   Windspeed_10m (km/h) Weekday Month  \n",
       "0                   8.5    Sat.  Jan.  \n",
       "1                   9.4    Sat.  Jan.  \n",
       "2                  11.2    Sat.  Jan.  \n",
       "3                  14.9    Sat.  Jan.  \n",
       "4                  19.1    Sat.  Jan.  \n",
       "5                  17.0    Sat.  Jan.  \n",
       "6                  15.9    Sat.  Jan.  \n",
       "7                   9.4    Sun.  Jan.  \n",
       "8                  11.8    Sun.  Jan.  \n",
       "9                  10.8    Sun.  Jan.  "
      ]
     },
     "execution_count": 302,
     "metadata": {},
     "output_type": "execute_result"
    }
   ],
   "source": [
    "\n",
    "# Filter for peak hours from 10:00 to 16:00 at weekend\n",
    "peak_hours = hourly[(hourly['Hour'] >= 10) & (hourly['Hour'] <= 16)]\n",
    "\n",
    "# Filter for working days (Monday to Friday)\n",
    "peak_weekend = peak_hours[peak_hours['Weekday'].isin(['Sat.', 'Sun.'])]\n",
    "\n",
    "# resetting index\n",
    "peak_weekend.reset_index(drop=True, inplace=True)\n",
    "\n",
    "#display\n",
    "peak_weekend.head(10)"
   ]
  },
  {
   "cell_type": "markdown",
   "metadata": {},
   "source": [
    "## Encoding of Peak hours Data frame"
   ]
  },
  {
   "cell_type": "code",
   "execution_count": null,
   "metadata": {},
   "outputs": [],
   "source": [
    "#morning rush during working days\n",
    "# Define columns to encode\n",
    "columns_to_encode_3 = [ \"Month\",\"Weekday\"]\n",
    "\n",
    "# Use get_dummies() to encode these columns\n",
    "encoded_morning_working_days = pd.get_dummies(morning_working_days, columns=columns_to_encode_3)\n",
    "\n",
    "\n",
    "#Evening rush during working days\n",
    "# Define columns to encode\n",
    "columns_to_encode_4 = [ \"Month\",\"Weekday\"]\n",
    "\n",
    "# Use get_dummies() to encode these columns\n",
    "encoded_evening_working_days = pd.get_dummies(evening_working_days, columns=columns_to_encode_4)\n",
    "\n",
    "\n",
    "#peak rush during weekend\n",
    "# Define columns to encode\n",
    "columns_to_encode_5 = [ \"Month\",\"Weekday\"]\n",
    "\n",
    "# Use get_dummies() to encode these columns\n",
    "encoded_peak_weekend = pd.get_dummies(peak_weekend, columns=columns_to_encode_5)\n",
    "\n",
    "\n",
    "\n"
   ]
  },
  {
   "cell_type": "markdown",
   "metadata": {},
   "source": [
    "Converting to integer format"
   ]
  },
  {
   "cell_type": "code",
   "execution_count": null,
   "metadata": {},
   "outputs": [],
   "source": [
    "# Convert boolean encoded data to integer format\n",
    "\n",
    "encoded_morning_working_days_int = encoded_morning_working_days.astype(int)\n",
    "\n",
    "encoded_evening_working_days_int = encoded_evening_working_days.astype(int)\n",
    "\n",
    "encoded_peak_weekend_int = encoded_peak_weekend.astype(int)\n",
    "\n"
   ]
  },
  {
   "cell_type": "markdown",
   "metadata": {},
   "source": [
    "Data Seperation as X and y"
   ]
  },
  {
   "cell_type": "code",
   "execution_count": null,
   "metadata": {},
   "outputs": [
    {
     "name": "stdout",
     "output_type": "stream",
     "text": [
      "(3125, 20)\n",
      "(3125,)\n",
      " \n",
      "(3125, 20)\n",
      "(3125,)\n",
      " \n",
      "(2198, 18)\n",
      "(2198,)\n"
     ]
    }
   ],
   "source": [
    "# morning rush working day\n",
    "#dependent variable\n",
    "morning_y=encoded_morning_working_days_int[\"Total_rides\"]\n",
    "\n",
    "# independent varibable\n",
    "morning_X=encoded_morning_working_days_int.drop(\"Total_rides\", axis=1)\n",
    "print(morning_X.shape)\n",
    "print(morning_y.shape)\n",
    "print(\" \") #empty line\n",
    "\n",
    "# evening rush working day\n",
    "#dependent variable\n",
    "evening_y=encoded_evening_working_days_int[\"Total_rides\"]\n",
    "\n",
    "# independent varibable\n",
    "evening_X=encoded_evening_working_days_int.drop(\"Total_rides\", axis=1)\n",
    "print(evening_X.shape)\n",
    "print(evening_y.shape)\n",
    "print(\" \") #empty line\n",
    "\n",
    "# Peak hours weekend\n",
    "#dependent variable\n",
    "peak_weekend_y=encoded_peak_weekend_int[\"Total_rides\"]\n",
    "\n",
    "# independent varibable\n",
    "peak_weekend_X=encoded_peak_weekend_int.drop(\"Total_rides\", axis=1)\n",
    "print(peak_weekend_X.shape)\n",
    "print(peak_weekend_y.shape)"
   ]
  },
  {
   "cell_type": "markdown",
   "metadata": {},
   "source": [
    "Data Spliting"
   ]
  },
  {
   "cell_type": "code",
   "execution_count": null,
   "metadata": {},
   "outputs": [],
   "source": [
    "## morning rush hour\n",
    "morning_X_train, morning_X_test,morning_y_train, morning_y_test = train_test_split(morning_X, morning_y, test_size=0.2, random_state=42)\n",
    "\n",
    "## eveninng rush hour\n",
    "evening_X_train, evening_X_test,evening_y_train, evening_y_test = train_test_split(evening_X, evening_y, test_size=0.2, random_state=42)\n",
    "\n",
    "# Peak hours weekend \n",
    "peak_weekend_X_train, peak_weekend_X_test,peak_weekend_y_train, peak_weekend_y_test = train_test_split(peak_weekend_X, peak_weekend_y, test_size=0.2, random_state=42)"
   ]
  },
  {
   "cell_type": "markdown",
   "metadata": {},
   "source": [
    "## Model"
   ]
  },
  {
   "cell_type": "markdown",
   "metadata": {},
   "source": [
    "Linear Regression for moring rush during working day"
   ]
  },
  {
   "cell_type": "code",
   "execution_count": null,
   "metadata": {},
   "outputs": [
    {
     "data": {
      "text/html": [
       "<style>#sk-container-id-21 {color: black;}#sk-container-id-21 pre{padding: 0;}#sk-container-id-21 div.sk-toggleable {background-color: white;}#sk-container-id-21 label.sk-toggleable__label {cursor: pointer;display: block;width: 100%;margin-bottom: 0;padding: 0.3em;box-sizing: border-box;text-align: center;}#sk-container-id-21 label.sk-toggleable__label-arrow:before {content: \"▸\";float: left;margin-right: 0.25em;color: #696969;}#sk-container-id-21 label.sk-toggleable__label-arrow:hover:before {color: black;}#sk-container-id-21 div.sk-estimator:hover label.sk-toggleable__label-arrow:before {color: black;}#sk-container-id-21 div.sk-toggleable__content {max-height: 0;max-width: 0;overflow: hidden;text-align: left;background-color: #f0f8ff;}#sk-container-id-21 div.sk-toggleable__content pre {margin: 0.2em;color: black;border-radius: 0.25em;background-color: #f0f8ff;}#sk-container-id-21 input.sk-toggleable__control:checked~div.sk-toggleable__content {max-height: 200px;max-width: 100%;overflow: auto;}#sk-container-id-21 input.sk-toggleable__control:checked~label.sk-toggleable__label-arrow:before {content: \"▾\";}#sk-container-id-21 div.sk-estimator input.sk-toggleable__control:checked~label.sk-toggleable__label {background-color: #d4ebff;}#sk-container-id-21 div.sk-label input.sk-toggleable__control:checked~label.sk-toggleable__label {background-color: #d4ebff;}#sk-container-id-21 input.sk-hidden--visually {border: 0;clip: rect(1px 1px 1px 1px);clip: rect(1px, 1px, 1px, 1px);height: 1px;margin: -1px;overflow: hidden;padding: 0;position: absolute;width: 1px;}#sk-container-id-21 div.sk-estimator {font-family: monospace;background-color: #f0f8ff;border: 1px dotted black;border-radius: 0.25em;box-sizing: border-box;margin-bottom: 0.5em;}#sk-container-id-21 div.sk-estimator:hover {background-color: #d4ebff;}#sk-container-id-21 div.sk-parallel-item::after {content: \"\";width: 100%;border-bottom: 1px solid gray;flex-grow: 1;}#sk-container-id-21 div.sk-label:hover label.sk-toggleable__label {background-color: #d4ebff;}#sk-container-id-21 div.sk-serial::before {content: \"\";position: absolute;border-left: 1px solid gray;box-sizing: border-box;top: 0;bottom: 0;left: 50%;z-index: 0;}#sk-container-id-21 div.sk-serial {display: flex;flex-direction: column;align-items: center;background-color: white;padding-right: 0.2em;padding-left: 0.2em;position: relative;}#sk-container-id-21 div.sk-item {position: relative;z-index: 1;}#sk-container-id-21 div.sk-parallel {display: flex;align-items: stretch;justify-content: center;background-color: white;position: relative;}#sk-container-id-21 div.sk-item::before, #sk-container-id-21 div.sk-parallel-item::before {content: \"\";position: absolute;border-left: 1px solid gray;box-sizing: border-box;top: 0;bottom: 0;left: 50%;z-index: -1;}#sk-container-id-21 div.sk-parallel-item {display: flex;flex-direction: column;z-index: 1;position: relative;background-color: white;}#sk-container-id-21 div.sk-parallel-item:first-child::after {align-self: flex-end;width: 50%;}#sk-container-id-21 div.sk-parallel-item:last-child::after {align-self: flex-start;width: 50%;}#sk-container-id-21 div.sk-parallel-item:only-child::after {width: 0;}#sk-container-id-21 div.sk-dashed-wrapped {border: 1px dashed gray;margin: 0 0.4em 0.5em 0.4em;box-sizing: border-box;padding-bottom: 0.4em;background-color: white;}#sk-container-id-21 div.sk-label label {font-family: monospace;font-weight: bold;display: inline-block;line-height: 1.2em;}#sk-container-id-21 div.sk-label-container {text-align: center;}#sk-container-id-21 div.sk-container {/* jupyter's `normalize.less` sets `[hidden] { display: none; }` but bootstrap.min.css set `[hidden] { display: none !important; }` so we also need the `!important` here to be able to override the default hidden behavior on the sphinx rendered scikit-learn.org. See: https://github.com/scikit-learn/scikit-learn/issues/21755 */display: inline-block !important;position: relative;}#sk-container-id-21 div.sk-text-repr-fallback {display: none;}</style><div id=\"sk-container-id-21\" class=\"sk-top-container\"><div class=\"sk-text-repr-fallback\"><pre>LinearRegression()</pre><b>In a Jupyter environment, please rerun this cell to show the HTML representation or trust the notebook. <br />On GitHub, the HTML representation is unable to render, please try loading this page with nbviewer.org.</b></div><div class=\"sk-container\" hidden><div class=\"sk-item\"><div class=\"sk-estimator sk-toggleable\"><input class=\"sk-toggleable__control sk-hidden--visually\" id=\"sk-estimator-id-21\" type=\"checkbox\" checked><label for=\"sk-estimator-id-21\" class=\"sk-toggleable__label sk-toggleable__label-arrow\">LinearRegression</label><div class=\"sk-toggleable__content\"><pre>LinearRegression()</pre></div></div></div></div></div>"
      ],
      "text/plain": [
       "LinearRegression()"
      ]
     },
     "execution_count": 307,
     "metadata": {},
     "output_type": "execute_result"
    }
   ],
   "source": [
    "lr_morning=LinearRegression()\n",
    "lr_morning.fit(morning_X_train,morning_y_train)"
   ]
  },
  {
   "cell_type": "markdown",
   "metadata": {},
   "source": [
    "Predict"
   ]
  },
  {
   "cell_type": "code",
   "execution_count": null,
   "metadata": {},
   "outputs": [],
   "source": [
    "morning_y_pred = lr_morning.predict(morning_X_test)\n"
   ]
  },
  {
   "cell_type": "markdown",
   "metadata": {},
   "source": [
    "Evaluate"
   ]
  },
  {
   "cell_type": "code",
   "execution_count": null,
   "metadata": {},
   "outputs": [
    {
     "name": "stdout",
     "output_type": "stream",
     "text": [
      "40714.871140134586\n",
      "0.5130444025126775\n"
     ]
    }
   ],
   "source": [
    "# Evaluate the morning_y_pred\n",
    "mse = mean_squared_error(morning_y_test, morning_y_pred)\n",
    "lr_test_r2=r2_score(morning_y_test,morning_y_pred)\n",
    "print(mse)\n",
    "print(lr_test_r2)"
   ]
  },
  {
   "cell_type": "markdown",
   "metadata": {},
   "source": [
    "Polynomial regresion for Morning rush during working day"
   ]
  },
  {
   "cell_type": "code",
   "execution_count": null,
   "metadata": {},
   "outputs": [
    {
     "name": "stdout",
     "output_type": "stream",
     "text": [
      "Training Set - Mean Squared Error: 15776.641949506027\n",
      "Training Set - R2 Score: 0.8321582663845449\n",
      "Test Set - Mean Squared Error: 20486.534293738587\n",
      "Test Set - R2 Score: 0.7549781623251131\n"
     ]
    }
   ],
   "source": [
    "\n",
    "# Polynomial features transformation\n",
    "poly_features = PolynomialFeatures(degree=3, include_bias=False)\n",
    "X_train_poly = poly_features.fit_transform(morning_X_train)\n",
    "\n",
    "# Train polynomial regression model\n",
    "poly_reg = LinearRegression()\n",
    "poly_reg.fit(X_train_poly, morning_y_train)\n",
    "\n",
    "# Make predictions on the training data\n",
    "y_train_predicted = poly_reg.predict(X_train_poly)\n",
    "\n",
    "# Evaluate model performance on training data\n",
    "mse_train = mean_squared_error(morning_y_train, y_train_predicted)\n",
    "r2_train = r2_score(morning_y_train, y_train_predicted)\n",
    "print(\"Training Set - Mean Squared Error:\", mse_train)\n",
    "print(\"Training Set - R2 Score:\", r2_train)\n",
    "\n",
    "# Visualize the polynomial regression model\n",
    "#plt.scatter(X_train, y_train, color='blue', label='Training data')\n",
    "#plt.plot(X_train, y_train_predicted, color='red', label='Polynomial regression')\n",
    "#plt.title('Polynomial Regression')\n",
    "#plt.xlabel('X')\n",
    "#plt.ylabel('y')\n",
    "#plt.legend()\n",
    "#plt.show()\n",
    "\n",
    "# Transform and Make predictions on the testing data\n",
    "X_test_poly = poly_features.transform(morning_X_test)\n",
    "y_test_predicted = poly_reg.predict(X_test_poly)\n",
    "\n",
    "# Evaluate model performance on test data\n",
    "mse_test = mean_squared_error(morning_y_test, y_test_predicted)\n",
    "r2_test = r2_score(morning_y_test, y_test_predicted)\n",
    "print(\"Test Set - Mean Squared Error:\", mse_test)\n",
    "print(\"Test Set - R2 Score:\", r2_test)"
   ]
  },
  {
   "cell_type": "markdown",
   "metadata": {},
   "source": [
    "Linear Regression for Evening rush hour during working days"
   ]
  },
  {
   "cell_type": "code",
   "execution_count": null,
   "metadata": {},
   "outputs": [
    {
     "data": {
      "text/html": [
       "<style>#sk-container-id-22 {color: black;}#sk-container-id-22 pre{padding: 0;}#sk-container-id-22 div.sk-toggleable {background-color: white;}#sk-container-id-22 label.sk-toggleable__label {cursor: pointer;display: block;width: 100%;margin-bottom: 0;padding: 0.3em;box-sizing: border-box;text-align: center;}#sk-container-id-22 label.sk-toggleable__label-arrow:before {content: \"▸\";float: left;margin-right: 0.25em;color: #696969;}#sk-container-id-22 label.sk-toggleable__label-arrow:hover:before {color: black;}#sk-container-id-22 div.sk-estimator:hover label.sk-toggleable__label-arrow:before {color: black;}#sk-container-id-22 div.sk-toggleable__content {max-height: 0;max-width: 0;overflow: hidden;text-align: left;background-color: #f0f8ff;}#sk-container-id-22 div.sk-toggleable__content pre {margin: 0.2em;color: black;border-radius: 0.25em;background-color: #f0f8ff;}#sk-container-id-22 input.sk-toggleable__control:checked~div.sk-toggleable__content {max-height: 200px;max-width: 100%;overflow: auto;}#sk-container-id-22 input.sk-toggleable__control:checked~label.sk-toggleable__label-arrow:before {content: \"▾\";}#sk-container-id-22 div.sk-estimator input.sk-toggleable__control:checked~label.sk-toggleable__label {background-color: #d4ebff;}#sk-container-id-22 div.sk-label input.sk-toggleable__control:checked~label.sk-toggleable__label {background-color: #d4ebff;}#sk-container-id-22 input.sk-hidden--visually {border: 0;clip: rect(1px 1px 1px 1px);clip: rect(1px, 1px, 1px, 1px);height: 1px;margin: -1px;overflow: hidden;padding: 0;position: absolute;width: 1px;}#sk-container-id-22 div.sk-estimator {font-family: monospace;background-color: #f0f8ff;border: 1px dotted black;border-radius: 0.25em;box-sizing: border-box;margin-bottom: 0.5em;}#sk-container-id-22 div.sk-estimator:hover {background-color: #d4ebff;}#sk-container-id-22 div.sk-parallel-item::after {content: \"\";width: 100%;border-bottom: 1px solid gray;flex-grow: 1;}#sk-container-id-22 div.sk-label:hover label.sk-toggleable__label {background-color: #d4ebff;}#sk-container-id-22 div.sk-serial::before {content: \"\";position: absolute;border-left: 1px solid gray;box-sizing: border-box;top: 0;bottom: 0;left: 50%;z-index: 0;}#sk-container-id-22 div.sk-serial {display: flex;flex-direction: column;align-items: center;background-color: white;padding-right: 0.2em;padding-left: 0.2em;position: relative;}#sk-container-id-22 div.sk-item {position: relative;z-index: 1;}#sk-container-id-22 div.sk-parallel {display: flex;align-items: stretch;justify-content: center;background-color: white;position: relative;}#sk-container-id-22 div.sk-item::before, #sk-container-id-22 div.sk-parallel-item::before {content: \"\";position: absolute;border-left: 1px solid gray;box-sizing: border-box;top: 0;bottom: 0;left: 50%;z-index: -1;}#sk-container-id-22 div.sk-parallel-item {display: flex;flex-direction: column;z-index: 1;position: relative;background-color: white;}#sk-container-id-22 div.sk-parallel-item:first-child::after {align-self: flex-end;width: 50%;}#sk-container-id-22 div.sk-parallel-item:last-child::after {align-self: flex-start;width: 50%;}#sk-container-id-22 div.sk-parallel-item:only-child::after {width: 0;}#sk-container-id-22 div.sk-dashed-wrapped {border: 1px dashed gray;margin: 0 0.4em 0.5em 0.4em;box-sizing: border-box;padding-bottom: 0.4em;background-color: white;}#sk-container-id-22 div.sk-label label {font-family: monospace;font-weight: bold;display: inline-block;line-height: 1.2em;}#sk-container-id-22 div.sk-label-container {text-align: center;}#sk-container-id-22 div.sk-container {/* jupyter's `normalize.less` sets `[hidden] { display: none; }` but bootstrap.min.css set `[hidden] { display: none !important; }` so we also need the `!important` here to be able to override the default hidden behavior on the sphinx rendered scikit-learn.org. See: https://github.com/scikit-learn/scikit-learn/issues/21755 */display: inline-block !important;position: relative;}#sk-container-id-22 div.sk-text-repr-fallback {display: none;}</style><div id=\"sk-container-id-22\" class=\"sk-top-container\"><div class=\"sk-text-repr-fallback\"><pre>LinearRegression()</pre><b>In a Jupyter environment, please rerun this cell to show the HTML representation or trust the notebook. <br />On GitHub, the HTML representation is unable to render, please try loading this page with nbviewer.org.</b></div><div class=\"sk-container\" hidden><div class=\"sk-item\"><div class=\"sk-estimator sk-toggleable\"><input class=\"sk-toggleable__control sk-hidden--visually\" id=\"sk-estimator-id-22\" type=\"checkbox\" checked><label for=\"sk-estimator-id-22\" class=\"sk-toggleable__label sk-toggleable__label-arrow\">LinearRegression</label><div class=\"sk-toggleable__content\"><pre>LinearRegression()</pre></div></div></div></div></div>"
      ],
      "text/plain": [
       "LinearRegression()"
      ]
     },
     "execution_count": 311,
     "metadata": {},
     "output_type": "execute_result"
    }
   ],
   "source": [
    "lr_evening=LinearRegression()\n",
    "lr_evening.fit(evening_X_train,evening_y_train)"
   ]
  },
  {
   "cell_type": "markdown",
   "metadata": {},
   "source": [
    "Predict"
   ]
  },
  {
   "cell_type": "code",
   "execution_count": null,
   "metadata": {},
   "outputs": [],
   "source": [
    "# make prediction\n",
    "evening_y_pred = lr_evening.predict(evening_X_test)\n"
   ]
  },
  {
   "cell_type": "markdown",
   "metadata": {},
   "source": [
    "Evaluate"
   ]
  },
  {
   "cell_type": "code",
   "execution_count": null,
   "metadata": {},
   "outputs": [
    {
     "name": "stdout",
     "output_type": "stream",
     "text": [
      "72232.63888822256\n",
      "0.6433390844792706\n"
     ]
    }
   ],
   "source": [
    "# Evaluate the morning_y_pred\n",
    "mse = mean_squared_error(evening_y_test, evening_y_pred)\n",
    "lr_test_r2=r2_score(evening_y_test,evening_y_pred)\n",
    "print(mse)\n",
    "print(lr_test_r2)"
   ]
  },
  {
   "cell_type": "markdown",
   "metadata": {},
   "source": [
    "Polynomial regresion for Evening rush during working day"
   ]
  },
  {
   "cell_type": "code",
   "execution_count": null,
   "metadata": {},
   "outputs": [
    {
     "name": "stdout",
     "output_type": "stream",
     "text": [
      "Training Set - Mean Squared Error: 30711.90604282512\n",
      "Training Set - R2 Score: 0.8423137991134295\n",
      "Test Set - Mean Squared Error: 46066.27059578055\n",
      "Test Set - R2 Score: 0.7725399694902237\n"
     ]
    }
   ],
   "source": [
    "\n",
    "# Polynomial features transformation\n",
    "poly_features = PolynomialFeatures(degree=3, include_bias=False)\n",
    "X_train_poly_evening = poly_features.fit_transform(evening_X_train)\n",
    "\n",
    "# Train polynomial regression model\n",
    "poly_reg = LinearRegression()\n",
    "poly_reg.fit(X_train_poly_evening, evening_y_train)\n",
    "\n",
    "# Make predictions on the training data\n",
    "y_train_predicted_evening = poly_reg.predict(X_train_poly_evening)\n",
    "\n",
    "# Evaluate model performance on training data\n",
    "mse_train = mean_squared_error(evening_y_train, y_train_predicted_evening)\n",
    "r2_train = r2_score(evening_y_train, y_train_predicted_evening)\n",
    "print(\"Training Set - Mean Squared Error:\", mse_train)\n",
    "print(\"Training Set - R2 Score:\", r2_train)\n",
    "\n",
    "# Visualize the polynomial regression model\n",
    "#plt.scatter(X_train, y_train, color='blue', label='Training data')\n",
    "#plt.plot(X_train, y_train_predicted_evening, color='red', label='Polynomial regression')\n",
    "#plt.title('Polynomial Regression')\n",
    "#plt.xlabel('X')\n",
    "#plt.ylabel('y')\n",
    "#plt.legend()\n",
    "#plt.show()\n",
    "\n",
    "# Transform and Make predictions on the testing data\n",
    "X_test_poly_evening = poly_features.transform(evening_X_test)\n",
    "y_test_predicted_evening = poly_reg.predict(X_test_poly_evening)\n",
    "\n",
    "# Evaluate model performance on test data\n",
    "mse_test = mean_squared_error(evening_y_test, y_test_predicted_evening)\n",
    "r2_test = r2_score(evening_y_test, y_test_predicted_evening)\n",
    "print(\"Test Set - Mean Squared Error:\", mse_test)\n",
    "print(\"Test Set - R2 Score:\", r2_test)"
   ]
  },
  {
   "cell_type": "markdown",
   "metadata": {},
   "source": [
    "Linear Regression for Peak hours during weekends"
   ]
  },
  {
   "cell_type": "code",
   "execution_count": null,
   "metadata": {},
   "outputs": [
    {
     "data": {
      "text/html": [
       "<style>#sk-container-id-23 {color: black;}#sk-container-id-23 pre{padding: 0;}#sk-container-id-23 div.sk-toggleable {background-color: white;}#sk-container-id-23 label.sk-toggleable__label {cursor: pointer;display: block;width: 100%;margin-bottom: 0;padding: 0.3em;box-sizing: border-box;text-align: center;}#sk-container-id-23 label.sk-toggleable__label-arrow:before {content: \"▸\";float: left;margin-right: 0.25em;color: #696969;}#sk-container-id-23 label.sk-toggleable__label-arrow:hover:before {color: black;}#sk-container-id-23 div.sk-estimator:hover label.sk-toggleable__label-arrow:before {color: black;}#sk-container-id-23 div.sk-toggleable__content {max-height: 0;max-width: 0;overflow: hidden;text-align: left;background-color: #f0f8ff;}#sk-container-id-23 div.sk-toggleable__content pre {margin: 0.2em;color: black;border-radius: 0.25em;background-color: #f0f8ff;}#sk-container-id-23 input.sk-toggleable__control:checked~div.sk-toggleable__content {max-height: 200px;max-width: 100%;overflow: auto;}#sk-container-id-23 input.sk-toggleable__control:checked~label.sk-toggleable__label-arrow:before {content: \"▾\";}#sk-container-id-23 div.sk-estimator input.sk-toggleable__control:checked~label.sk-toggleable__label {background-color: #d4ebff;}#sk-container-id-23 div.sk-label input.sk-toggleable__control:checked~label.sk-toggleable__label {background-color: #d4ebff;}#sk-container-id-23 input.sk-hidden--visually {border: 0;clip: rect(1px 1px 1px 1px);clip: rect(1px, 1px, 1px, 1px);height: 1px;margin: -1px;overflow: hidden;padding: 0;position: absolute;width: 1px;}#sk-container-id-23 div.sk-estimator {font-family: monospace;background-color: #f0f8ff;border: 1px dotted black;border-radius: 0.25em;box-sizing: border-box;margin-bottom: 0.5em;}#sk-container-id-23 div.sk-estimator:hover {background-color: #d4ebff;}#sk-container-id-23 div.sk-parallel-item::after {content: \"\";width: 100%;border-bottom: 1px solid gray;flex-grow: 1;}#sk-container-id-23 div.sk-label:hover label.sk-toggleable__label {background-color: #d4ebff;}#sk-container-id-23 div.sk-serial::before {content: \"\";position: absolute;border-left: 1px solid gray;box-sizing: border-box;top: 0;bottom: 0;left: 50%;z-index: 0;}#sk-container-id-23 div.sk-serial {display: flex;flex-direction: column;align-items: center;background-color: white;padding-right: 0.2em;padding-left: 0.2em;position: relative;}#sk-container-id-23 div.sk-item {position: relative;z-index: 1;}#sk-container-id-23 div.sk-parallel {display: flex;align-items: stretch;justify-content: center;background-color: white;position: relative;}#sk-container-id-23 div.sk-item::before, #sk-container-id-23 div.sk-parallel-item::before {content: \"\";position: absolute;border-left: 1px solid gray;box-sizing: border-box;top: 0;bottom: 0;left: 50%;z-index: -1;}#sk-container-id-23 div.sk-parallel-item {display: flex;flex-direction: column;z-index: 1;position: relative;background-color: white;}#sk-container-id-23 div.sk-parallel-item:first-child::after {align-self: flex-end;width: 50%;}#sk-container-id-23 div.sk-parallel-item:last-child::after {align-self: flex-start;width: 50%;}#sk-container-id-23 div.sk-parallel-item:only-child::after {width: 0;}#sk-container-id-23 div.sk-dashed-wrapped {border: 1px dashed gray;margin: 0 0.4em 0.5em 0.4em;box-sizing: border-box;padding-bottom: 0.4em;background-color: white;}#sk-container-id-23 div.sk-label label {font-family: monospace;font-weight: bold;display: inline-block;line-height: 1.2em;}#sk-container-id-23 div.sk-label-container {text-align: center;}#sk-container-id-23 div.sk-container {/* jupyter's `normalize.less` sets `[hidden] { display: none; }` but bootstrap.min.css set `[hidden] { display: none !important; }` so we also need the `!important` here to be able to override the default hidden behavior on the sphinx rendered scikit-learn.org. See: https://github.com/scikit-learn/scikit-learn/issues/21755 */display: inline-block !important;position: relative;}#sk-container-id-23 div.sk-text-repr-fallback {display: none;}</style><div id=\"sk-container-id-23\" class=\"sk-top-container\"><div class=\"sk-text-repr-fallback\"><pre>LinearRegression()</pre><b>In a Jupyter environment, please rerun this cell to show the HTML representation or trust the notebook. <br />On GitHub, the HTML representation is unable to render, please try loading this page with nbviewer.org.</b></div><div class=\"sk-container\" hidden><div class=\"sk-item\"><div class=\"sk-estimator sk-toggleable\"><input class=\"sk-toggleable__control sk-hidden--visually\" id=\"sk-estimator-id-23\" type=\"checkbox\" checked><label for=\"sk-estimator-id-23\" class=\"sk-toggleable__label sk-toggleable__label-arrow\">LinearRegression</label><div class=\"sk-toggleable__content\"><pre>LinearRegression()</pre></div></div></div></div></div>"
      ],
      "text/plain": [
       "LinearRegression()"
      ]
     },
     "execution_count": 315,
     "metadata": {},
     "output_type": "execute_result"
    }
   ],
   "source": [
    "lr_weekend=LinearRegression()\n",
    "lr_weekend.fit(peak_weekend_X_train,peak_weekend_y_train)"
   ]
  },
  {
   "cell_type": "markdown",
   "metadata": {},
   "source": [
    "Predict"
   ]
  },
  {
   "cell_type": "code",
   "execution_count": null,
   "metadata": {},
   "outputs": [],
   "source": [
    "# make prediction\n",
    "weekend_y_pred = lr_weekend.predict(peak_weekend_X_test)\n"
   ]
  },
  {
   "cell_type": "markdown",
   "metadata": {},
   "source": [
    "Evaluate"
   ]
  },
  {
   "cell_type": "code",
   "execution_count": null,
   "metadata": {},
   "outputs": [
    {
     "name": "stdout",
     "output_type": "stream",
     "text": [
      "45551.840727304516\n",
      "0.6253642688237097\n"
     ]
    }
   ],
   "source": [
    "# Evaluate the weekend_y_pred\n",
    "mse = mean_squared_error(peak_weekend_y_test, weekend_y_pred)\n",
    "lr_test_r2=r2_score(peak_weekend_y_test,weekend_y_pred)\n",
    "print(mse)\n",
    "print(lr_test_r2)"
   ]
  },
  {
   "cell_type": "markdown",
   "metadata": {},
   "source": [
    "Polynomial regresion for Peak hours during weekends"
   ]
  },
  {
   "cell_type": "code",
   "execution_count": null,
   "metadata": {},
   "outputs": [
    {
     "name": "stdout",
     "output_type": "stream",
     "text": [
      "Training Set - Mean Squared Error: 23726.869334041174\n",
      "Training Set - R2 Score: 0.8110301760924106\n",
      "Test Set - Mean Squared Error: 31558.803389555225\n",
      "Test Set - R2 Score: 0.740448350843309\n"
     ]
    }
   ],
   "source": [
    "\n",
    "# Polynomial features transformation\n",
    "poly_features = PolynomialFeatures(degree=3, include_bias=False)\n",
    "X_train_poly_weekend = poly_features.fit_transform(peak_weekend_X_train)\n",
    "\n",
    "# Train polynomial regression model\n",
    "poly_reg = LinearRegression()\n",
    "poly_reg.fit(X_train_poly_weekend, peak_weekend_y_train)\n",
    "\n",
    "# Make predictions on the training data\n",
    "y_train_predicted_weekend = poly_reg.predict(X_train_poly_weekend)\n",
    "\n",
    "# Evaluate model performance on training data\n",
    "mse_train = mean_squared_error(peak_weekend_y_train, y_train_predicted_weekend)\n",
    "r2_train = r2_score(peak_weekend_y_train, y_train_predicted_weekend)\n",
    "print(\"Training Set - Mean Squared Error:\", mse_train)\n",
    "print(\"Training Set - R2 Score:\", r2_train)\n",
    "\n",
    "# Visualize the polynomial regression model\n",
    "#plt.scatter(X_train, y_train, color='blue', label='Training data')\n",
    "#plt.plot(X_train, y_train_predicted_weekend, color='red', label='Polynomial regression')\n",
    "#plt.title('Polynomial Regression')\n",
    "#plt.xlabel('X')\n",
    "#plt.ylabel('y')\n",
    "#plt.legend()\n",
    "#plt.show()\n",
    "\n",
    "# Transform and Make predictions on the testing data\n",
    "X_test_poly_weekend = poly_features.transform(peak_weekend_X_test)\n",
    "y_test_predicted_weekend = poly_reg.predict(X_test_poly_weekend)\n",
    "\n",
    "# Evaluate model performance on test data\n",
    "mse_test = mean_squared_error(peak_weekend_y_test, y_test_predicted_weekend)\n",
    "r2_test = r2_score(peak_weekend_y_test, y_test_predicted_weekend)\n",
    "print(\"Test Set - Mean Squared Error:\", mse_test)\n",
    "print(\"Test Set - R2 Score:\", r2_test)"
   ]
  }
 ],
 "metadata": {
  "kernelspec": {
   "display_name": "base",
   "language": "python",
   "name": "python3"
  },
  "language_info": {
   "codemirror_mode": {
    "name": "ipython",
    "version": 3
   },
   "file_extension": ".py",
   "mimetype": "text/x-python",
   "name": "python",
   "nbconvert_exporter": "python",
   "pygments_lexer": "ipython3",
   "version": "3.11.5"
  }
 },
 "nbformat": 4,
 "nbformat_minor": 2
}
